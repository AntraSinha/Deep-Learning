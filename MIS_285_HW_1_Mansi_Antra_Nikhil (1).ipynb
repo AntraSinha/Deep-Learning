{
  "cells": [
    {
      "cell_type": "markdown",
      "metadata": {
        "id": "aiegwaT0eLxv"
      },
      "source": [
        "# Group Members : Mansi Sharma, Antra Sinha, Nikhil Nair"
      ]
    },
    {
      "cell_type": "markdown",
      "metadata": {
        "id": "vMQXDZXXN8q2"
      },
      "source": [
        "# MIS 285N: Homework 1\n",
        "\n",
        "Submit:\n",
        "\n",
        "A pdf of your notebook with solutions.\n",
        "A link to your colab notebook or also upload your .ipynb if not working on colab.\n",
        "\n",
        "# Goals of this Lab\n",
        "\n",
        "**Fully Connected Models and XOR**\n",
        "\n",
        "\n",
        "1. How to create data objects that pytorch can use\n",
        "2. How to create a dataloader\n",
        "3. How to define a basic fully connected single layer model\n",
        "4. How to define a multi-layer fully connected model\n",
        "5. How to add non-linear activation functions.\n",
        "6. How to add layers in two different ways\n",
        "\n",
        "We also see the importance of nonlinear activation functions directly, by experimenting with the simple 4-data-point XOR example that we saw in class.\n"
      ]
    },
    {
      "cell_type": "code",
      "execution_count": 1,
      "metadata": {
        "id": "T6k-hagH8H0l"
      },
      "outputs": [],
      "source": [
        "import torch\n",
        "import numpy as np\n",
        "import time\n",
        "from tqdm.notebook import tqdm"
      ]
    },
    {
      "cell_type": "markdown",
      "metadata": {
        "id": "-LLf1qGBkNx4"
      },
      "source": [
        "# First we define a linear regressor.\n",
        "This is the same as a fully connected layer. It will be a building block in making deeper neural networks with fully connected layers."
      ]
    },
    {
      "cell_type": "code",
      "execution_count": 2,
      "metadata": {
        "id": "5ikI4E7WXrCQ"
      },
      "outputs": [],
      "source": [
        "# We define our first class: LinearRegressor\n",
        "#\n",
        "class LinearRegressor(torch.nn.Module):\n",
        "    def __init__(self, input_dim, output_dim):\n",
        "        \"\"\"\n",
        "        Define the layer(s) needed for the linear model.\n",
        "        \"\"\"\n",
        "        super().__init__()\n",
        "        self.linear = torch.nn.Linear(input_dim, output_dim, bias = True) # just linear\n",
        "\n",
        "    def forward(self, x):\n",
        "        \"\"\"\n",
        "        Calculate the regression score (MSE).\n",
        "\n",
        "        Input:\n",
        "            x (float tensor N x d): input rows\n",
        "        Output:\n",
        "            y (float tensor N x 1): regression output\n",
        "        \"\"\"\n",
        "        x = self.linear(x)\n",
        "        return torch.flatten(x)\n",
        "\n",
        "\n",
        "    # defining a separate predict function is useful for multi-class\n",
        "    # classification as we will see later. Here it is\n",
        "    # unnecessary.\n",
        "\n",
        "    def predict(self, x):\n",
        "        \"\"\"\n",
        "        Predict the regression label of the input vector.\n",
        "\n",
        "        Input:\n",
        "            x (float tensor N X d): input images\n",
        "        Output:\n",
        "            y (float tensor N x 1): regression output\n",
        "        \"\"\"\n",
        "        x = self.linear(x)\n",
        "        return torch.flatten(x)\n",
        "\n",
        "\n"
      ]
    },
    {
      "cell_type": "markdown",
      "metadata": {
        "id": "36zhuTCUkZXT"
      },
      "source": [
        "## Problem 1:\n",
        "\n",
        "Now you will use torch.nn.Sequential (see https://pytorch.org/docs/stable/generated/torch.nn.Sequential.html) to construct a two layer neural network, with two fully connected layers (no non-linearity yet). Thus, you will combine torch.nn.Sequential with torch.nn.Linear that you saw above.\n",
        "\n",
        "\n",
        "Design your network so that the first layer has as many neurons as the input.\n",
        "\n",
        "Note: you have only one line to fill in here."
      ]
    },
    {
      "cell_type": "code",
      "execution_count": 3,
      "metadata": {
        "id": "0LpZdyIOjlr4"
      },
      "outputs": [],
      "source": [
        "class TwoLayerLinearRegressor(torch.nn.Module):\n",
        "    def __init__(self, input_dim, output_dim):\n",
        "        \"\"\"\n",
        "        Define a model that stacks two linear fully connected layers.\n",
        "        \"\"\"\n",
        "        super().__init__()\n",
        "        self.TLL = torch.nn.Sequential(\n",
        "            torch.nn.Linear(input_dim, input_dim),  # First fully connected layer with input_dim neurons\n",
        "            torch.nn.Linear(input_dim, output_dim)  # Second fully connected layer with output_dim neurons\n",
        "        )\n",
        "\n",
        "    def forward(self, x):\n",
        "        \"\"\"\n",
        "        Calculate the regression score (MSE).\n",
        "\n",
        "        Input:\n",
        "            x (float tensor N x d): input rows\n",
        "        Output:\n",
        "            y (float tensor N x 1): regression output\n",
        "        \"\"\"\n",
        "        x = self.TLL(x)\n",
        "        return torch.flatten(x)\n",
        "\n",
        "    def predict(self, x):\n",
        "        \"\"\"\n",
        "        Predict the regression label of the input vector.\n",
        "\n",
        "        Input:\n",
        "            x (float tensor N X d): input images\n",
        "        Output:\n",
        "            y (float tensor N x 1): regression output\n",
        "        \"\"\"\n",
        "        x = self.TLL(x)\n",
        "        return torch.flatten(x)\n",
        "\n",
        "\n",
        "\n",
        "\n"
      ]
    },
    {
      "cell_type": "markdown",
      "metadata": {
        "id": "A9JRe7K3lQx7"
      },
      "source": [
        "## Problem 2\n",
        "\n",
        "Now you will create the same network, but using different syntax: you will not use torch.nn.Sequential. You need to fill in the two lines as noted by the comments."
      ]
    },
    {
      "cell_type": "code",
      "execution_count": 4,
      "metadata": {
        "id": "vZSpFBJdj-Da"
      },
      "outputs": [],
      "source": [
        "class TwoLayerLinearRegressor2(torch.nn.Module):\n",
        "    def __init__(self, input_dim, output_dim):\n",
        "        \"\"\"\n",
        "        Define a model that stacks two linear fully connected layers.\n",
        "        \"\"\"\n",
        "        super().__init__()\n",
        "        self.fc1 = torch.nn.Linear(input_dim, input_dim)  # First fully connected layer with input_dim neurons\n",
        "        self.fc2 = torch.nn.Linear(input_dim, output_dim)  # Second fully connected layer with output_dim neurons\n",
        "\n",
        "\n",
        "    def forward(self, x):\n",
        "        \"\"\"\n",
        "        Calculate the regression score (MSE).\n",
        "\n",
        "        Input:\n",
        "            x (float tensor N x d): input rows\n",
        "        Output:\n",
        "            y (float tensor N x 1): regression output\n",
        "        \"\"\"\n",
        "\n",
        "        x = self.fc1(x)\n",
        "        x = self.fc2(x)\n",
        "        return torch.flatten(x)\n",
        "\n",
        "    def predict(self, x):\n",
        "        \"\"\"\n",
        "        Predict the regression label of the input vector.\n",
        "\n",
        "        Input:\n",
        "            x (float tensor N X d): input images\n",
        "        Output:\n",
        "            y (float tensor N x 1): regression output\n",
        "        \"\"\"\n",
        "        x = self.fc1(x)\n",
        "        x = self.fc2(x)\n",
        "        return torch.flatten(x)\n"
      ]
    },
    {
      "cell_type": "markdown",
      "metadata": {
        "id": "pTKDb01ilnks"
      },
      "source": [
        "## Problem 3\n",
        "\n",
        "Now you will define a 2 layer neural network with ReLU activation at the first layer. In other words:\n",
        "\n",
        "Let $x$ be the input.\n",
        "Then writing $z = Wx + c$, $h=$ReLU$(z)$ is the first layer's neurons. Then the output is $y = w\\cdot z+d$.\n",
        "\n",
        "Create this neural network using the torch.nn.Sequential command. Conceptually, it may help to realize that this neural network is: a fully connected layer followed by a ReLU, followed by a fully connected layer.\n",
        "\n",
        "Also see: https://pytorch.org/docs/stable/generated/torch.nn.ReLU.html\n",
        "\n",
        "Note: You have only one line to fill in here."
      ]
    },
    {
      "cell_type": "code",
      "execution_count": 5,
      "metadata": {
        "id": "031WUqCajrJ_"
      },
      "outputs": [],
      "source": [
        "class TwoLayerNonLinearRegressor(torch.nn.Module):\n",
        "    def __init__(self, input_dim, output_dim):\n",
        "        \"\"\"\n",
        "        Define a model that has a linear layer, a ReLU layer and another linear layer.\n",
        "        \"\"\"\n",
        "        super().__init__()\n",
        "        self.linear = torch.nn.Sequential(\n",
        "            torch.nn.Linear(input_dim, input_dim),  # Linear layer with input_dim neurons\n",
        "            torch.nn.ReLU(),  # ReLU activation function\n",
        "            torch.nn.Linear(input_dim, output_dim)  # Linear layer with output_dim neurons\n",
        "        )\n",
        "\n",
        "    def forward(self, x):\n",
        "        \"\"\"\n",
        "        Calculate the regression score (MSE).\n",
        "\n",
        "        Input:\n",
        "            x (float tensor N x d): input rows\n",
        "        Output:\n",
        "            y (float tensor N x 1): regression output\n",
        "        \"\"\"\n",
        "        x = self.linear(x)\n",
        "        return torch.flatten(x)\n",
        "\n",
        "    def predict(self, x):\n",
        "        \"\"\"\n",
        "        Predict the regression label of the input vector.\n",
        "\n",
        "        Input:\n",
        "            x (float tensor N X d): input images\n",
        "        Output:\n",
        "            y (float tensor N x 1): regression output\n",
        "        \"\"\"\n",
        "        x = self.linear(x)\n",
        "        return torch.flatten(x)\n",
        "\n"
      ]
    },
    {
      "cell_type": "markdown",
      "metadata": {
        "id": "ApkXVRwfmaXj"
      },
      "source": [
        "## Problem 4\n",
        "\n",
        "Do this one more time, but now without torch.nn.Sequential.\n",
        "\n",
        "You have three lines to fill in here."
      ]
    },
    {
      "cell_type": "code",
      "execution_count": 6,
      "metadata": {
        "id": "W7CrOFr8jtdp"
      },
      "outputs": [],
      "source": [
        "# We now do this again, without using nn.sequential\n",
        "# in order to illustrate different syntax.\n",
        "\n",
        "class TwoLayerNonLinearRegressor2(torch.nn.Module):\n",
        "    def __init__(self, input_dim, output_dim):\n",
        "        \"\"\"\n",
        "        Define a model that has a linear layer, a ReLU layer and another linear layer.\n",
        "        \"\"\"\n",
        "        super().__init__()\n",
        "        self.fc1 = torch.nn.Linear(input_dim, input_dim)  # Linear layer with input_dim neurons\n",
        "        self.relu = torch.nn.ReLU()  # ReLU activation function\n",
        "        self.fc2 = torch.nn.Linear(input_dim, output_dim)  # Linear layer with output_dim neurons\n",
        "\n",
        "\n",
        "\n",
        "    def forward(self, x):\n",
        "        \"\"\"\n",
        "        Calculate the regression score (MSE).\n",
        "\n",
        "        Input:\n",
        "            x (float tensor N x d): input rows\n",
        "        Output:\n",
        "            y (float tensor N x 1): regression output\n",
        "        \"\"\"\n",
        "\n",
        "        x = self.fc1(x)\n",
        "        x = self.relu(x)\n",
        "        x = self.fc2(x)\n",
        "        return torch.flatten(x)\n",
        "\n",
        "    def predict(self, x):\n",
        "        \"\"\"\n",
        "        Predict the regression label of the input vector.\n",
        "\n",
        "        Input:\n",
        "            x (float tensor N X d): input images\n",
        "        Output:\n",
        "            y (float tensor N x 1): regression output\n",
        "        \"\"\"\n",
        "        x = self.fc1(x)\n",
        "        x = self.relu(x)\n",
        "        x = self.fc2(x)\n",
        "        return torch.flatten(x)"
      ]
    },
    {
      "cell_type": "markdown",
      "metadata": {
        "id": "7-7v8qRLmk3b"
      },
      "source": [
        "## Problem 5 (Nothing to turn in)\n",
        "\n",
        "Read the documentation https://pytorch.org/docs/stable/optim.html to see what are the options pytorch provides for an optimizer, and what the parameters are."
      ]
    },
    {
      "cell_type": "code",
      "execution_count": 7,
      "metadata": {
        "id": "-gYODAFizPe-"
      },
      "outputs": [],
      "source": [
        "# Now we define a function for training\n",
        "# Note each of the arguments that it takes\n",
        "\n",
        "def train(model, data_train, data_val, device, lr=0.01, epochs=5000):\n",
        "    \"\"\"\n",
        "    Train the model.\n",
        "\n",
        "    Input:\n",
        "      model (torch.nn.Module): the model to train\n",
        "      data_train (torch.utils.data.Dataloader): yields batches of data\n",
        "      data_val (torch.utils.data.Dataloader): use this to validate your model\n",
        "      device (torch.device): which device to use to perform computation\n",
        "\n",
        "      (optional) lr: learning rate hyperparameter\n",
        "      (optional) epochs: number of passes over dataloader\n",
        "    \"\"\"\n",
        "\n",
        "    # Setup the loss function to use: mean squared error\n",
        "    loss_function = torch.nn.MSELoss(reduction = 'sum')\n",
        "\n",
        "    # Setup the optimizer -- just generic ADAM\n",
        "    optimizer = torch.optim.Adam(model.parameters(), lr=lr)\n",
        "\n",
        "    # Wrap in a progress bar.\n",
        "    for epoch in tqdm(range(epochs)):\n",
        "        # Set the model to training mode.\n",
        "        model.train()\n",
        "\n",
        "        for x, y in data_train:\n",
        "            x = x.to(device)\n",
        "            y = y.to(device)\n",
        "\n",
        "            # Forward pass through the network\n",
        "            output = model(x)\n",
        "\n",
        "            # Compute loss\n",
        "            loss = loss_function(output, y)\n",
        "\n",
        "            # update model weights.\n",
        "            optimizer.zero_grad()\n",
        "            loss.backward()\n",
        "            optimizer.step()\n",
        "\n",
        "        # Set the model to eval mode and compute accuracy.\n",
        "        model.eval()\n",
        "\n",
        "        accuracys_val = list()\n",
        "\n",
        "        for x, y in data_val:\n",
        "            x = x.to(device)\n",
        "            y = y.to(device)\n",
        "\n",
        "            y_pred = model.predict(x)"
      ]
    },
    {
      "cell_type": "code",
      "execution_count": 8,
      "metadata": {
        "id": "FObDOykPz16p"
      },
      "outputs": [],
      "source": [
        "# We write a function that takes a model, evaluate on the validation\n",
        "# data set and returns the predictions\n",
        "\n",
        "def evaluate_model(model,data_val,device):\n",
        "  model.eval()\n",
        "  output_vals = list()\n",
        "  accuracys_val = list()\n",
        "  for x, y in data_val:\n",
        "            x = x.to(device)\n",
        "            y = y.to(device)\n",
        "\n",
        "            y_pred = model.predict(x)\n",
        "            output_vals.append(y_pred)\n",
        "            # accuracy_val = (y_pred == y).float().mean().item()\n",
        "            # accuracys_val.append(accuracy_val)\n",
        "\n",
        "  # accuracy = torch.FloatTensor(accuracys_val).mean().item()\n",
        "  return output_vals"
      ]
    },
    {
      "cell_type": "markdown",
      "metadata": {
        "id": "JtZYmSP5m7rT"
      },
      "source": [
        "## Problem 6 (Nothing to turn in)\n",
        "\n",
        "Read the documentation and try to understand what a dataloader is. You can start here https://pytorch.org/docs/stable/data.html but there are many tutorials out there as well."
      ]
    },
    {
      "cell_type": "code",
      "execution_count": 9,
      "metadata": {
        "colab": {
          "base_uri": "https://localhost:8080/",
          "height": 0
        },
        "id": "qtVUvfryzIJC",
        "outputId": "6e37d07f-d919-4acd-f5fd-0cf08b647b80"
      },
      "outputs": [
        {
          "output_type": "stream",
          "name": "stdout",
          "text": [
            "These are the labels:\n",
            " [ 0.33695415 -0.8520051  -1.53992622 -2.34035258 -4.02515816 -0.06205053\n",
            "  0.56452003 -0.34712337 -3.39307138 -1.32522332 -2.48479914  4.17276431\n",
            "  0.11809609  2.75087378  0.54158598]\n",
            "These are the features:\n",
            " [[ 8.87631989e-01 -1.84989143e+00 -1.20028464e+00]\n",
            " [-1.16233390e+00 -7.83080843e-01 -2.36376021e-01]\n",
            " [-9.20701634e-01 -3.52530355e-01 -4.85877472e-01]\n",
            " [-4.06412538e-01  6.06986915e-01 -6.63476565e-01]\n",
            " [-8.76477046e-01 -1.57940154e-01 -1.65331063e+00]\n",
            " [-1.02398981e+00 -2.21225978e-02  4.69908342e-01]\n",
            " [ 1.40884426e+00 -1.28106141e+00 -1.06269282e+00]\n",
            " [-9.51055481e-02  4.56380599e-01  1.02181390e-01]\n",
            " [-1.29968978e+00  1.68917037e+00 -2.02105614e-01]\n",
            " [-5.26502808e-01  7.66512971e-01 -1.61037688e-02]\n",
            " [-1.64079471e+00  1.51266123e-01 -3.46369154e-01]\n",
            " [-3.48491078e-01 -2.01793321e+00  1.25166109e+00]\n",
            " [-1.50245433e-03  9.64863868e-01  5.42231208e-01]\n",
            " [-6.21924249e-01 -1.10320881e+00  1.13479461e+00]\n",
            " [-1.50450213e+00 -1.64204175e-01  9.40941965e-01]]\n"
          ]
        }
      ],
      "source": [
        "# Creating the data: Linear Regression on Linear Data\n",
        "from torch.utils.data import TensorDataset, DataLoader\n",
        "N = 15\n",
        "X = np.random.randn(N,3)\n",
        "beta = np.array([1,-1,2])\n",
        "Y = np.dot(X,beta)\n",
        "tensor_x = torch.Tensor(X) # transform to torch tensor\n",
        "tensor_y = torch.Tensor(Y)\n",
        "print('These are the labels:\\n',Y)\n",
        "print('These are the features:\\n',X)\n",
        "\n",
        "m = 1 # Batch size\n",
        "data = TensorDataset(tensor_x,tensor_y) # create your datset\n",
        "data_train = DataLoader(data,batch_size = m, shuffle = True) # create your dataloader with training data\n",
        "data_val = DataLoader(data) # create your dataloader with validation data, here same as training"
      ]
    },
    {
      "cell_type": "markdown",
      "metadata": {
        "id": "aFTIV3OcnKS8"
      },
      "source": [
        "## Now we train and evaluate the linear model."
      ]
    },
    {
      "cell_type": "code",
      "execution_count": 10,
      "metadata": {
        "colab": {
          "base_uri": "https://localhost:8080/",
          "height": 49,
          "referenced_widgets": [
            "bc77cc3b743a41a7b62433450172ff85",
            "48a4b0531dde4939931fdb5a8bc65373",
            "355dd6d45f1041378767f67d91a8e27b",
            "3015fda089ae4993a3cfc70b9aac3211",
            "91e43a6173d14be3af9eed9ed1433a2c",
            "ab5a360d2a044f1c8fde7f3c60b92ddb",
            "6052469d49534afbb862da5127e46a88",
            "c618794d11774d70ac8c5e0c361f243e",
            "727aee528bf343c3977bcb1d2de279da",
            "03179c22838d4514b375effe5a54a143",
            "b9086b58ac5a4353886f01930b45c1ea"
          ]
        },
        "id": "BdXFWEN41NBt",
        "outputId": "02ad6a62-9b0e-4601-ae64-b6f87324e776"
      },
      "outputs": [
        {
          "output_type": "display_data",
          "data": {
            "text/plain": [
              "  0%|          | 0/5000 [00:00<?, ?it/s]"
            ],
            "application/vnd.jupyter.widget-view+json": {
              "version_major": 2,
              "version_minor": 0,
              "model_id": "bc77cc3b743a41a7b62433450172ff85"
            }
          },
          "metadata": {}
        }
      ],
      "source": [
        "# Define the model we wish to use, and train it.\n",
        "device = torch.device('cuda' if torch.cuda.is_available() else 'cpu')\n",
        "\n",
        "model = LinearRegressor(3, 1)\n",
        "model.to(device)\n",
        "\n",
        "train(model, data_train, data_val, device)"
      ]
    },
    {
      "cell_type": "markdown",
      "metadata": {
        "id": "sw--ClBtnYHV"
      },
      "source": [
        "## Here is some code for getting the parameters of the model."
      ]
    },
    {
      "cell_type": "code",
      "execution_count": 11,
      "metadata": {
        "colab": {
          "base_uri": "https://localhost:8080/",
          "height": 71
        },
        "id": "5hfTNlIjTNCV",
        "outputId": "b815495c-84a1-43aa-c0c5-cc18489a51b9"
      },
      "outputs": [
        {
          "output_type": "stream",
          "name": "stdout",
          "text": [
            "linear.weight tensor([[ 0.9881, -0.9941,  2.0202]])\n",
            "linear.bias tensor([-0.0087])\n"
          ]
        },
        {
          "output_type": "execute_result",
          "data": {
            "text/plain": [
              "'\\nfor name, param in model.named_parameters():\\n    if param.requires_grad:\\n        print (name, param.data)\\n'"
            ],
            "application/vnd.google.colaboratory.intrinsic+json": {
              "type": "string"
            }
          },
          "metadata": {},
          "execution_count": 11
        }
      ],
      "source": [
        "# Now let's get the model parameters.\n",
        "# We can see that we have succeeded in learning beta: [1,-1,2]\n",
        "for name, param in model.named_parameters():\n",
        "  print (name, param.data)\n",
        "\n",
        "# If we wanted to, we could also only print the ones that we update (may be useful for more complex models)\n",
        "\"\"\"\n",
        "for name, param in model.named_parameters():\n",
        "    if param.requires_grad:\n",
        "        print (name, param.data)\n",
        "\"\"\""
      ]
    },
    {
      "cell_type": "code",
      "execution_count": 12,
      "metadata": {
        "colab": {
          "base_uri": "https://localhost:8080/",
          "height": 49,
          "referenced_widgets": [
            "5b50c9eee99540fcaccd327399e90544",
            "fddc55272dc6456e9382f81c711ba66b",
            "e907736068ca4b88a425895fd70ee30d",
            "a259f70936f249f18a2ad3d41c992764",
            "c0cc430f683c456a96cc91df51954cbc",
            "a75362f5e7f741159aaa78a5ebe49e91",
            "7a36483cbfea48b88b84fcb7f660bf12",
            "6a393cd85eb944aaa77387bd69d7e35a",
            "4561cf0bada644cd9843257695c8a8ee",
            "2e073e4303954efb91eb1ea9172bd7e9",
            "d044073154bb440d9c33cb195b793233"
          ]
        },
        "id": "DwrvHtgIFbfl",
        "outputId": "308fc927-6205-4ec9-80ec-1238af065b32"
      },
      "outputs": [
        {
          "output_type": "display_data",
          "data": {
            "text/plain": [
              "  0%|          | 0/5000 [00:00<?, ?it/s]"
            ],
            "application/vnd.jupyter.widget-view+json": {
              "version_major": 2,
              "version_minor": 0,
              "model_id": "5b50c9eee99540fcaccd327399e90544"
            }
          },
          "metadata": {}
        }
      ],
      "source": [
        "# Now let's move to our second model: the two layer linear regressor.\n",
        "# We again define the model using the class we created.\n",
        "# Then we train the model, as above.\n",
        "\n",
        "device = torch.device('cuda' if torch.cuda.is_available() else 'cpu')\n",
        "\n",
        "model2 = TwoLayerLinearRegressor(3, 1)\n",
        "model2.to(device)\n",
        "\n",
        "train(model2, data_train, data_val, device)"
      ]
    },
    {
      "cell_type": "code",
      "execution_count": 13,
      "metadata": {
        "colab": {
          "base_uri": "https://localhost:8080/",
          "height": 0
        },
        "id": "priZSqzc1wrW",
        "outputId": "c08fe1cb-8956-45e3-cb7d-dbe734100ae2"
      },
      "outputs": [
        {
          "output_type": "stream",
          "name": "stdout",
          "text": [
            "Ground Truth:\n",
            " [ 0.33695415 -0.8520051  -1.53992622 -2.34035258 -4.02515816 -0.06205053\n",
            "  0.56452003 -0.34712337 -3.39307138 -1.32522332 -2.48479914  4.17276431\n",
            "  0.11809609  2.75087378  0.54158598]\n",
            "Model Output:\n",
            " [tensor([0.3370], grad_fn=<ViewBackward0>), tensor([-0.8520], grad_fn=<ViewBackward0>), tensor([-1.5400], grad_fn=<ViewBackward0>), tensor([-2.3404], grad_fn=<ViewBackward0>), tensor([-4.0252], grad_fn=<ViewBackward0>), tensor([-0.0621], grad_fn=<ViewBackward0>), tensor([0.5646], grad_fn=<ViewBackward0>), tensor([-0.3471], grad_fn=<ViewBackward0>), tensor([-3.3932], grad_fn=<ViewBackward0>), tensor([-1.3253], grad_fn=<ViewBackward0>), tensor([-2.4849], grad_fn=<ViewBackward0>), tensor([4.1729], grad_fn=<ViewBackward0>), tensor([0.1181], grad_fn=<ViewBackward0>), tensor([2.7509], grad_fn=<ViewBackward0>), tensor([0.5416], grad_fn=<ViewBackward0>)]\n"
          ]
        }
      ],
      "source": [
        "# Let's see how well this model agrees with the training data\n",
        "output_values = evaluate_model(model2,data_val,device)\n",
        "print('Ground Truth:\\n',Y)\n",
        "print('Model Output:\\n',output_values)"
      ]
    },
    {
      "cell_type": "markdown",
      "metadata": {
        "id": "d-oOdWV8C8Nu"
      },
      "source": [
        "# The XOR Data Set\n",
        "We see that linear layers do not suffice."
      ]
    },
    {
      "cell_type": "code",
      "execution_count": 14,
      "metadata": {
        "colab": {
          "base_uri": "https://localhost:8080/",
          "height": 0
        },
        "id": "8Qk0d0DUzt1d",
        "outputId": "aaba3d68-c3ad-4022-d290-8a445f94e3d6"
      },
      "outputs": [
        {
          "output_type": "stream",
          "name": "stdout",
          "text": [
            "These are the labels:\n",
            " [0 1 1 0]\n",
            "These are the features:\n",
            " [[0 0]\n",
            " [0 1]\n",
            " [1 0]\n",
            " [1 1]]\n"
          ]
        }
      ],
      "source": [
        "\"\"\"\n",
        "Here we create the simple XOR data set an a numpy array.\n",
        "Then we make X and Y into tensor objects that torch uses,\n",
        "and we package it into a Dataset object called data.\n",
        "Then we create a DataLoader.\n",
        "\"\"\"\n",
        "\n",
        "Xxor = np.array([[0,0],[0,1],[1,0],[1,1]])\n",
        "Yxor = np.array([0,1,1,0])\n",
        "tensor_xxor = torch.Tensor(Xxor) # transform to torch tensor\n",
        "tensor_yxor = torch.Tensor(Yxor)\n",
        "print('These are the labels:\\n',Yxor)\n",
        "print('These are the features:\\n',Xxor)\n",
        "\n",
        "dataxor = TensorDataset(tensor_xxor,tensor_yxor) # create your datset\n",
        "dataxor_train = DataLoader(dataxor) # create your dataloader with training data\n",
        "dataxor_val = DataLoader(dataxor) # create your dataloader with validation data, here same as training"
      ]
    },
    {
      "cell_type": "markdown",
      "metadata": {
        "id": "CZngJgatnmr2"
      },
      "source": [
        "## Problem 7\n",
        "\n",
        "Train your linear regressor on these data. Now see how well you do, by evaluating your solution on the training data. Remember the values we got in class.\n",
        "\n",
        "Your output here should be predicted values for each of the 4 points in our XOR data set."
      ]
    },
    {
      "cell_type": "code",
      "execution_count": 15,
      "metadata": {
        "colab": {
          "base_uri": "https://localhost:8080/",
          "height": 123,
          "referenced_widgets": [
            "eda3e7d10053414da86f9913c40592c2",
            "320b8a5d20464f26a351ff10127a6f26",
            "a49b9b9bf9914665a728f82733b3b10b",
            "cbfcbc853e8b4eff95daef9e0b3a9271",
            "c58b37fced36498799dad01e42b40bee",
            "d65ac1c9c2bb443f8ae76104bb745f26",
            "836c634682e54cac937ad1d8c46bf37d",
            "424c2386bf3b4dbb985257c5b93636aa",
            "ddc9985bd5c34388b85aa7a52560b96f",
            "7d9027b2289a42f2a1b847de39f8b765",
            "549d55c377004c48b4c5e4223cedd126"
          ]
        },
        "id": "8KJ5-QW8-q1I",
        "outputId": "38ee5962-1ebd-4c74-9789-556c23af8233"
      },
      "outputs": [
        {
          "output_type": "display_data",
          "data": {
            "text/plain": [
              "  0%|          | 0/5000 [00:00<?, ?it/s]"
            ],
            "application/vnd.jupyter.widget-view+json": {
              "version_major": 2,
              "version_minor": 0,
              "model_id": "eda3e7d10053414da86f9913c40592c2"
            }
          },
          "metadata": {}
        },
        {
          "output_type": "stream",
          "name": "stdout",
          "text": [
            "Linear Classifier Predictions:\n",
            "Ground Truth: [0 1 1 0]\n",
            "Predictions: [tensor([0.5012], grad_fn=<ViewBackward0>), tensor([0.5006], grad_fn=<ViewBackward0>), tensor([0.5005], grad_fn=<ViewBackward0>), tensor([0.4999], grad_fn=<ViewBackward0>)]\n"
          ]
        }
      ],
      "source": [
        "# Now we train a linear classifier on these data.\n",
        "# We know (and can verify) that this will fail because no linear classifier can succeed\n",
        "\n",
        "device = torch.device('cuda' if torch.cuda.is_available() else 'cpu')\n",
        "\n",
        "# model3 = # TO DO\n",
        "model3 = LinearRegressor(2, 1)\n",
        "model3.to(device)\n",
        "\n",
        "# TO DO -- give a command to train your model\n",
        "# TO DO -- give a command to evaluate your model\n",
        "# TO DO -- print the ground truth, and then also print what your model predicts for the 4 points in the training set.\n",
        "# Train the linear classifier\n",
        "train(model3, dataxor_train, dataxor_val, device)\n",
        "\n",
        "# Evaluate the linear classifier on the training data\n",
        "output_values_classifier = evaluate_model(model3, dataxor_train, device)\n",
        "\n",
        "print(\"Linear Classifier Predictions:\")\n",
        "print(\"Ground Truth:\", Yxor)\n",
        "print(\"Predictions:\", output_values_classifier)"
      ]
    },
    {
      "cell_type": "markdown",
      "metadata": {
        "id": "mE5JK2I9n9qC"
      },
      "source": [
        "## Problem 8\n",
        "\n",
        "Now repeat this, but using both versions of your non-linear two-layer model. Thus: train both versions of your non-linear two layer models, and evaluate them on the data.  \n",
        "\n",
        "If you did this correctly, the values you compute should equal (approximately) the values of the XOR function."
      ]
    },
    {
      "cell_type": "code",
      "execution_count": 16,
      "metadata": {
        "colab": {
          "base_uri": "https://localhost:8080/",
          "height": 123,
          "referenced_widgets": [
            "8d5cd01160104da9a8f4aad974d0d17c",
            "1d1f813175864474a3afebccbae4576b",
            "1a06c2a7ebbe4467b5dee55f3ebb942f",
            "30c667b3dcff4f629040bfde95817e28",
            "733236b4b9c94dea9e7f690467a07ee4",
            "a54edfeaeffa4b80a0fdf8b2fc9dd443",
            "b3a1b08f9b0b4a6ab0bca6396fb9783f",
            "1edf8995b4564d0bb5af64380a0e5f8c",
            "a2c8a903ae5f444ca1f3b73f0e9f8b81",
            "adc67aa780f94d5f870f9aadf635ef71",
            "92dea16f87c1487d8417b042db055a1c"
          ]
        },
        "id": "ZjREpjoqqkYq",
        "outputId": "53e6d070-a274-410e-c642-d300a188b806"
      },
      "outputs": [
        {
          "output_type": "display_data",
          "data": {
            "text/plain": [
              "  0%|          | 0/5000 [00:00<?, ?it/s]"
            ],
            "application/vnd.jupyter.widget-view+json": {
              "version_major": 2,
              "version_minor": 0,
              "model_id": "8d5cd01160104da9a8f4aad974d0d17c"
            }
          },
          "metadata": {}
        },
        {
          "output_type": "stream",
          "name": "stdout",
          "text": [
            "Linear Classifier Predictions:\n",
            "Ground Truth: [0 1 1 0]\n",
            "Predictions: [tensor([0.6675], grad_fn=<ViewBackward0>), tensor([0.6675], grad_fn=<ViewBackward0>), tensor([0.6675], grad_fn=<ViewBackward0>), tensor([0.0006], grad_fn=<ViewBackward0>)]\n"
          ]
        }
      ],
      "source": [
        "\n",
        "\n",
        "device = torch.device('cuda' if torch.cuda.is_available() else 'cpu')\n",
        "\n",
        "model4 = TwoLayerNonLinearRegressor(2, 1)\n",
        "model4.to(device)\n",
        "\n",
        "train(model4, dataxor_train, dataxor_val, device)\n",
        "\n",
        "# Evaluate the non linear classifier on the training data\n",
        "output_values_classifier_4 = evaluate_model(model4, dataxor_train, device)\n",
        "\n",
        "print(\"Linear Classifier Predictions:\")\n",
        "print(\"Ground Truth:\", Yxor)\n",
        "print(\"Predictions:\", output_values_classifier_4)"
      ]
    },
    {
      "cell_type": "code",
      "execution_count": 17,
      "metadata": {
        "colab": {
          "base_uri": "https://localhost:8080/",
          "height": 123,
          "referenced_widgets": [
            "44b7536ab3714f62ba00f2e5e6f6281e",
            "207e8d89df0b44558806458ff716e17e",
            "44c8633879d24a5e8e470aeadf96ce02",
            "e8337ad974344479a7c063b7f8c9c8cf",
            "f1fa315c198e44eb9078dc3832318452",
            "bdc55954c2cc43ed821fdfa51b90b8a9",
            "99ac6939bf22449fa422185326c11432",
            "18dea914bc7b4d4a8b201e302f1d2cb7",
            "4a84236325fa49fda4d2d1a3d5a7dd3c",
            "47a1f3cc8aea4699a3fb4c0adeaec279",
            "74cce87d265441bcba3c5f5029341216"
          ]
        },
        "id": "Gu7msoaNq7_T",
        "outputId": "64888422-e352-4e37-8855-8ded8c51e285"
      },
      "outputs": [
        {
          "output_type": "display_data",
          "data": {
            "text/plain": [
              "  0%|          | 0/5000 [00:00<?, ?it/s]"
            ],
            "application/vnd.jupyter.widget-view+json": {
              "version_major": 2,
              "version_minor": 0,
              "model_id": "44b7536ab3714f62ba00f2e5e6f6281e"
            }
          },
          "metadata": {}
        },
        {
          "output_type": "stream",
          "name": "stdout",
          "text": [
            "Linear Classifier Predictions:\n",
            "Ground Truth: [0 1 1 0]\n",
            "Predictions: [tensor([0.6675], grad_fn=<ViewBackward0>), tensor([0.6675], grad_fn=<ViewBackward0>), tensor([0.6675], grad_fn=<ViewBackward0>), tensor([0.0006], grad_fn=<ViewBackward0>)]\n"
          ]
        }
      ],
      "source": [
        "\n",
        "\n",
        "device = torch.device('cuda' if torch.cuda.is_available() else 'cpu')\n",
        "\n",
        "model5 = TwoLayerNonLinearRegressor2(2, 1)\n",
        "model5.to(device)\n",
        "\n",
        "train(model5, dataxor_train, dataxor_val, device)\n",
        "\n",
        "# Evaluate the non linear classifier on the training data\n",
        "output_values_classifier_5 = evaluate_model(model5, dataxor_train, device)\n",
        "\n",
        "print(\"Linear Classifier Predictions:\")\n",
        "print(\"Ground Truth:\", Yxor)\n",
        "print(\"Predictions:\", output_values_classifier_5)"
      ]
    },
    {
      "cell_type": "markdown",
      "metadata": {
        "id": "NPRZcvQbpL6K"
      },
      "source": [
        "## Problem 9\n",
        "\n",
        "Print the parameters of one of your non-linear models. Thus, you should print: 4 weights plus 2 bias values for the first layer, and then 2 weights plus 1 bias value for the second: 9 parameters in total."
      ]
    },
    {
      "cell_type": "code",
      "execution_count": 18,
      "metadata": {
        "colab": {
          "base_uri": "https://localhost:8080/",
          "height": 0
        },
        "id": "IPmjltmQrM2H",
        "outputId": "da30a660-e093-4f35-e1f4-8bab1631f9ed"
      },
      "outputs": [
        {
          "output_type": "stream",
          "name": "stdout",
          "text": [
            "Non-Linear Model with nn.Sequential Parameters:\n",
            "linear.0.weight tensor([[ 0.6549,  0.6381],\n",
            "        [ 0.1486, -0.3962]])\n",
            "linear.0.bias tensor([-0.7620, -0.2441])\n",
            "linear.2.weight tensor([[-1.2559, -0.4097]])\n",
            "linear.2.bias tensor([0.6675])\n"
          ]
        }
      ],
      "source": [
        "# Print the parameters of the non-linear model with nn.Sequential\n",
        "print(\"Non-Linear Model with nn.Sequential Parameters:\")\n",
        "for name, param in model4.named_parameters():\n",
        "    print(name, param.data)\n"
      ]
    },
    {
      "cell_type": "code",
      "execution_count": 19,
      "metadata": {
        "colab": {
          "base_uri": "https://localhost:8080/",
          "height": 0
        },
        "id": "WoVjiahmr_p7",
        "outputId": "8219608b-cfe9-4704-ffbf-196ffe6184b2"
      },
      "outputs": [
        {
          "output_type": "stream",
          "name": "stdout",
          "text": [
            "Non-Linear Model with nn.Sequential Parameters:\n",
            "fc1.weight tensor([[-0.6871,  0.1491],\n",
            "        [ 0.7178,  0.6934]])\n",
            "fc1.bias tensor([-0.4360, -0.7681])\n",
            "fc2.weight tensor([[ 0.1822, -1.0369]])\n",
            "fc2.bias tensor([0.6675])\n"
          ]
        }
      ],
      "source": [
        "# Print the parameters of the non-linear model with nn.Sequential\n",
        "print(\"Non-Linear Model with nn.Sequential Parameters:\")\n",
        "for name, param in model5.named_parameters():\n",
        "    print(name, param.data)\n"
      ]
    }
  ],
  "metadata": {
    "colab": {
      "provenance": []
    },
    "kernelspec": {
      "display_name": "Python 3",
      "name": "python3"
    },
    "language_info": {
      "codemirror_mode": {
        "name": "ipython",
        "version": 3
      },
      "file_extension": ".py",
      "mimetype": "text/x-python",
      "name": "python",
      "nbconvert_exporter": "python",
      "pygments_lexer": "ipython3",
      "version": "3.11.3"
    },
    "widgets": {
      "application/vnd.jupyter.widget-state+json": {
        "bc77cc3b743a41a7b62433450172ff85": {
          "model_module": "@jupyter-widgets/controls",
          "model_name": "HBoxModel",
          "model_module_version": "1.5.0",
          "state": {
            "_dom_classes": [],
            "_model_module": "@jupyter-widgets/controls",
            "_model_module_version": "1.5.0",
            "_model_name": "HBoxModel",
            "_view_count": null,
            "_view_module": "@jupyter-widgets/controls",
            "_view_module_version": "1.5.0",
            "_view_name": "HBoxView",
            "box_style": "",
            "children": [
              "IPY_MODEL_48a4b0531dde4939931fdb5a8bc65373",
              "IPY_MODEL_355dd6d45f1041378767f67d91a8e27b",
              "IPY_MODEL_3015fda089ae4993a3cfc70b9aac3211"
            ],
            "layout": "IPY_MODEL_91e43a6173d14be3af9eed9ed1433a2c"
          }
        },
        "48a4b0531dde4939931fdb5a8bc65373": {
          "model_module": "@jupyter-widgets/controls",
          "model_name": "HTMLModel",
          "model_module_version": "1.5.0",
          "state": {
            "_dom_classes": [],
            "_model_module": "@jupyter-widgets/controls",
            "_model_module_version": "1.5.0",
            "_model_name": "HTMLModel",
            "_view_count": null,
            "_view_module": "@jupyter-widgets/controls",
            "_view_module_version": "1.5.0",
            "_view_name": "HTMLView",
            "description": "",
            "description_tooltip": null,
            "layout": "IPY_MODEL_ab5a360d2a044f1c8fde7f3c60b92ddb",
            "placeholder": "​",
            "style": "IPY_MODEL_6052469d49534afbb862da5127e46a88",
            "value": "100%"
          }
        },
        "355dd6d45f1041378767f67d91a8e27b": {
          "model_module": "@jupyter-widgets/controls",
          "model_name": "FloatProgressModel",
          "model_module_version": "1.5.0",
          "state": {
            "_dom_classes": [],
            "_model_module": "@jupyter-widgets/controls",
            "_model_module_version": "1.5.0",
            "_model_name": "FloatProgressModel",
            "_view_count": null,
            "_view_module": "@jupyter-widgets/controls",
            "_view_module_version": "1.5.0",
            "_view_name": "ProgressView",
            "bar_style": "success",
            "description": "",
            "description_tooltip": null,
            "layout": "IPY_MODEL_c618794d11774d70ac8c5e0c361f243e",
            "max": 5000,
            "min": 0,
            "orientation": "horizontal",
            "style": "IPY_MODEL_727aee528bf343c3977bcb1d2de279da",
            "value": 5000
          }
        },
        "3015fda089ae4993a3cfc70b9aac3211": {
          "model_module": "@jupyter-widgets/controls",
          "model_name": "HTMLModel",
          "model_module_version": "1.5.0",
          "state": {
            "_dom_classes": [],
            "_model_module": "@jupyter-widgets/controls",
            "_model_module_version": "1.5.0",
            "_model_name": "HTMLModel",
            "_view_count": null,
            "_view_module": "@jupyter-widgets/controls",
            "_view_module_version": "1.5.0",
            "_view_name": "HTMLView",
            "description": "",
            "description_tooltip": null,
            "layout": "IPY_MODEL_03179c22838d4514b375effe5a54a143",
            "placeholder": "​",
            "style": "IPY_MODEL_b9086b58ac5a4353886f01930b45c1ea",
            "value": " 5000/5000 [01:33&lt;00:00, 49.94it/s]"
          }
        },
        "91e43a6173d14be3af9eed9ed1433a2c": {
          "model_module": "@jupyter-widgets/base",
          "model_name": "LayoutModel",
          "model_module_version": "1.2.0",
          "state": {
            "_model_module": "@jupyter-widgets/base",
            "_model_module_version": "1.2.0",
            "_model_name": "LayoutModel",
            "_view_count": null,
            "_view_module": "@jupyter-widgets/base",
            "_view_module_version": "1.2.0",
            "_view_name": "LayoutView",
            "align_content": null,
            "align_items": null,
            "align_self": null,
            "border": null,
            "bottom": null,
            "display": null,
            "flex": null,
            "flex_flow": null,
            "grid_area": null,
            "grid_auto_columns": null,
            "grid_auto_flow": null,
            "grid_auto_rows": null,
            "grid_column": null,
            "grid_gap": null,
            "grid_row": null,
            "grid_template_areas": null,
            "grid_template_columns": null,
            "grid_template_rows": null,
            "height": null,
            "justify_content": null,
            "justify_items": null,
            "left": null,
            "margin": null,
            "max_height": null,
            "max_width": null,
            "min_height": null,
            "min_width": null,
            "object_fit": null,
            "object_position": null,
            "order": null,
            "overflow": null,
            "overflow_x": null,
            "overflow_y": null,
            "padding": null,
            "right": null,
            "top": null,
            "visibility": null,
            "width": null
          }
        },
        "ab5a360d2a044f1c8fde7f3c60b92ddb": {
          "model_module": "@jupyter-widgets/base",
          "model_name": "LayoutModel",
          "model_module_version": "1.2.0",
          "state": {
            "_model_module": "@jupyter-widgets/base",
            "_model_module_version": "1.2.0",
            "_model_name": "LayoutModel",
            "_view_count": null,
            "_view_module": "@jupyter-widgets/base",
            "_view_module_version": "1.2.0",
            "_view_name": "LayoutView",
            "align_content": null,
            "align_items": null,
            "align_self": null,
            "border": null,
            "bottom": null,
            "display": null,
            "flex": null,
            "flex_flow": null,
            "grid_area": null,
            "grid_auto_columns": null,
            "grid_auto_flow": null,
            "grid_auto_rows": null,
            "grid_column": null,
            "grid_gap": null,
            "grid_row": null,
            "grid_template_areas": null,
            "grid_template_columns": null,
            "grid_template_rows": null,
            "height": null,
            "justify_content": null,
            "justify_items": null,
            "left": null,
            "margin": null,
            "max_height": null,
            "max_width": null,
            "min_height": null,
            "min_width": null,
            "object_fit": null,
            "object_position": null,
            "order": null,
            "overflow": null,
            "overflow_x": null,
            "overflow_y": null,
            "padding": null,
            "right": null,
            "top": null,
            "visibility": null,
            "width": null
          }
        },
        "6052469d49534afbb862da5127e46a88": {
          "model_module": "@jupyter-widgets/controls",
          "model_name": "DescriptionStyleModel",
          "model_module_version": "1.5.0",
          "state": {
            "_model_module": "@jupyter-widgets/controls",
            "_model_module_version": "1.5.0",
            "_model_name": "DescriptionStyleModel",
            "_view_count": null,
            "_view_module": "@jupyter-widgets/base",
            "_view_module_version": "1.2.0",
            "_view_name": "StyleView",
            "description_width": ""
          }
        },
        "c618794d11774d70ac8c5e0c361f243e": {
          "model_module": "@jupyter-widgets/base",
          "model_name": "LayoutModel",
          "model_module_version": "1.2.0",
          "state": {
            "_model_module": "@jupyter-widgets/base",
            "_model_module_version": "1.2.0",
            "_model_name": "LayoutModel",
            "_view_count": null,
            "_view_module": "@jupyter-widgets/base",
            "_view_module_version": "1.2.0",
            "_view_name": "LayoutView",
            "align_content": null,
            "align_items": null,
            "align_self": null,
            "border": null,
            "bottom": null,
            "display": null,
            "flex": null,
            "flex_flow": null,
            "grid_area": null,
            "grid_auto_columns": null,
            "grid_auto_flow": null,
            "grid_auto_rows": null,
            "grid_column": null,
            "grid_gap": null,
            "grid_row": null,
            "grid_template_areas": null,
            "grid_template_columns": null,
            "grid_template_rows": null,
            "height": null,
            "justify_content": null,
            "justify_items": null,
            "left": null,
            "margin": null,
            "max_height": null,
            "max_width": null,
            "min_height": null,
            "min_width": null,
            "object_fit": null,
            "object_position": null,
            "order": null,
            "overflow": null,
            "overflow_x": null,
            "overflow_y": null,
            "padding": null,
            "right": null,
            "top": null,
            "visibility": null,
            "width": null
          }
        },
        "727aee528bf343c3977bcb1d2de279da": {
          "model_module": "@jupyter-widgets/controls",
          "model_name": "ProgressStyleModel",
          "model_module_version": "1.5.0",
          "state": {
            "_model_module": "@jupyter-widgets/controls",
            "_model_module_version": "1.5.0",
            "_model_name": "ProgressStyleModel",
            "_view_count": null,
            "_view_module": "@jupyter-widgets/base",
            "_view_module_version": "1.2.0",
            "_view_name": "StyleView",
            "bar_color": null,
            "description_width": ""
          }
        },
        "03179c22838d4514b375effe5a54a143": {
          "model_module": "@jupyter-widgets/base",
          "model_name": "LayoutModel",
          "model_module_version": "1.2.0",
          "state": {
            "_model_module": "@jupyter-widgets/base",
            "_model_module_version": "1.2.0",
            "_model_name": "LayoutModel",
            "_view_count": null,
            "_view_module": "@jupyter-widgets/base",
            "_view_module_version": "1.2.0",
            "_view_name": "LayoutView",
            "align_content": null,
            "align_items": null,
            "align_self": null,
            "border": null,
            "bottom": null,
            "display": null,
            "flex": null,
            "flex_flow": null,
            "grid_area": null,
            "grid_auto_columns": null,
            "grid_auto_flow": null,
            "grid_auto_rows": null,
            "grid_column": null,
            "grid_gap": null,
            "grid_row": null,
            "grid_template_areas": null,
            "grid_template_columns": null,
            "grid_template_rows": null,
            "height": null,
            "justify_content": null,
            "justify_items": null,
            "left": null,
            "margin": null,
            "max_height": null,
            "max_width": null,
            "min_height": null,
            "min_width": null,
            "object_fit": null,
            "object_position": null,
            "order": null,
            "overflow": null,
            "overflow_x": null,
            "overflow_y": null,
            "padding": null,
            "right": null,
            "top": null,
            "visibility": null,
            "width": null
          }
        },
        "b9086b58ac5a4353886f01930b45c1ea": {
          "model_module": "@jupyter-widgets/controls",
          "model_name": "DescriptionStyleModel",
          "model_module_version": "1.5.0",
          "state": {
            "_model_module": "@jupyter-widgets/controls",
            "_model_module_version": "1.5.0",
            "_model_name": "DescriptionStyleModel",
            "_view_count": null,
            "_view_module": "@jupyter-widgets/base",
            "_view_module_version": "1.2.0",
            "_view_name": "StyleView",
            "description_width": ""
          }
        },
        "5b50c9eee99540fcaccd327399e90544": {
          "model_module": "@jupyter-widgets/controls",
          "model_name": "HBoxModel",
          "model_module_version": "1.5.0",
          "state": {
            "_dom_classes": [],
            "_model_module": "@jupyter-widgets/controls",
            "_model_module_version": "1.5.0",
            "_model_name": "HBoxModel",
            "_view_count": null,
            "_view_module": "@jupyter-widgets/controls",
            "_view_module_version": "1.5.0",
            "_view_name": "HBoxView",
            "box_style": "",
            "children": [
              "IPY_MODEL_fddc55272dc6456e9382f81c711ba66b",
              "IPY_MODEL_e907736068ca4b88a425895fd70ee30d",
              "IPY_MODEL_a259f70936f249f18a2ad3d41c992764"
            ],
            "layout": "IPY_MODEL_c0cc430f683c456a96cc91df51954cbc"
          }
        },
        "fddc55272dc6456e9382f81c711ba66b": {
          "model_module": "@jupyter-widgets/controls",
          "model_name": "HTMLModel",
          "model_module_version": "1.5.0",
          "state": {
            "_dom_classes": [],
            "_model_module": "@jupyter-widgets/controls",
            "_model_module_version": "1.5.0",
            "_model_name": "HTMLModel",
            "_view_count": null,
            "_view_module": "@jupyter-widgets/controls",
            "_view_module_version": "1.5.0",
            "_view_name": "HTMLView",
            "description": "",
            "description_tooltip": null,
            "layout": "IPY_MODEL_a75362f5e7f741159aaa78a5ebe49e91",
            "placeholder": "​",
            "style": "IPY_MODEL_7a36483cbfea48b88b84fcb7f660bf12",
            "value": "100%"
          }
        },
        "e907736068ca4b88a425895fd70ee30d": {
          "model_module": "@jupyter-widgets/controls",
          "model_name": "FloatProgressModel",
          "model_module_version": "1.5.0",
          "state": {
            "_dom_classes": [],
            "_model_module": "@jupyter-widgets/controls",
            "_model_module_version": "1.5.0",
            "_model_name": "FloatProgressModel",
            "_view_count": null,
            "_view_module": "@jupyter-widgets/controls",
            "_view_module_version": "1.5.0",
            "_view_name": "ProgressView",
            "bar_style": "success",
            "description": "",
            "description_tooltip": null,
            "layout": "IPY_MODEL_6a393cd85eb944aaa77387bd69d7e35a",
            "max": 5000,
            "min": 0,
            "orientation": "horizontal",
            "style": "IPY_MODEL_4561cf0bada644cd9843257695c8a8ee",
            "value": 5000
          }
        },
        "a259f70936f249f18a2ad3d41c992764": {
          "model_module": "@jupyter-widgets/controls",
          "model_name": "HTMLModel",
          "model_module_version": "1.5.0",
          "state": {
            "_dom_classes": [],
            "_model_module": "@jupyter-widgets/controls",
            "_model_module_version": "1.5.0",
            "_model_name": "HTMLModel",
            "_view_count": null,
            "_view_module": "@jupyter-widgets/controls",
            "_view_module_version": "1.5.0",
            "_view_name": "HTMLView",
            "description": "",
            "description_tooltip": null,
            "layout": "IPY_MODEL_2e073e4303954efb91eb1ea9172bd7e9",
            "placeholder": "​",
            "style": "IPY_MODEL_d044073154bb440d9c33cb195b793233",
            "value": " 5000/5000 [02:02&lt;00:00, 34.64it/s]"
          }
        },
        "c0cc430f683c456a96cc91df51954cbc": {
          "model_module": "@jupyter-widgets/base",
          "model_name": "LayoutModel",
          "model_module_version": "1.2.0",
          "state": {
            "_model_module": "@jupyter-widgets/base",
            "_model_module_version": "1.2.0",
            "_model_name": "LayoutModel",
            "_view_count": null,
            "_view_module": "@jupyter-widgets/base",
            "_view_module_version": "1.2.0",
            "_view_name": "LayoutView",
            "align_content": null,
            "align_items": null,
            "align_self": null,
            "border": null,
            "bottom": null,
            "display": null,
            "flex": null,
            "flex_flow": null,
            "grid_area": null,
            "grid_auto_columns": null,
            "grid_auto_flow": null,
            "grid_auto_rows": null,
            "grid_column": null,
            "grid_gap": null,
            "grid_row": null,
            "grid_template_areas": null,
            "grid_template_columns": null,
            "grid_template_rows": null,
            "height": null,
            "justify_content": null,
            "justify_items": null,
            "left": null,
            "margin": null,
            "max_height": null,
            "max_width": null,
            "min_height": null,
            "min_width": null,
            "object_fit": null,
            "object_position": null,
            "order": null,
            "overflow": null,
            "overflow_x": null,
            "overflow_y": null,
            "padding": null,
            "right": null,
            "top": null,
            "visibility": null,
            "width": null
          }
        },
        "a75362f5e7f741159aaa78a5ebe49e91": {
          "model_module": "@jupyter-widgets/base",
          "model_name": "LayoutModel",
          "model_module_version": "1.2.0",
          "state": {
            "_model_module": "@jupyter-widgets/base",
            "_model_module_version": "1.2.0",
            "_model_name": "LayoutModel",
            "_view_count": null,
            "_view_module": "@jupyter-widgets/base",
            "_view_module_version": "1.2.0",
            "_view_name": "LayoutView",
            "align_content": null,
            "align_items": null,
            "align_self": null,
            "border": null,
            "bottom": null,
            "display": null,
            "flex": null,
            "flex_flow": null,
            "grid_area": null,
            "grid_auto_columns": null,
            "grid_auto_flow": null,
            "grid_auto_rows": null,
            "grid_column": null,
            "grid_gap": null,
            "grid_row": null,
            "grid_template_areas": null,
            "grid_template_columns": null,
            "grid_template_rows": null,
            "height": null,
            "justify_content": null,
            "justify_items": null,
            "left": null,
            "margin": null,
            "max_height": null,
            "max_width": null,
            "min_height": null,
            "min_width": null,
            "object_fit": null,
            "object_position": null,
            "order": null,
            "overflow": null,
            "overflow_x": null,
            "overflow_y": null,
            "padding": null,
            "right": null,
            "top": null,
            "visibility": null,
            "width": null
          }
        },
        "7a36483cbfea48b88b84fcb7f660bf12": {
          "model_module": "@jupyter-widgets/controls",
          "model_name": "DescriptionStyleModel",
          "model_module_version": "1.5.0",
          "state": {
            "_model_module": "@jupyter-widgets/controls",
            "_model_module_version": "1.5.0",
            "_model_name": "DescriptionStyleModel",
            "_view_count": null,
            "_view_module": "@jupyter-widgets/base",
            "_view_module_version": "1.2.0",
            "_view_name": "StyleView",
            "description_width": ""
          }
        },
        "6a393cd85eb944aaa77387bd69d7e35a": {
          "model_module": "@jupyter-widgets/base",
          "model_name": "LayoutModel",
          "model_module_version": "1.2.0",
          "state": {
            "_model_module": "@jupyter-widgets/base",
            "_model_module_version": "1.2.0",
            "_model_name": "LayoutModel",
            "_view_count": null,
            "_view_module": "@jupyter-widgets/base",
            "_view_module_version": "1.2.0",
            "_view_name": "LayoutView",
            "align_content": null,
            "align_items": null,
            "align_self": null,
            "border": null,
            "bottom": null,
            "display": null,
            "flex": null,
            "flex_flow": null,
            "grid_area": null,
            "grid_auto_columns": null,
            "grid_auto_flow": null,
            "grid_auto_rows": null,
            "grid_column": null,
            "grid_gap": null,
            "grid_row": null,
            "grid_template_areas": null,
            "grid_template_columns": null,
            "grid_template_rows": null,
            "height": null,
            "justify_content": null,
            "justify_items": null,
            "left": null,
            "margin": null,
            "max_height": null,
            "max_width": null,
            "min_height": null,
            "min_width": null,
            "object_fit": null,
            "object_position": null,
            "order": null,
            "overflow": null,
            "overflow_x": null,
            "overflow_y": null,
            "padding": null,
            "right": null,
            "top": null,
            "visibility": null,
            "width": null
          }
        },
        "4561cf0bada644cd9843257695c8a8ee": {
          "model_module": "@jupyter-widgets/controls",
          "model_name": "ProgressStyleModel",
          "model_module_version": "1.5.0",
          "state": {
            "_model_module": "@jupyter-widgets/controls",
            "_model_module_version": "1.5.0",
            "_model_name": "ProgressStyleModel",
            "_view_count": null,
            "_view_module": "@jupyter-widgets/base",
            "_view_module_version": "1.2.0",
            "_view_name": "StyleView",
            "bar_color": null,
            "description_width": ""
          }
        },
        "2e073e4303954efb91eb1ea9172bd7e9": {
          "model_module": "@jupyter-widgets/base",
          "model_name": "LayoutModel",
          "model_module_version": "1.2.0",
          "state": {
            "_model_module": "@jupyter-widgets/base",
            "_model_module_version": "1.2.0",
            "_model_name": "LayoutModel",
            "_view_count": null,
            "_view_module": "@jupyter-widgets/base",
            "_view_module_version": "1.2.0",
            "_view_name": "LayoutView",
            "align_content": null,
            "align_items": null,
            "align_self": null,
            "border": null,
            "bottom": null,
            "display": null,
            "flex": null,
            "flex_flow": null,
            "grid_area": null,
            "grid_auto_columns": null,
            "grid_auto_flow": null,
            "grid_auto_rows": null,
            "grid_column": null,
            "grid_gap": null,
            "grid_row": null,
            "grid_template_areas": null,
            "grid_template_columns": null,
            "grid_template_rows": null,
            "height": null,
            "justify_content": null,
            "justify_items": null,
            "left": null,
            "margin": null,
            "max_height": null,
            "max_width": null,
            "min_height": null,
            "min_width": null,
            "object_fit": null,
            "object_position": null,
            "order": null,
            "overflow": null,
            "overflow_x": null,
            "overflow_y": null,
            "padding": null,
            "right": null,
            "top": null,
            "visibility": null,
            "width": null
          }
        },
        "d044073154bb440d9c33cb195b793233": {
          "model_module": "@jupyter-widgets/controls",
          "model_name": "DescriptionStyleModel",
          "model_module_version": "1.5.0",
          "state": {
            "_model_module": "@jupyter-widgets/controls",
            "_model_module_version": "1.5.0",
            "_model_name": "DescriptionStyleModel",
            "_view_count": null,
            "_view_module": "@jupyter-widgets/base",
            "_view_module_version": "1.2.0",
            "_view_name": "StyleView",
            "description_width": ""
          }
        },
        "eda3e7d10053414da86f9913c40592c2": {
          "model_module": "@jupyter-widgets/controls",
          "model_name": "HBoxModel",
          "model_module_version": "1.5.0",
          "state": {
            "_dom_classes": [],
            "_model_module": "@jupyter-widgets/controls",
            "_model_module_version": "1.5.0",
            "_model_name": "HBoxModel",
            "_view_count": null,
            "_view_module": "@jupyter-widgets/controls",
            "_view_module_version": "1.5.0",
            "_view_name": "HBoxView",
            "box_style": "",
            "children": [
              "IPY_MODEL_320b8a5d20464f26a351ff10127a6f26",
              "IPY_MODEL_a49b9b9bf9914665a728f82733b3b10b",
              "IPY_MODEL_cbfcbc853e8b4eff95daef9e0b3a9271"
            ],
            "layout": "IPY_MODEL_c58b37fced36498799dad01e42b40bee"
          }
        },
        "320b8a5d20464f26a351ff10127a6f26": {
          "model_module": "@jupyter-widgets/controls",
          "model_name": "HTMLModel",
          "model_module_version": "1.5.0",
          "state": {
            "_dom_classes": [],
            "_model_module": "@jupyter-widgets/controls",
            "_model_module_version": "1.5.0",
            "_model_name": "HTMLModel",
            "_view_count": null,
            "_view_module": "@jupyter-widgets/controls",
            "_view_module_version": "1.5.0",
            "_view_name": "HTMLView",
            "description": "",
            "description_tooltip": null,
            "layout": "IPY_MODEL_d65ac1c9c2bb443f8ae76104bb745f26",
            "placeholder": "​",
            "style": "IPY_MODEL_836c634682e54cac937ad1d8c46bf37d",
            "value": "100%"
          }
        },
        "a49b9b9bf9914665a728f82733b3b10b": {
          "model_module": "@jupyter-widgets/controls",
          "model_name": "FloatProgressModel",
          "model_module_version": "1.5.0",
          "state": {
            "_dom_classes": [],
            "_model_module": "@jupyter-widgets/controls",
            "_model_module_version": "1.5.0",
            "_model_name": "FloatProgressModel",
            "_view_count": null,
            "_view_module": "@jupyter-widgets/controls",
            "_view_module_version": "1.5.0",
            "_view_name": "ProgressView",
            "bar_style": "success",
            "description": "",
            "description_tooltip": null,
            "layout": "IPY_MODEL_424c2386bf3b4dbb985257c5b93636aa",
            "max": 5000,
            "min": 0,
            "orientation": "horizontal",
            "style": "IPY_MODEL_ddc9985bd5c34388b85aa7a52560b96f",
            "value": 5000
          }
        },
        "cbfcbc853e8b4eff95daef9e0b3a9271": {
          "model_module": "@jupyter-widgets/controls",
          "model_name": "HTMLModel",
          "model_module_version": "1.5.0",
          "state": {
            "_dom_classes": [],
            "_model_module": "@jupyter-widgets/controls",
            "_model_module_version": "1.5.0",
            "_model_name": "HTMLModel",
            "_view_count": null,
            "_view_module": "@jupyter-widgets/controls",
            "_view_module_version": "1.5.0",
            "_view_name": "HTMLView",
            "description": "",
            "description_tooltip": null,
            "layout": "IPY_MODEL_7d9027b2289a42f2a1b847de39f8b765",
            "placeholder": "​",
            "style": "IPY_MODEL_549d55c377004c48b4c5e4223cedd126",
            "value": " 5000/5000 [00:31&lt;00:00, 242.40it/s]"
          }
        },
        "c58b37fced36498799dad01e42b40bee": {
          "model_module": "@jupyter-widgets/base",
          "model_name": "LayoutModel",
          "model_module_version": "1.2.0",
          "state": {
            "_model_module": "@jupyter-widgets/base",
            "_model_module_version": "1.2.0",
            "_model_name": "LayoutModel",
            "_view_count": null,
            "_view_module": "@jupyter-widgets/base",
            "_view_module_version": "1.2.0",
            "_view_name": "LayoutView",
            "align_content": null,
            "align_items": null,
            "align_self": null,
            "border": null,
            "bottom": null,
            "display": null,
            "flex": null,
            "flex_flow": null,
            "grid_area": null,
            "grid_auto_columns": null,
            "grid_auto_flow": null,
            "grid_auto_rows": null,
            "grid_column": null,
            "grid_gap": null,
            "grid_row": null,
            "grid_template_areas": null,
            "grid_template_columns": null,
            "grid_template_rows": null,
            "height": null,
            "justify_content": null,
            "justify_items": null,
            "left": null,
            "margin": null,
            "max_height": null,
            "max_width": null,
            "min_height": null,
            "min_width": null,
            "object_fit": null,
            "object_position": null,
            "order": null,
            "overflow": null,
            "overflow_x": null,
            "overflow_y": null,
            "padding": null,
            "right": null,
            "top": null,
            "visibility": null,
            "width": null
          }
        },
        "d65ac1c9c2bb443f8ae76104bb745f26": {
          "model_module": "@jupyter-widgets/base",
          "model_name": "LayoutModel",
          "model_module_version": "1.2.0",
          "state": {
            "_model_module": "@jupyter-widgets/base",
            "_model_module_version": "1.2.0",
            "_model_name": "LayoutModel",
            "_view_count": null,
            "_view_module": "@jupyter-widgets/base",
            "_view_module_version": "1.2.0",
            "_view_name": "LayoutView",
            "align_content": null,
            "align_items": null,
            "align_self": null,
            "border": null,
            "bottom": null,
            "display": null,
            "flex": null,
            "flex_flow": null,
            "grid_area": null,
            "grid_auto_columns": null,
            "grid_auto_flow": null,
            "grid_auto_rows": null,
            "grid_column": null,
            "grid_gap": null,
            "grid_row": null,
            "grid_template_areas": null,
            "grid_template_columns": null,
            "grid_template_rows": null,
            "height": null,
            "justify_content": null,
            "justify_items": null,
            "left": null,
            "margin": null,
            "max_height": null,
            "max_width": null,
            "min_height": null,
            "min_width": null,
            "object_fit": null,
            "object_position": null,
            "order": null,
            "overflow": null,
            "overflow_x": null,
            "overflow_y": null,
            "padding": null,
            "right": null,
            "top": null,
            "visibility": null,
            "width": null
          }
        },
        "836c634682e54cac937ad1d8c46bf37d": {
          "model_module": "@jupyter-widgets/controls",
          "model_name": "DescriptionStyleModel",
          "model_module_version": "1.5.0",
          "state": {
            "_model_module": "@jupyter-widgets/controls",
            "_model_module_version": "1.5.0",
            "_model_name": "DescriptionStyleModel",
            "_view_count": null,
            "_view_module": "@jupyter-widgets/base",
            "_view_module_version": "1.2.0",
            "_view_name": "StyleView",
            "description_width": ""
          }
        },
        "424c2386bf3b4dbb985257c5b93636aa": {
          "model_module": "@jupyter-widgets/base",
          "model_name": "LayoutModel",
          "model_module_version": "1.2.0",
          "state": {
            "_model_module": "@jupyter-widgets/base",
            "_model_module_version": "1.2.0",
            "_model_name": "LayoutModel",
            "_view_count": null,
            "_view_module": "@jupyter-widgets/base",
            "_view_module_version": "1.2.0",
            "_view_name": "LayoutView",
            "align_content": null,
            "align_items": null,
            "align_self": null,
            "border": null,
            "bottom": null,
            "display": null,
            "flex": null,
            "flex_flow": null,
            "grid_area": null,
            "grid_auto_columns": null,
            "grid_auto_flow": null,
            "grid_auto_rows": null,
            "grid_column": null,
            "grid_gap": null,
            "grid_row": null,
            "grid_template_areas": null,
            "grid_template_columns": null,
            "grid_template_rows": null,
            "height": null,
            "justify_content": null,
            "justify_items": null,
            "left": null,
            "margin": null,
            "max_height": null,
            "max_width": null,
            "min_height": null,
            "min_width": null,
            "object_fit": null,
            "object_position": null,
            "order": null,
            "overflow": null,
            "overflow_x": null,
            "overflow_y": null,
            "padding": null,
            "right": null,
            "top": null,
            "visibility": null,
            "width": null
          }
        },
        "ddc9985bd5c34388b85aa7a52560b96f": {
          "model_module": "@jupyter-widgets/controls",
          "model_name": "ProgressStyleModel",
          "model_module_version": "1.5.0",
          "state": {
            "_model_module": "@jupyter-widgets/controls",
            "_model_module_version": "1.5.0",
            "_model_name": "ProgressStyleModel",
            "_view_count": null,
            "_view_module": "@jupyter-widgets/base",
            "_view_module_version": "1.2.0",
            "_view_name": "StyleView",
            "bar_color": null,
            "description_width": ""
          }
        },
        "7d9027b2289a42f2a1b847de39f8b765": {
          "model_module": "@jupyter-widgets/base",
          "model_name": "LayoutModel",
          "model_module_version": "1.2.0",
          "state": {
            "_model_module": "@jupyter-widgets/base",
            "_model_module_version": "1.2.0",
            "_model_name": "LayoutModel",
            "_view_count": null,
            "_view_module": "@jupyter-widgets/base",
            "_view_module_version": "1.2.0",
            "_view_name": "LayoutView",
            "align_content": null,
            "align_items": null,
            "align_self": null,
            "border": null,
            "bottom": null,
            "display": null,
            "flex": null,
            "flex_flow": null,
            "grid_area": null,
            "grid_auto_columns": null,
            "grid_auto_flow": null,
            "grid_auto_rows": null,
            "grid_column": null,
            "grid_gap": null,
            "grid_row": null,
            "grid_template_areas": null,
            "grid_template_columns": null,
            "grid_template_rows": null,
            "height": null,
            "justify_content": null,
            "justify_items": null,
            "left": null,
            "margin": null,
            "max_height": null,
            "max_width": null,
            "min_height": null,
            "min_width": null,
            "object_fit": null,
            "object_position": null,
            "order": null,
            "overflow": null,
            "overflow_x": null,
            "overflow_y": null,
            "padding": null,
            "right": null,
            "top": null,
            "visibility": null,
            "width": null
          }
        },
        "549d55c377004c48b4c5e4223cedd126": {
          "model_module": "@jupyter-widgets/controls",
          "model_name": "DescriptionStyleModel",
          "model_module_version": "1.5.0",
          "state": {
            "_model_module": "@jupyter-widgets/controls",
            "_model_module_version": "1.5.0",
            "_model_name": "DescriptionStyleModel",
            "_view_count": null,
            "_view_module": "@jupyter-widgets/base",
            "_view_module_version": "1.2.0",
            "_view_name": "StyleView",
            "description_width": ""
          }
        },
        "8d5cd01160104da9a8f4aad974d0d17c": {
          "model_module": "@jupyter-widgets/controls",
          "model_name": "HBoxModel",
          "model_module_version": "1.5.0",
          "state": {
            "_dom_classes": [],
            "_model_module": "@jupyter-widgets/controls",
            "_model_module_version": "1.5.0",
            "_model_name": "HBoxModel",
            "_view_count": null,
            "_view_module": "@jupyter-widgets/controls",
            "_view_module_version": "1.5.0",
            "_view_name": "HBoxView",
            "box_style": "",
            "children": [
              "IPY_MODEL_1d1f813175864474a3afebccbae4576b",
              "IPY_MODEL_1a06c2a7ebbe4467b5dee55f3ebb942f",
              "IPY_MODEL_30c667b3dcff4f629040bfde95817e28"
            ],
            "layout": "IPY_MODEL_733236b4b9c94dea9e7f690467a07ee4"
          }
        },
        "1d1f813175864474a3afebccbae4576b": {
          "model_module": "@jupyter-widgets/controls",
          "model_name": "HTMLModel",
          "model_module_version": "1.5.0",
          "state": {
            "_dom_classes": [],
            "_model_module": "@jupyter-widgets/controls",
            "_model_module_version": "1.5.0",
            "_model_name": "HTMLModel",
            "_view_count": null,
            "_view_module": "@jupyter-widgets/controls",
            "_view_module_version": "1.5.0",
            "_view_name": "HTMLView",
            "description": "",
            "description_tooltip": null,
            "layout": "IPY_MODEL_a54edfeaeffa4b80a0fdf8b2fc9dd443",
            "placeholder": "​",
            "style": "IPY_MODEL_b3a1b08f9b0b4a6ab0bca6396fb9783f",
            "value": "100%"
          }
        },
        "1a06c2a7ebbe4467b5dee55f3ebb942f": {
          "model_module": "@jupyter-widgets/controls",
          "model_name": "FloatProgressModel",
          "model_module_version": "1.5.0",
          "state": {
            "_dom_classes": [],
            "_model_module": "@jupyter-widgets/controls",
            "_model_module_version": "1.5.0",
            "_model_name": "FloatProgressModel",
            "_view_count": null,
            "_view_module": "@jupyter-widgets/controls",
            "_view_module_version": "1.5.0",
            "_view_name": "ProgressView",
            "bar_style": "success",
            "description": "",
            "description_tooltip": null,
            "layout": "IPY_MODEL_1edf8995b4564d0bb5af64380a0e5f8c",
            "max": 5000,
            "min": 0,
            "orientation": "horizontal",
            "style": "IPY_MODEL_a2c8a903ae5f444ca1f3b73f0e9f8b81",
            "value": 5000
          }
        },
        "30c667b3dcff4f629040bfde95817e28": {
          "model_module": "@jupyter-widgets/controls",
          "model_name": "HTMLModel",
          "model_module_version": "1.5.0",
          "state": {
            "_dom_classes": [],
            "_model_module": "@jupyter-widgets/controls",
            "_model_module_version": "1.5.0",
            "_model_name": "HTMLModel",
            "_view_count": null,
            "_view_module": "@jupyter-widgets/controls",
            "_view_module_version": "1.5.0",
            "_view_name": "HTMLView",
            "description": "",
            "description_tooltip": null,
            "layout": "IPY_MODEL_adc67aa780f94d5f870f9aadf635ef71",
            "placeholder": "​",
            "style": "IPY_MODEL_92dea16f87c1487d8417b042db055a1c",
            "value": " 5000/5000 [00:33&lt;00:00, 145.19it/s]"
          }
        },
        "733236b4b9c94dea9e7f690467a07ee4": {
          "model_module": "@jupyter-widgets/base",
          "model_name": "LayoutModel",
          "model_module_version": "1.2.0",
          "state": {
            "_model_module": "@jupyter-widgets/base",
            "_model_module_version": "1.2.0",
            "_model_name": "LayoutModel",
            "_view_count": null,
            "_view_module": "@jupyter-widgets/base",
            "_view_module_version": "1.2.0",
            "_view_name": "LayoutView",
            "align_content": null,
            "align_items": null,
            "align_self": null,
            "border": null,
            "bottom": null,
            "display": null,
            "flex": null,
            "flex_flow": null,
            "grid_area": null,
            "grid_auto_columns": null,
            "grid_auto_flow": null,
            "grid_auto_rows": null,
            "grid_column": null,
            "grid_gap": null,
            "grid_row": null,
            "grid_template_areas": null,
            "grid_template_columns": null,
            "grid_template_rows": null,
            "height": null,
            "justify_content": null,
            "justify_items": null,
            "left": null,
            "margin": null,
            "max_height": null,
            "max_width": null,
            "min_height": null,
            "min_width": null,
            "object_fit": null,
            "object_position": null,
            "order": null,
            "overflow": null,
            "overflow_x": null,
            "overflow_y": null,
            "padding": null,
            "right": null,
            "top": null,
            "visibility": null,
            "width": null
          }
        },
        "a54edfeaeffa4b80a0fdf8b2fc9dd443": {
          "model_module": "@jupyter-widgets/base",
          "model_name": "LayoutModel",
          "model_module_version": "1.2.0",
          "state": {
            "_model_module": "@jupyter-widgets/base",
            "_model_module_version": "1.2.0",
            "_model_name": "LayoutModel",
            "_view_count": null,
            "_view_module": "@jupyter-widgets/base",
            "_view_module_version": "1.2.0",
            "_view_name": "LayoutView",
            "align_content": null,
            "align_items": null,
            "align_self": null,
            "border": null,
            "bottom": null,
            "display": null,
            "flex": null,
            "flex_flow": null,
            "grid_area": null,
            "grid_auto_columns": null,
            "grid_auto_flow": null,
            "grid_auto_rows": null,
            "grid_column": null,
            "grid_gap": null,
            "grid_row": null,
            "grid_template_areas": null,
            "grid_template_columns": null,
            "grid_template_rows": null,
            "height": null,
            "justify_content": null,
            "justify_items": null,
            "left": null,
            "margin": null,
            "max_height": null,
            "max_width": null,
            "min_height": null,
            "min_width": null,
            "object_fit": null,
            "object_position": null,
            "order": null,
            "overflow": null,
            "overflow_x": null,
            "overflow_y": null,
            "padding": null,
            "right": null,
            "top": null,
            "visibility": null,
            "width": null
          }
        },
        "b3a1b08f9b0b4a6ab0bca6396fb9783f": {
          "model_module": "@jupyter-widgets/controls",
          "model_name": "DescriptionStyleModel",
          "model_module_version": "1.5.0",
          "state": {
            "_model_module": "@jupyter-widgets/controls",
            "_model_module_version": "1.5.0",
            "_model_name": "DescriptionStyleModel",
            "_view_count": null,
            "_view_module": "@jupyter-widgets/base",
            "_view_module_version": "1.2.0",
            "_view_name": "StyleView",
            "description_width": ""
          }
        },
        "1edf8995b4564d0bb5af64380a0e5f8c": {
          "model_module": "@jupyter-widgets/base",
          "model_name": "LayoutModel",
          "model_module_version": "1.2.0",
          "state": {
            "_model_module": "@jupyter-widgets/base",
            "_model_module_version": "1.2.0",
            "_model_name": "LayoutModel",
            "_view_count": null,
            "_view_module": "@jupyter-widgets/base",
            "_view_module_version": "1.2.0",
            "_view_name": "LayoutView",
            "align_content": null,
            "align_items": null,
            "align_self": null,
            "border": null,
            "bottom": null,
            "display": null,
            "flex": null,
            "flex_flow": null,
            "grid_area": null,
            "grid_auto_columns": null,
            "grid_auto_flow": null,
            "grid_auto_rows": null,
            "grid_column": null,
            "grid_gap": null,
            "grid_row": null,
            "grid_template_areas": null,
            "grid_template_columns": null,
            "grid_template_rows": null,
            "height": null,
            "justify_content": null,
            "justify_items": null,
            "left": null,
            "margin": null,
            "max_height": null,
            "max_width": null,
            "min_height": null,
            "min_width": null,
            "object_fit": null,
            "object_position": null,
            "order": null,
            "overflow": null,
            "overflow_x": null,
            "overflow_y": null,
            "padding": null,
            "right": null,
            "top": null,
            "visibility": null,
            "width": null
          }
        },
        "a2c8a903ae5f444ca1f3b73f0e9f8b81": {
          "model_module": "@jupyter-widgets/controls",
          "model_name": "ProgressStyleModel",
          "model_module_version": "1.5.0",
          "state": {
            "_model_module": "@jupyter-widgets/controls",
            "_model_module_version": "1.5.0",
            "_model_name": "ProgressStyleModel",
            "_view_count": null,
            "_view_module": "@jupyter-widgets/base",
            "_view_module_version": "1.2.0",
            "_view_name": "StyleView",
            "bar_color": null,
            "description_width": ""
          }
        },
        "adc67aa780f94d5f870f9aadf635ef71": {
          "model_module": "@jupyter-widgets/base",
          "model_name": "LayoutModel",
          "model_module_version": "1.2.0",
          "state": {
            "_model_module": "@jupyter-widgets/base",
            "_model_module_version": "1.2.0",
            "_model_name": "LayoutModel",
            "_view_count": null,
            "_view_module": "@jupyter-widgets/base",
            "_view_module_version": "1.2.0",
            "_view_name": "LayoutView",
            "align_content": null,
            "align_items": null,
            "align_self": null,
            "border": null,
            "bottom": null,
            "display": null,
            "flex": null,
            "flex_flow": null,
            "grid_area": null,
            "grid_auto_columns": null,
            "grid_auto_flow": null,
            "grid_auto_rows": null,
            "grid_column": null,
            "grid_gap": null,
            "grid_row": null,
            "grid_template_areas": null,
            "grid_template_columns": null,
            "grid_template_rows": null,
            "height": null,
            "justify_content": null,
            "justify_items": null,
            "left": null,
            "margin": null,
            "max_height": null,
            "max_width": null,
            "min_height": null,
            "min_width": null,
            "object_fit": null,
            "object_position": null,
            "order": null,
            "overflow": null,
            "overflow_x": null,
            "overflow_y": null,
            "padding": null,
            "right": null,
            "top": null,
            "visibility": null,
            "width": null
          }
        },
        "92dea16f87c1487d8417b042db055a1c": {
          "model_module": "@jupyter-widgets/controls",
          "model_name": "DescriptionStyleModel",
          "model_module_version": "1.5.0",
          "state": {
            "_model_module": "@jupyter-widgets/controls",
            "_model_module_version": "1.5.0",
            "_model_name": "DescriptionStyleModel",
            "_view_count": null,
            "_view_module": "@jupyter-widgets/base",
            "_view_module_version": "1.2.0",
            "_view_name": "StyleView",
            "description_width": ""
          }
        },
        "44b7536ab3714f62ba00f2e5e6f6281e": {
          "model_module": "@jupyter-widgets/controls",
          "model_name": "HBoxModel",
          "model_module_version": "1.5.0",
          "state": {
            "_dom_classes": [],
            "_model_module": "@jupyter-widgets/controls",
            "_model_module_version": "1.5.0",
            "_model_name": "HBoxModel",
            "_view_count": null,
            "_view_module": "@jupyter-widgets/controls",
            "_view_module_version": "1.5.0",
            "_view_name": "HBoxView",
            "box_style": "",
            "children": [
              "IPY_MODEL_207e8d89df0b44558806458ff716e17e",
              "IPY_MODEL_44c8633879d24a5e8e470aeadf96ce02",
              "IPY_MODEL_e8337ad974344479a7c063b7f8c9c8cf"
            ],
            "layout": "IPY_MODEL_f1fa315c198e44eb9078dc3832318452"
          }
        },
        "207e8d89df0b44558806458ff716e17e": {
          "model_module": "@jupyter-widgets/controls",
          "model_name": "HTMLModel",
          "model_module_version": "1.5.0",
          "state": {
            "_dom_classes": [],
            "_model_module": "@jupyter-widgets/controls",
            "_model_module_version": "1.5.0",
            "_model_name": "HTMLModel",
            "_view_count": null,
            "_view_module": "@jupyter-widgets/controls",
            "_view_module_version": "1.5.0",
            "_view_name": "HTMLView",
            "description": "",
            "description_tooltip": null,
            "layout": "IPY_MODEL_bdc55954c2cc43ed821fdfa51b90b8a9",
            "placeholder": "​",
            "style": "IPY_MODEL_99ac6939bf22449fa422185326c11432",
            "value": "100%"
          }
        },
        "44c8633879d24a5e8e470aeadf96ce02": {
          "model_module": "@jupyter-widgets/controls",
          "model_name": "FloatProgressModel",
          "model_module_version": "1.5.0",
          "state": {
            "_dom_classes": [],
            "_model_module": "@jupyter-widgets/controls",
            "_model_module_version": "1.5.0",
            "_model_name": "FloatProgressModel",
            "_view_count": null,
            "_view_module": "@jupyter-widgets/controls",
            "_view_module_version": "1.5.0",
            "_view_name": "ProgressView",
            "bar_style": "success",
            "description": "",
            "description_tooltip": null,
            "layout": "IPY_MODEL_18dea914bc7b4d4a8b201e302f1d2cb7",
            "max": 5000,
            "min": 0,
            "orientation": "horizontal",
            "style": "IPY_MODEL_4a84236325fa49fda4d2d1a3d5a7dd3c",
            "value": 5000
          }
        },
        "e8337ad974344479a7c063b7f8c9c8cf": {
          "model_module": "@jupyter-widgets/controls",
          "model_name": "HTMLModel",
          "model_module_version": "1.5.0",
          "state": {
            "_dom_classes": [],
            "_model_module": "@jupyter-widgets/controls",
            "_model_module_version": "1.5.0",
            "_model_name": "HTMLModel",
            "_view_count": null,
            "_view_module": "@jupyter-widgets/controls",
            "_view_module_version": "1.5.0",
            "_view_name": "HTMLView",
            "description": "",
            "description_tooltip": null,
            "layout": "IPY_MODEL_47a1f3cc8aea4699a3fb4c0adeaec279",
            "placeholder": "​",
            "style": "IPY_MODEL_74cce87d265441bcba3c5f5029341216",
            "value": " 5000/5000 [00:35&lt;00:00, 173.27it/s]"
          }
        },
        "f1fa315c198e44eb9078dc3832318452": {
          "model_module": "@jupyter-widgets/base",
          "model_name": "LayoutModel",
          "model_module_version": "1.2.0",
          "state": {
            "_model_module": "@jupyter-widgets/base",
            "_model_module_version": "1.2.0",
            "_model_name": "LayoutModel",
            "_view_count": null,
            "_view_module": "@jupyter-widgets/base",
            "_view_module_version": "1.2.0",
            "_view_name": "LayoutView",
            "align_content": null,
            "align_items": null,
            "align_self": null,
            "border": null,
            "bottom": null,
            "display": null,
            "flex": null,
            "flex_flow": null,
            "grid_area": null,
            "grid_auto_columns": null,
            "grid_auto_flow": null,
            "grid_auto_rows": null,
            "grid_column": null,
            "grid_gap": null,
            "grid_row": null,
            "grid_template_areas": null,
            "grid_template_columns": null,
            "grid_template_rows": null,
            "height": null,
            "justify_content": null,
            "justify_items": null,
            "left": null,
            "margin": null,
            "max_height": null,
            "max_width": null,
            "min_height": null,
            "min_width": null,
            "object_fit": null,
            "object_position": null,
            "order": null,
            "overflow": null,
            "overflow_x": null,
            "overflow_y": null,
            "padding": null,
            "right": null,
            "top": null,
            "visibility": null,
            "width": null
          }
        },
        "bdc55954c2cc43ed821fdfa51b90b8a9": {
          "model_module": "@jupyter-widgets/base",
          "model_name": "LayoutModel",
          "model_module_version": "1.2.0",
          "state": {
            "_model_module": "@jupyter-widgets/base",
            "_model_module_version": "1.2.0",
            "_model_name": "LayoutModel",
            "_view_count": null,
            "_view_module": "@jupyter-widgets/base",
            "_view_module_version": "1.2.0",
            "_view_name": "LayoutView",
            "align_content": null,
            "align_items": null,
            "align_self": null,
            "border": null,
            "bottom": null,
            "display": null,
            "flex": null,
            "flex_flow": null,
            "grid_area": null,
            "grid_auto_columns": null,
            "grid_auto_flow": null,
            "grid_auto_rows": null,
            "grid_column": null,
            "grid_gap": null,
            "grid_row": null,
            "grid_template_areas": null,
            "grid_template_columns": null,
            "grid_template_rows": null,
            "height": null,
            "justify_content": null,
            "justify_items": null,
            "left": null,
            "margin": null,
            "max_height": null,
            "max_width": null,
            "min_height": null,
            "min_width": null,
            "object_fit": null,
            "object_position": null,
            "order": null,
            "overflow": null,
            "overflow_x": null,
            "overflow_y": null,
            "padding": null,
            "right": null,
            "top": null,
            "visibility": null,
            "width": null
          }
        },
        "99ac6939bf22449fa422185326c11432": {
          "model_module": "@jupyter-widgets/controls",
          "model_name": "DescriptionStyleModel",
          "model_module_version": "1.5.0",
          "state": {
            "_model_module": "@jupyter-widgets/controls",
            "_model_module_version": "1.5.0",
            "_model_name": "DescriptionStyleModel",
            "_view_count": null,
            "_view_module": "@jupyter-widgets/base",
            "_view_module_version": "1.2.0",
            "_view_name": "StyleView",
            "description_width": ""
          }
        },
        "18dea914bc7b4d4a8b201e302f1d2cb7": {
          "model_module": "@jupyter-widgets/base",
          "model_name": "LayoutModel",
          "model_module_version": "1.2.0",
          "state": {
            "_model_module": "@jupyter-widgets/base",
            "_model_module_version": "1.2.0",
            "_model_name": "LayoutModel",
            "_view_count": null,
            "_view_module": "@jupyter-widgets/base",
            "_view_module_version": "1.2.0",
            "_view_name": "LayoutView",
            "align_content": null,
            "align_items": null,
            "align_self": null,
            "border": null,
            "bottom": null,
            "display": null,
            "flex": null,
            "flex_flow": null,
            "grid_area": null,
            "grid_auto_columns": null,
            "grid_auto_flow": null,
            "grid_auto_rows": null,
            "grid_column": null,
            "grid_gap": null,
            "grid_row": null,
            "grid_template_areas": null,
            "grid_template_columns": null,
            "grid_template_rows": null,
            "height": null,
            "justify_content": null,
            "justify_items": null,
            "left": null,
            "margin": null,
            "max_height": null,
            "max_width": null,
            "min_height": null,
            "min_width": null,
            "object_fit": null,
            "object_position": null,
            "order": null,
            "overflow": null,
            "overflow_x": null,
            "overflow_y": null,
            "padding": null,
            "right": null,
            "top": null,
            "visibility": null,
            "width": null
          }
        },
        "4a84236325fa49fda4d2d1a3d5a7dd3c": {
          "model_module": "@jupyter-widgets/controls",
          "model_name": "ProgressStyleModel",
          "model_module_version": "1.5.0",
          "state": {
            "_model_module": "@jupyter-widgets/controls",
            "_model_module_version": "1.5.0",
            "_model_name": "ProgressStyleModel",
            "_view_count": null,
            "_view_module": "@jupyter-widgets/base",
            "_view_module_version": "1.2.0",
            "_view_name": "StyleView",
            "bar_color": null,
            "description_width": ""
          }
        },
        "47a1f3cc8aea4699a3fb4c0adeaec279": {
          "model_module": "@jupyter-widgets/base",
          "model_name": "LayoutModel",
          "model_module_version": "1.2.0",
          "state": {
            "_model_module": "@jupyter-widgets/base",
            "_model_module_version": "1.2.0",
            "_model_name": "LayoutModel",
            "_view_count": null,
            "_view_module": "@jupyter-widgets/base",
            "_view_module_version": "1.2.0",
            "_view_name": "LayoutView",
            "align_content": null,
            "align_items": null,
            "align_self": null,
            "border": null,
            "bottom": null,
            "display": null,
            "flex": null,
            "flex_flow": null,
            "grid_area": null,
            "grid_auto_columns": null,
            "grid_auto_flow": null,
            "grid_auto_rows": null,
            "grid_column": null,
            "grid_gap": null,
            "grid_row": null,
            "grid_template_areas": null,
            "grid_template_columns": null,
            "grid_template_rows": null,
            "height": null,
            "justify_content": null,
            "justify_items": null,
            "left": null,
            "margin": null,
            "max_height": null,
            "max_width": null,
            "min_height": null,
            "min_width": null,
            "object_fit": null,
            "object_position": null,
            "order": null,
            "overflow": null,
            "overflow_x": null,
            "overflow_y": null,
            "padding": null,
            "right": null,
            "top": null,
            "visibility": null,
            "width": null
          }
        },
        "74cce87d265441bcba3c5f5029341216": {
          "model_module": "@jupyter-widgets/controls",
          "model_name": "DescriptionStyleModel",
          "model_module_version": "1.5.0",
          "state": {
            "_model_module": "@jupyter-widgets/controls",
            "_model_module_version": "1.5.0",
            "_model_name": "DescriptionStyleModel",
            "_view_count": null,
            "_view_module": "@jupyter-widgets/base",
            "_view_module_version": "1.2.0",
            "_view_name": "StyleView",
            "description_width": ""
          }
        }
      }
    }
  },
  "nbformat": 4,
  "nbformat_minor": 0
}