{
  "cells": [
    {
      "cell_type": "markdown",
      "metadata": {
        "id": "view-in-github",
        "colab_type": "text"
      },
      "source": [
        "<a href=\"https://colab.research.google.com/github/AntraSinha/Deep-Learning/blob/main/MIS_285_HW_2_ms_nn_as.ipynb\" target=\"_parent\"><img src=\"https://colab.research.google.com/assets/colab-badge.svg\" alt=\"Open In Colab\"/></a>"
      ]
    },
    {
      "cell_type": "markdown",
      "metadata": {
        "id": "oRTAl1-iJ-C2"
      },
      "source": [
        "## Group Members : Mansi Sharma, Nikhil Nair, Antra Sinha"
      ]
    },
    {
      "cell_type": "markdown",
      "metadata": {
        "id": "JI3k8xslN-dv"
      },
      "source": [
        "# MIS 285N Homework 2\n",
        "**Due: Monday, February 5, 11:59 pm**\n",
        "\n",
        "Submit:\n",
        "\n",
        "A pdf of your notebook with solutions.\n",
        "A link to your colab notebook or also upload your .ipynb if not working on colab.\n",
        "\n",
        "# Goals of this Homework\n",
        "\n",
        "There are a number of goals of this notebook:\n",
        "\n",
        "1.   Learning to put together a basic model beyond what we did in the previous notebook. Main emphasis: new layers, including convolution and max pooling.\n",
        "2.   Learning the basics of training.\n",
        "3.   Learning basics of loading data and visualizing.\n",
        "4.   Learning the basics of printing out a model.\n",
        "\n",
        "Also useful to see\n",
        "https://pytorch.org/tutorials/beginner/blitz/cifar10_tutorial.html\n",
        "\n",
        "\n",
        "\n",
        "<img src=\"https://miro.medium.com/max/2510/1*vkQ0hXDaQv57sALXAJquxA.jpeg\" width=1024px/>"
      ]
    },
    {
      "cell_type": "code",
      "execution_count": 8,
      "metadata": {
        "id": "8p9fen4rODkN",
        "colab": {
          "base_uri": "https://localhost:8080/"
        },
        "outputId": "dd66a3a4-92b2-4725-b52c-59698b020f89"
      },
      "outputs": [
        {
          "output_type": "stream",
          "name": "stdout",
          "text": [
            "Files already downloaded and verified\n",
            "Files already downloaded and verified\n"
          ]
        }
      ],
      "source": [
        "import torchvision\n",
        "import torchvision.transforms as transforms\n",
        "import torch\n",
        "import torch.nn as nn\n",
        "import torch.nn.functional as F\n",
        "import matplotlib.pyplot as plt\n",
        "\n",
        "\n",
        "classes = ['plane', 'car', 'bird', 'cat', 'deer', 'dog', 'frog', 'horse', 'ship', 'truck']\n",
        "\n",
        "batch_size = 4\n",
        "\n",
        "# the tutorial calls the dataloader twice -- this code defines a function\n",
        "# that will do this for the train/test data.\n",
        "\n",
        "def fetch_dataloader(batch_size, transform=None, is_train=True):\n",
        "    \"\"\"\n",
        "    We saw the data loaders in the previous hw.\n",
        "    This creates a method for us to get (image, label) pairs.\n",
        "    We can use it so that we do not have to load everything into memory\n",
        "    at once.\n",
        "    \"\"\"\n",
        "    data = torchvision.datasets.CIFAR10(root='./data', train=True, download=True, transform=transform)\n",
        "\n",
        "    # Custom train/val split.\n",
        "    indices = [i for i in range(len(data)) if (i%10 > 0) == is_train]\n",
        "\n",
        "    data = torch.utils.data.Subset(data, indices)\n",
        "    loader = torch.utils.data.DataLoader(data, batch_size=batch_size, shuffle=True, num_workers=2)\n",
        "    return loader\n",
        "\n",
        "\n",
        "train_transform = transforms.Compose(\n",
        "    [transforms.ToTensor(),\n",
        "     transforms.Normalize((0.5, 0.5, 0.5), (0.5, 0.5, 0.5))])\n",
        "\n",
        "val_transform = transforms.Compose(\n",
        "    [transforms.ToTensor(),\n",
        "     transforms.Normalize((0.5, 0.5, 0.5), (0.5, 0.5, 0.5))])\n",
        "\n",
        "data_train = fetch_dataloader(batch_size, train_transform, is_train=True)\n",
        "data_val = fetch_dataloader(batch_size, val_transform, is_train=False)"
      ]
    },
    {
      "cell_type": "markdown",
      "metadata": {
        "id": "_8Rrhc9mYOCC"
      },
      "source": [
        "## Problem 1 (nothing to turn in)\n",
        "\n",
        "Read about transforms. These are routinely used when loading images. We've used a particular set of parameters. But you will see many other choices.\n",
        "\n",
        "https://pytorch.org/vision/stable/transforms.html\n"
      ]
    },
    {
      "cell_type": "markdown",
      "metadata": {
        "id": "xfBSB388YjYa"
      },
      "source": [
        "## Problem 2\n",
        "\n",
        "Figure out how to use the data loader to display the data.\n",
        "For example, you could look here\n",
        "\n",
        "https://towardsdatascience.com/beginners-guide-to-loading-image-data-with-pytorch-289c60b7afec\n",
        "and then https://stackoverflow.com/questions/51756581/how-do-i-turn-a-pytorch-dataloader-into-a-numpy-array-to-display-image-data-with\n",
        "\n",
        "or you could look at the pytorch CIFAR10 tutorial\n",
        "\n",
        "https://pytorch.org/tutorials/beginner/blitz/cifar10_tutorial.html"
      ]
    },
    {
      "cell_type": "code",
      "execution_count": 9,
      "metadata": {
        "colab": {
          "base_uri": "https://localhost:8080/",
          "height": 437
        },
        "id": "AEURt2lUJ-C6",
        "outputId": "1241108f-9770-4454-bcad-d91b91f34006"
      },
      "outputs": [
        {
          "output_type": "display_data",
          "data": {
            "text/plain": [
              "<Figure size 1000x400 with 4 Axes>"
            ],
            "image/png": "[encoded data removed]"
          },
          "metadata": {}
        },
        {
          "output_type": "display_data",
          "data": {
            "text/plain": [
              "<Figure size 1000x400 with 4 Axes>"
            ],
            "image/png": "[encoded data removed]"
          },
          "metadata": {}
        }
      ],
      "source": [
        "import matplotlib.pyplot as plt\n",
        "import numpy as np\n",
        "\n",
        "# Function to display images with labels\n",
        "def imshow_labels(images, labels):\n",
        "    plt.figure(figsize=(10, 4))\n",
        "    for i in range(len(images)):\n",
        "        plt.subplot(1, len(images), i + 1)\n",
        "        plt.title(classes[labels[i]])\n",
        "        img = images[i] / 2 + 0.5  # unnormalize\n",
        "        npimg = img.numpy()\n",
        "        plt.imshow(np.transpose(npimg, (1, 2, 0)))\n",
        "        plt.axis('off')\n",
        "    plt.show()\n",
        "\n",
        "# Define the function to display images\n",
        "def imshow(img):\n",
        "    img = img / 2 + 0.5\n",
        "    npimg = img.numpy()\n",
        "    plt.imshow(np.transpose(npimg, (1, 2, 0)))\n",
        "    plt.show()\n",
        "\n",
        "# Get some random training images\n",
        "dataiter = iter(data_train)\n",
        "images, labels = next(dataiter)\n",
        "\n",
        "# Show images with labels\n",
        "imshow_labels(images, labels)\n",
        "\n",
        "# Similarly, you can display validation data\n",
        "dataiter_val = iter(data_val)\n",
        "images_val, labels_val = next(dataiter_val)  # Use next() to get the next batch\n",
        "\n",
        "# Show images with labels\n",
        "imshow_labels(images_val, labels_val)\n"
      ]
    },
    {
      "cell_type": "markdown",
      "metadata": {
        "id": "3sgcXSTLOWDg"
      },
      "source": [
        "## Model Implementation.\n",
        "\n",
        "Now it is time to implement our CNN. You will recognize syntax from the previous HW. However, whereas in the last homework we had only fully connected layers and ReLU layers, here we will use more options. In addition to fully connected and ReLU layers, we want to use:\n",
        "\n",
        "* Convolutional layers: `torch.nn.Conv2d`\n",
        "* Max Pooling Layers:`torch.nn.MaxPool2d`\n",
        "* Average Pooling Layers: `torch.nn.AvgPool2d`\n",
        "\n",
        "Fully connected layers primarily had 3 parameters: input size, output size, and bias.\n",
        "\n",
        "Convolutional layers have many more parameters, as we discussed in class, In particular, recall:\n",
        "\n",
        "* kernel_size\n",
        "* stride\n",
        "* padding\n",
        "* dilation\n",
        "\n",
        "Read about these in the Pytorch documentation:\n",
        "\n",
        "https://pytorch.org/docs/stable/generated/torch.nn.Conv2d.html\n"
      ]
    },
    {
      "cell_type": "markdown",
      "metadata": {
        "id": "XsG9L6AUR_S3"
      },
      "source": [
        "Next we see some basic code, similar in spirit to our previous colab notebook, but, critically, adding a new type of layer: a convolutional layer."
      ]
    },
    {
      "cell_type": "code",
      "execution_count": 10,
      "metadata": {
        "id": "mfX01eXCOSPl"
      },
      "outputs": [],
      "source": [
        "# We define two different models, using different syntax.\n",
        "# CNNClassifier is basic code borrowed from Phil Krahenbuhl\n",
        "# ConvNet comes from the pytorch tutorial linked above.\n",
        "#\n",
        "\n",
        "class CNNClassifier(torch.nn.Module):\n",
        "    def __init__(self, input_channels, num_classes):\n",
        "        \"\"\"\n",
        "        Define the layer(s) needed for the model.\n",
        "        Feel free to define additional input arguments.\n",
        "        \"\"\"\n",
        "        super().__init__()\n",
        "        self.conv = nn.Conv2d(input_channels, 16, 7, 2, 3)\n",
        "        self.cls = nn.Linear(16, num_classes)\n",
        "        self.ReLU = nn.ReLU()\n",
        "        # or could do\n",
        "        # self.CNN = nn.Sequential(torch.nn.Conv2d(input_channels, 16, 7, 2, 3), torch.nn.ReLU(),torch.nn.Linear(16, num_classes))\n",
        "\n",
        "    def forward(self, x):\n",
        "        \"\"\"\n",
        "        Calculate the classification score (logits).\n",
        "\n",
        "        Input:\n",
        "            x (float tensor N x 3 x 32 x 32): input images\n",
        "        Output:\n",
        "            y (float tensor N x 10): classification scores (logits) for each class\n",
        "        \"\"\"\n",
        "        x = self.conv(x)\n",
        "\n",
        "        # Add a ReLU\n",
        "        x = self.ReLU(x)\n",
        "        # Add global average pooling\n",
        "        x = x.mean(dim=(2,3))\n",
        "        return self.cls(x)\n",
        "\n",
        "    def predict(self, image):\n",
        "        return self(image).argmax(1)\n",
        "\n",
        "# From the pytorch tutorial linked above.\n",
        "class ConvNet(nn.Module):\n",
        "    def __init__(self):\n",
        "        super().__init__()\n",
        "        self.relu = nn.ReLU()\n",
        "        self.conv1 = nn.Conv2d(3, 6, 5)\n",
        "        self.pool = nn.MaxPool2d(2, 2)\n",
        "        self.conv2 = nn.Conv2d(6, 16, 5)\n",
        "        self.fc1 = nn.Linear(16 * 5 * 5, 120)\n",
        "        self.fc2 = nn.Linear(120, 84)\n",
        "        self.fc3 = nn.Linear(84, 10)\n",
        "\n",
        "    def forward(self, x):\n",
        "        x = self.conv1(x)\n",
        "        x = self.relu(x)\n",
        "        x = self.pool(x)\n",
        "        x = self.conv2(x)\n",
        "        x = self.relu(x)\n",
        "        x = self.pool(x)\n",
        "        x = torch.flatten(x, 1) # flatten all dimensions except batch\n",
        "        x = self.fc1(x)\n",
        "        x = self.relu(x)\n",
        "        x = self.fc2(x)\n",
        "        x = self.relu(x)\n",
        "        x = self.fc3(x)\n",
        "        return x\n",
        "\n",
        "# We can rewrite it equivalently this way\n",
        "class ConvNet2(nn.Module):\n",
        "    def __init__(self):\n",
        "        super().__init__()\n",
        "        self.conv1 = nn.Conv2d(3, 6, 5)\n",
        "        self.pool = nn.MaxPool2d(2, 2)\n",
        "        self.conv2 = nn.Conv2d(6, 16, 5)\n",
        "        self.fc1 = nn.Linear(16 * 5 * 5, 120)\n",
        "        self.fc2 = nn.Linear(120, 84)\n",
        "        self.fc3 = nn.Linear(84, 10)\n",
        "\n",
        "    def forward(self, x):\n",
        "        x = self.pool(F.relu(self.conv1(x)))\n",
        "        x = self.pool(F.relu(self.conv2(x)))\n",
        "        x = torch.flatten(x, 1) # flatten all dimensions except batch\n",
        "        x = F.relu(self.fc1(x))\n",
        "        x = F.relu(self.fc2(x))\n",
        "        x = self.fc3(x)\n",
        "        return x\n",
        "\n",
        "\n",
        "# This way is also equivalent\n",
        "class ConvNet3(nn.Module):\n",
        "    def __init__(self):\n",
        "        super().__init__()\n",
        "        self.relu = nn.ReLU()\n",
        "        self.conv1 = nn.Conv2d(3, 6, 5)\n",
        "        self.pool = nn.MaxPool2d(2, 2)\n",
        "        self.conv2 = nn.Conv2d(6, 16, 5)\n",
        "        self.fc1 = nn.Linear(16 * 5 * 5, 120)\n",
        "        self.fc2 = nn.Linear(120, 84)\n",
        "        self.fc3 = nn.Linear(84, 10)\n",
        "\n",
        "    def forward(self, x):\n",
        "        x = self.pool(self.relu(self.conv1(x)))\n",
        "        x = self.pool(self.relu(self.conv2(x)))\n",
        "        x = torch.flatten(x, 1) # flatten all dimensions except batch\n",
        "        x = self.relu(self.fc1(x))\n",
        "        x = self.relu(self.fc2(x))\n",
        "        x = self.fc3(x)\n",
        "        return x"
      ]
    },
    {
      "cell_type": "markdown",
      "metadata": {
        "id": "ADZBQqs0O_Pj"
      },
      "source": [
        "## Model Training and Validation\n"
      ]
    },
    {
      "cell_type": "code",
      "execution_count": 11,
      "metadata": {
        "id": "ez6sGEy8nPEg"
      },
      "outputs": [],
      "source": [
        "# Best to use a GPU: change your runtime and select the free GPU\n",
        "# Then we need to load our data onto whatever compute element we're using.\n",
        "device = torch.device(\"cuda:0\" if torch.cuda.is_available() else \"cpu\")"
      ]
    },
    {
      "cell_type": "code",
      "execution_count": 12,
      "metadata": {
        "id": "UUwTRj3QD_Mr",
        "colab": {
          "base_uri": "https://localhost:8080/"
        },
        "outputId": "ed07837f-d1f2-4d81-c152-91e35935d588"
      },
      "outputs": [
        {
          "output_type": "stream",
          "name": "stdout",
          "text": [
            "[1,  2000] loss: 2.221\n",
            "[1,  4000] loss: 2.089\n",
            "[1,  6000] loss: 2.049\n",
            "[1,  8000] loss: 2.009\n",
            "[1, 10000] loss: 1.978\n",
            "[2,  2000] loss: 1.924\n",
            "[2,  4000] loss: 1.879\n",
            "[2,  6000] loss: 1.865\n",
            "[2,  8000] loss: 1.825\n",
            "[2, 10000] loss: 1.812\n",
            "[3,  2000] loss: 1.800\n",
            "[3,  4000] loss: 1.776\n",
            "[3,  6000] loss: 1.762\n",
            "[3,  8000] loss: 1.756\n",
            "[3, 10000] loss: 1.768\n",
            "[4,  2000] loss: 1.751\n",
            "[4,  4000] loss: 1.750\n",
            "[4,  6000] loss: 1.742\n",
            "[4,  8000] loss: 1.745\n",
            "[4, 10000] loss: 1.739\n",
            "[5,  2000] loss: 1.728\n",
            "[5,  4000] loss: 1.732\n",
            "[5,  6000] loss: 1.719\n",
            "[5,  8000] loss: 1.750\n",
            "[5, 10000] loss: 1.711\n",
            "Finished Training\n"
          ]
        }
      ],
      "source": [
        "# Now we train the first model.\n",
        "#\n",
        "\n",
        "\n",
        "# Choose a model to train\n",
        "model = CNNClassifier(3, 10)\n",
        "loss_function = nn.CrossEntropyLoss()\n",
        "optimizer = torch.optim.SGD(model.parameters(), lr=0.001, momentum=0.9)\n",
        "device = torch.device('cuda' if torch.cuda.is_available() else 'cpu')\n",
        "model.to(device)\n",
        "model.train()\n",
        "\n",
        "\n",
        "for epoch in range(5):  # loop over the dataset multiple times\n",
        "\n",
        "    running_loss = 0.0\n",
        "    for i, data in enumerate(data_train, 0):\n",
        "        # get the inputs; data is a list of [inputs, labels]\n",
        "        inputs, labels = data\n",
        "        inputs = inputs.to(device)\n",
        "        labels = labels.to(device)\n",
        "\n",
        "        # zero the parameter gradients\n",
        "        optimizer.zero_grad()\n",
        "\n",
        "        # forward + backward + optimize\n",
        "        outputs = model(inputs)\n",
        "        loss = loss_function(outputs, labels)\n",
        "        loss.backward()\n",
        "        optimizer.step()\n",
        "\n",
        "        # print statistics\n",
        "        running_loss += loss.item()\n",
        "        if i % 2000 == 1999:    # print every 2000 mini-batches\n",
        "            print('[%d, %5d] loss: %.3f' %\n",
        "                  (epoch + 1, i + 1, running_loss / 2000))\n",
        "            running_loss = 0.0\n",
        "\n",
        "print('Finished Training')"
      ]
    },
    {
      "cell_type": "code",
      "execution_count": 14,
      "metadata": {
        "id": "QBpMcMooGGgp",
        "colab": {
          "base_uri": "https://localhost:8080/",
          "height": 229
        },
        "outputId": "11e78855-35e7-47c9-95a8-f9ec3195fd5d"
      },
      "outputs": [
        {
          "output_type": "display_data",
          "data": {
            "text/plain": [
              "<Figure size 640x480 with 1 Axes>"
            ],
            "image/png": "[encoded data removed]"
          },
          "metadata": {}
        },
        {
          "output_type": "stream",
          "name": "stdout",
          "text": [
            "GroundTruth:  horse  bird  deer horse\n",
            "Predicted:    dog  deer  frog  frog\n"
          ]
        }
      ],
      "source": [
        "# Let's see how well this trained model performs on a couple data points.\n",
        "dataiter = iter(data_val)\n",
        "images, labels = next(dataiter)\n",
        "\n",
        "# Move images and labels to the appropriate device (GPU if available)\n",
        "images = images.to(device)\n",
        "labels = labels.to(device)\n",
        "\n",
        "# print images\n",
        "imshow(torchvision.utils.make_grid(images.cpu()))\n",
        "print('GroundTruth: ', ' '.join('%5s' % classes[labels[j]] for j in range(4)))\n",
        "\n",
        "# and now what our model thinks\n",
        "model.eval()\n",
        "output = model(images)\n",
        "_, predicted = torch.max(output, 1)\n",
        "\n",
        "print('Predicted: ', ' '.join('%5s' % classes[predicted[j]]\n",
        "                              for j in range(4)))"
      ]
    },
    {
      "cell_type": "markdown",
      "metadata": {
        "id": "zOwztLMgnZMs"
      },
      "source": [
        "## Problem 3\n",
        "\n",
        "Use your validation data loader (data_val) to assess the accuracy on the entire data set.\n",
        "\n",
        "If you did this correctly, you should find that your accuracy is somewhere in the 30-40% range -- not great, but a lot better than guessing, and much better than we were able to do with trees.  "
      ]
    },
    {
      "cell_type": "code",
      "execution_count": 15,
      "metadata": {
        "id": "7NuKW_XjJ-C8",
        "outputId": "53907616-9f7a-4f7a-e93b-12e67bf076ed",
        "colab": {
          "base_uri": "https://localhost:8080/"
        }
      },
      "outputs": [
        {
          "output_type": "stream",
          "name": "stdout",
          "text": [
            "Validation dataset Accuracy : 35.48%\n"
          ]
        }
      ],
      "source": [
        "correct = 0\n",
        "total = 0\n",
        "device = torch.device(\"cuda\" if torch.cuda.is_available() else \"cpu\")\n",
        "\n",
        "with torch.no_grad():  # Disable gradient calculation\n",
        "    for images, labels in data_val:\n",
        "        images, labels = images.to(device), labels.to(device)  # Move data to the same device as the model\n",
        "        outputs = model(images)\n",
        "        _, predicted = torch.max(outputs.data, 1)  # Get the index of the maximum output\n",
        "        total += labels.size(0)\n",
        "        correct += (predicted == labels).sum().item()\n",
        "\n",
        "accuracy = correct / total\n",
        "print('Validation dataset Accuracy : {:.2f}%'.format(100 * accuracy))\n"
      ]
    },
    {
      "cell_type": "markdown",
      "metadata": {
        "id": "8h45uhZ_oBvl"
      },
      "source": [
        "# Time to train the deeper model"
      ]
    },
    {
      "cell_type": "code",
      "execution_count": 16,
      "metadata": {
        "id": "7fTVlT9R4kuH"
      },
      "outputs": [],
      "source": [
        "# Now we train the second model. We see that it does quite a bit better than the first.\n",
        "#\n",
        "device = torch.device('cuda' if torch.cuda.is_available() else 'cpu')\n",
        "\n",
        "\n",
        "# Choose a model to train\n",
        "model2 = ConvNet() # note that this command resets the parameters\n",
        "model2.to(device)\n",
        "model2.train()\n",
        "\n",
        "# Set the loss function and optimizer\n",
        "loss_function = nn.CrossEntropyLoss()\n",
        "optimizer = torch.optim.SGD(model2.parameters(), lr=0.001, momentum=0.9)\n",
        "device = torch.device('cuda' if torch.cuda.is_available() else 'cpu')\n",
        "\n",
        "\n"
      ]
    },
    {
      "cell_type": "code",
      "execution_count": 17,
      "metadata": {
        "id": "Si8PVtbbCYgV",
        "outputId": "ba436901-8d5f-4c09-8b7e-9bffb033cb85",
        "colab": {
          "base_uri": "https://localhost:8080/"
        }
      },
      "outputs": [
        {
          "output_type": "stream",
          "name": "stdout",
          "text": [
            "[1,  2000] loss: 2.234\n",
            "[1,  4000] loss: 1.923\n",
            "[1,  6000] loss: 1.704\n",
            "[1,  8000] loss: 1.605\n",
            "[1, 10000] loss: 1.536\n",
            "[2,  2000] loss: 1.435\n",
            "[2,  4000] loss: 1.423\n",
            "[2,  6000] loss: 1.404\n",
            "[2,  8000] loss: 1.403\n",
            "[2, 10000] loss: 1.335\n",
            "Finished Training\n"
          ]
        }
      ],
      "source": [
        "for epoch in range(2):  # loop over the dataset multiple times\n",
        "\n",
        "    running_loss = 0.0\n",
        "    for i, data in enumerate(data_train, 0):\n",
        "        # get the inputs; data is a list of [inputs, labels]\n",
        "        inputs, labels = data\n",
        "        inputs = inputs.to(device)\n",
        "        labels = labels.to(device)\n",
        "\n",
        "        # zero the parameter gradients\n",
        "        optimizer.zero_grad()\n",
        "\n",
        "        # forward + backward + optimize\n",
        "        outputs = model2(inputs)\n",
        "        loss = loss_function(outputs, labels)\n",
        "        loss.backward()\n",
        "        optimizer.step()\n",
        "\n",
        "        # print statistics\n",
        "        running_loss += loss.item()\n",
        "        if i % 2000 == 1999:    # print every 2000 mini-batches\n",
        "            print('[%d, %5d] loss: %.3f' %\n",
        "                  (epoch + 1, i + 1, running_loss / 2000))\n",
        "            running_loss = 0.0\n",
        "\n",
        "print('Finished Training')"
      ]
    },
    {
      "cell_type": "markdown",
      "metadata": {
        "id": "eF6mZfy-oT0y"
      },
      "source": [
        "## Problem 4\n",
        "\n",
        "Repeat what you did for Problem 3 above: use your validation data loader (data_val) to assess the accuracy on the entire data set.\n",
        "\n",
        "If you did this correctly, you should find that your accuracy is somewhere in the 50-60% range. Far from perfect, but still better than how we did above."
      ]
    },
    {
      "cell_type": "code",
      "execution_count": 18,
      "metadata": {
        "id": "inJP0QoMJ-C9",
        "outputId": "7cb7f574-d02e-40ba-e2f5-3ff536478674",
        "colab": {
          "base_uri": "https://localhost:8080/"
        }
      },
      "outputs": [
        {
          "output_type": "stream",
          "name": "stdout",
          "text": [
            "Validation Dataset Accuracy (Model 2) : 51.28%\n"
          ]
        }
      ],
      "source": [
        "correct = 0\n",
        "total = 0\n",
        "device = torch.device(\"cuda\" if torch.cuda.is_available() else \"cpu\")\n",
        "\n",
        "with torch.no_grad():  # Disable gradient calculation\n",
        "    for images, labels in data_val:\n",
        "        images, labels = images.to(device), labels.to(device)  # Move data to the same device as the model\n",
        "        outputs = model2(images)\n",
        "        _, predicted = torch.max(outputs.data, 1)  # Get the index of the maximum output\n",
        "        total += labels.size(0)\n",
        "        correct += (predicted == labels).sum().item()\n",
        "\n",
        "accuracy = correct / total\n",
        "print('Validation Dataset Accuracy (Model 2) : {:.2f}%'.format(100 * accuracy))\n"
      ]
    },
    {
      "cell_type": "markdown",
      "metadata": {
        "id": "xChhktbAot6E"
      },
      "source": [
        "## Problem 5\n",
        "\n",
        "How many parameters does your model have? You can either compute by hand, or much better, use the summary command from torchsummary\n",
        "```\n",
        "from torchsummary import summary\n",
        "```\n",
        "Note that you'll have to figure out how to use use, and also you will have to enter the size of your input.\n",
        "\n",
        "Also try using the command\n",
        "\n",
        "```\n",
        "for name, layer in model2.named_modules():\n",
        "    print(name,layer)\n",
        "```\n",
        "This one is very useful when we want to download someone else's netework, and we need to know what the names of the layers are."
      ]
    },
    {
      "cell_type": "code",
      "execution_count": 19,
      "metadata": {
        "id": "VFRgZlhDJ-C9",
        "outputId": "15bc3e15-a120-4f09-d1bc-a018c2f8bd99",
        "colab": {
          "base_uri": "https://localhost:8080/"
        }
      },
      "outputs": [
        {
          "output_type": "stream",
          "name": "stdout",
          "text": [
            "----------------------------------------------------------------\n",
            "        Layer (type)               Output Shape         Param #\n",
            "================================================================\n",
            "            Conv2d-1            [-1, 6, 28, 28]             456\n",
            "              ReLU-2            [-1, 6, 28, 28]               0\n",
            "         MaxPool2d-3            [-1, 6, 14, 14]               0\n",
            "            Conv2d-4           [-1, 16, 10, 10]           2,416\n",
            "              ReLU-5           [-1, 16, 10, 10]               0\n",
            "         MaxPool2d-6             [-1, 16, 5, 5]               0\n",
            "            Linear-7                  [-1, 120]          48,120\n",
            "              ReLU-8                  [-1, 120]               0\n",
            "            Linear-9                   [-1, 84]          10,164\n",
            "             ReLU-10                   [-1, 84]               0\n",
            "           Linear-11                   [-1, 10]             850\n",
            "================================================================\n",
            "Total params: 62,006\n",
            "Trainable params: 62,006\n",
            "Non-trainable params: 0\n",
            "----------------------------------------------------------------\n",
            "Input size (MB): 0.01\n",
            "Forward/backward pass size (MB): 0.11\n",
            "Params size (MB): 0.24\n",
            "Estimated Total Size (MB): 0.36\n",
            "----------------------------------------------------------------\n"
          ]
        }
      ],
      "source": [
        "from torchsummary import summary\n",
        "\n",
        "summary(model2, input_size=(3, 32, 32))  # Input size for CIFAR-10 dataset (3 channels, 32x32 images)"
      ]
    },
    {
      "cell_type": "code",
      "execution_count": 20,
      "metadata": {
        "id": "qSlssVIIJ-C9",
        "outputId": "6ba98254-e365-4e42-ddc8-7f3e8a1ec88c",
        "colab": {
          "base_uri": "https://localhost:8080/"
        }
      },
      "outputs": [
        {
          "output_type": "stream",
          "name": "stdout",
          "text": [
            " ConvNet(\n",
            "  (relu): ReLU()\n",
            "  (conv1): Conv2d(3, 6, kernel_size=(5, 5), stride=(1, 1))\n",
            "  (pool): MaxPool2d(kernel_size=2, stride=2, padding=0, dilation=1, ceil_mode=False)\n",
            "  (conv2): Conv2d(6, 16, kernel_size=(5, 5), stride=(1, 1))\n",
            "  (fc1): Linear(in_features=400, out_features=120, bias=True)\n",
            "  (fc2): Linear(in_features=120, out_features=84, bias=True)\n",
            "  (fc3): Linear(in_features=84, out_features=10, bias=True)\n",
            ")\n",
            "relu ReLU()\n",
            "conv1 Conv2d(3, 6, kernel_size=(5, 5), stride=(1, 1))\n",
            "pool MaxPool2d(kernel_size=2, stride=2, padding=0, dilation=1, ceil_mode=False)\n",
            "conv2 Conv2d(6, 16, kernel_size=(5, 5), stride=(1, 1))\n",
            "fc1 Linear(in_features=400, out_features=120, bias=True)\n",
            "fc2 Linear(in_features=120, out_features=84, bias=True)\n",
            "fc3 Linear(in_features=84, out_features=10, bias=True)\n"
          ]
        }
      ],
      "source": [
        "for name, layer in model2.named_modules():\n",
        "    print(name, layer)"
      ]
    },
    {
      "cell_type": "markdown",
      "metadata": {
        "id": "C4NiFZjIrKFD"
      },
      "source": [
        "## Problem 6\n",
        "\n",
        "How much can you decrease the error? Try to make your own convolutional neural network for CIFAR-10. Don't make it so big that you can't train it on Colab! You can play around with the parameters of the network and also with the parameters of training (train for longer -- more epochs, possibly using other parameters for step size, momentum, etc.).\n",
        "\n",
        "**We will give 20 lab bonus points to the team with the best accuracy.**"
      ]
    },
    {
      "cell_type": "code",
      "execution_count": 21,
      "metadata": {
        "id": "yNauG0HyJ-C-"
      },
      "outputs": [],
      "source": [
        "import torch\n",
        "import torch.nn as nn\n",
        "import torch.nn.functional as F\n",
        "import torchvision\n",
        "import torchvision.transforms as transforms\n",
        "from torchsummary import summary\n",
        "\n",
        "# Define the ImprovedCNN model\n",
        "class ImprovedCNN(nn.Module):\n",
        "    def __init__(self):\n",
        "        super(ImprovedCNN, self).__init__()\n",
        "        self.conv1 = nn.Conv2d(3, 32, kernel_size=3, padding=1)\n",
        "        self.conv2 = nn.Conv2d(32, 64, kernel_size=3, padding=1)\n",
        "        self.conv3 = nn.Conv2d(64, 128, kernel_size=3, padding=1)\n",
        "        self.pool = nn.MaxPool2d(2, 2)\n",
        "        self.fc1 = nn.Linear(128 * 4 * 4, 512)\n",
        "        self.fc2 = nn.Linear(512, 256)\n",
        "        self.fc3 = nn.Linear(256, 10)\n",
        "        self.dropout = nn.Dropout(0.5)\n",
        "\n",
        "    def forward(self, x):\n",
        "        x = self.pool(F.relu(self.conv1(x)))\n",
        "        x = self.pool(F.relu(self.conv2(x)))\n",
        "        x = self.pool(F.relu(self.conv3(x)))\n",
        "        x = x.view(-1, 128 * 4 * 4)\n",
        "        x = self.dropout(F.relu(self.fc1(x)))\n",
        "        x = self.dropout(F.relu(self.fc2(x)))\n",
        "        x = self.fc3(x)\n",
        "        return x\n"
      ]
    },
    {
      "cell_type": "code",
      "execution_count": 22,
      "metadata": {
        "id": "YabwR_8fJ-C-",
        "outputId": "ec8705d9-5204-439f-c524-67dc3fa47a64",
        "colab": {
          "base_uri": "https://localhost:8080/"
        }
      },
      "outputs": [
        {
          "output_type": "stream",
          "name": "stdout",
          "text": [
            "Files already downloaded and verified\n",
            "Files already downloaded and verified\n",
            "[1,   200] loss: 1.923\n",
            "[1,   400] loss: 1.567\n",
            "[1,   600] loss: 1.426\n",
            "[2,   200] loss: 1.241\n",
            "[2,   400] loss: 1.170\n",
            "[2,   600] loss: 1.116\n",
            "[3,   200] loss: 0.990\n",
            "[3,   400] loss: 0.974\n",
            "[3,   600] loss: 0.941\n",
            "[4,   200] loss: 0.833\n",
            "[4,   400] loss: 0.841\n",
            "[4,   600] loss: 0.833\n",
            "[5,   200] loss: 0.734\n",
            "[5,   400] loss: 0.751\n",
            "[5,   600] loss: 0.748\n",
            "[6,   200] loss: 0.654\n",
            "[6,   400] loss: 0.663\n",
            "[6,   600] loss: 0.658\n",
            "[7,   200] loss: 0.587\n",
            "[7,   400] loss: 0.613\n",
            "[7,   600] loss: 0.600\n",
            "[8,   200] loss: 0.527\n",
            "[8,   400] loss: 0.546\n",
            "[8,   600] loss: 0.577\n",
            "[9,   200] loss: 0.487\n",
            "[9,   400] loss: 0.512\n",
            "[9,   600] loss: 0.525\n",
            "[10,   200] loss: 0.422\n",
            "[10,   400] loss: 0.468\n",
            "[10,   600] loss: 0.469\n",
            "Finished Training\n"
          ]
        }
      ],
      "source": [
        "# Function to fetch CIFAR-10 dataloader\n",
        "def fetch_dataloader(batch_size, transform=None, is_train=True):\n",
        "    data = torchvision.datasets.CIFAR10(root='./data', train=is_train, download=True, transform=transform)\n",
        "    loader = torch.utils.data.DataLoader(data, batch_size=batch_size, shuffle=is_train, num_workers=2)\n",
        "    return loader\n",
        "\n",
        "# Define transformations\n",
        "transform = transforms.Compose([\n",
        "    transforms.ToTensor(),\n",
        "    transforms.Normalize((0.5, 0.5, 0.5), (0.5, 0.5, 0.5))\n",
        "])\n",
        "\n",
        "# Fetch train and validation dataloaders\n",
        "train_loader = fetch_dataloader(batch_size=64, transform=transform, is_train=True)\n",
        "val_loader = fetch_dataloader(batch_size=64, transform=transform, is_train=False)\n",
        "\n",
        "# Instantiate the model\n",
        "model = ImprovedCNN()\n",
        "\n",
        "# Define loss function and optimizer\n",
        "criterion = nn.CrossEntropyLoss()\n",
        "optimizer = torch.optim.Adam(model.parameters(), lr=0.001)\n",
        "\n",
        "# Move model to GPU if available\n",
        "device = torch.device(\"cuda:0\" if torch.cuda.is_available() else \"cpu\")\n",
        "model.to(device)\n",
        "\n",
        "# Training loop\n",
        "for epoch in range(10):  # train for 10 epochs\n",
        "    model.train()\n",
        "    running_loss = 0.0\n",
        "    for i, data in enumerate(train_loader, 0):\n",
        "        inputs, labels = data[0].to(device), data[1].to(device)\n",
        "\n",
        "        optimizer.zero_grad()\n",
        "\n",
        "        outputs = model(inputs)\n",
        "        loss = criterion(outputs, labels)\n",
        "        loss.backward()\n",
        "        optimizer.step()\n",
        "\n",
        "        running_loss += loss.item()\n",
        "        if i % 200 == 199:    # print every 200 mini-batches\n",
        "            print('[%d, %5d] loss: %.3f' % (epoch + 1, i + 1, running_loss / 200))\n",
        "            running_loss = 0.0\n",
        "\n",
        "print('Finished Training')"
      ]
    },
    {
      "cell_type": "code",
      "execution_count": 23,
      "metadata": {
        "id": "S_IFNSc6J-C-",
        "outputId": "69da7b02-860b-4fa6-fa99-6f0b7f06d484",
        "colab": {
          "base_uri": "https://localhost:8080/"
        }
      },
      "outputs": [
        {
          "output_type": "stream",
          "name": "stdout",
          "text": [
            "Improved Model - Validation Set Accuracy : 76 %\n"
          ]
        }
      ],
      "source": [
        "# Validation\n",
        "correct = 0\n",
        "total = 0\n",
        "model.eval()\n",
        "with torch.no_grad():\n",
        "    for data in val_loader:\n",
        "        images, labels = data[0].to(device), data[1].to(device)\n",
        "        outputs = model(images)\n",
        "        _, predicted = torch.max(outputs, 1)\n",
        "        total += labels.size(0)\n",
        "        correct += (predicted == labels).sum().item()\n",
        "\n",
        "print('Improved Model - Validation Set Accuracy : %d %%' % (100 * correct / total))"
      ]
    },
    {
      "cell_type": "code",
      "execution_count": 24,
      "metadata": {
        "id": "bnbEwcECJ-C-",
        "outputId": "901fa86d-0320-4891-f393-22ec7a0ae7eb",
        "colab": {
          "base_uri": "https://localhost:8080/"
        }
      },
      "outputs": [
        {
          "output_type": "stream",
          "name": "stdout",
          "text": [
            "----------------------------------------------------------------\n",
            "        Layer (type)               Output Shape         Param #\n",
            "================================================================\n",
            "            Conv2d-1           [-1, 32, 32, 32]             896\n",
            "         MaxPool2d-2           [-1, 32, 16, 16]               0\n",
            "            Conv2d-3           [-1, 64, 16, 16]          18,496\n",
            "         MaxPool2d-4             [-1, 64, 8, 8]               0\n",
            "            Conv2d-5            [-1, 128, 8, 8]          73,856\n",
            "         MaxPool2d-6            [-1, 128, 4, 4]               0\n",
            "            Linear-7                  [-1, 512]       1,049,088\n",
            "           Dropout-8                  [-1, 512]               0\n",
            "            Linear-9                  [-1, 256]         131,328\n",
            "          Dropout-10                  [-1, 256]               0\n",
            "           Linear-11                   [-1, 10]           2,570\n",
            "================================================================\n",
            "Total params: 1,276,234\n",
            "Trainable params: 1,276,234\n",
            "Non-trainable params: 0\n",
            "----------------------------------------------------------------\n",
            "Input size (MB): 0.01\n",
            "Forward/backward pass size (MB): 0.56\n",
            "Params size (MB): 4.87\n",
            "Estimated Total Size (MB): 5.44\n",
            "----------------------------------------------------------------\n"
          ]
        }
      ],
      "source": [
        "\n",
        "# Print model summary\n",
        "summary(model, input_size=(3, 32, 32))"
      ]
    }
  ],
  "metadata": {
    "colab": {
      "provenance": [],
      "gpuType": "T4",
      "include_colab_link": true
    },
    "kernelspec": {
      "display_name": "Python 3",
      "name": "python3"
    },
    "language_info": {
      "codemirror_mode": {
        "name": "ipython",
        "version": 3
      },
      "file_extension": ".py",
      "mimetype": "text/x-python",
      "name": "python",
      "nbconvert_exporter": "python",
      "pygments_lexer": "ipython3",
      "version": "3.11.3"
    },
    "accelerator": "GPU"
  },
  "nbformat": 4,
  "nbformat_minor": 0
}