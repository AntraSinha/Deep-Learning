{
  "nbformat": 4,
  "nbformat_minor": 0,
  "metadata": {
    "colab": {
      "provenance": [],
      "gpuType": "T4",
      "toc_visible": true,
      "include_colab_link": true
    },
    "kernelspec": {
      "name": "python3",
      "display_name": "Python 3"
    },
    "language_info": {
      "name": "python"
    },
    "accelerator": "GPU"
  },
  "cells": [
    {
      "cell_type": "markdown",
      "metadata": {
        "id": "view-in-github",
        "colab_type": "text"
      },
      "source": [
        "<a href=\"https://colab.research.google.com/github/AntraSinha/Deep-Learning/blob/main/MIS285N_HW3.ipynb\" target=\"_parent\"><img src=\"https://colab.research.google.com/assets/colab-badge.svg\" alt=\"Open In Colab\"/></a>"
      ]
    },
    {
      "cell_type": "markdown",
      "source": [
        "# MIS 285N Homework 3\n",
        "**Due: Thursday, February 15, 11:59 pm**\n",
        "\n",
        "Submit:\n",
        "\n",
        "A pdf of your notebook with solutions.\n",
        "A link to your colab notebook or also upload your .ipynb if not working on colab.\n",
        "\n",
        "# Goals of this Homework: Fine Tuning and Transfer Learning\n",
        "\n",
        "The goal of this colab notebook and homework is to get down the basics of Transfer learning, and harnessing the power of pre-trained notebooks. Along the way, we get experience with creating and labeling data sets, and a number of other Python tools.\n",
        "\n",
        "Specifically, we do the following:\n",
        "\n",
        "* In this colab notebook, we create our own labeled image data set, with calls to the Bing API. We use this to download images with user-specified labels, into train and test directories.\n",
        "\n",
        "* We preprocess all the images and use the directory names as lables to create our training and testing data sets.\n",
        "\n",
        "* Then we download a pre-trained convolutional neural network from Pytorch. There is wide selection here. These have been trained on ImageNet. See references below.\n",
        "\n",
        "* Then we add a new last layer, and train. Note that the last layer we add has to have the right size, namely, the number of classes in our data.\n",
        "\n",
        "* Things to play with: Choosing different pre-trained models; Fine tuning the entire network vs freezing and fine tuning only the last layer or layers; Possibly adding more of our own layers at the end. (See the last optional problem at the end).\n",
        "\n",
        "\n",
        "Some references:\n",
        "\n",
        "The bing image downloader package from here https://pypi.org/project/bing-image-downloader/\n"
      ],
      "metadata": {
        "id": "HwFfnQgbXJ_F"
      }
    },
    {
      "cell_type": "markdown",
      "source": [
        "# The following will allow us to call the Bing Image Downloader"
      ],
      "metadata": {
        "id": "QxSFt4vWr7Bl"
      }
    },
    {
      "cell_type": "code",
      "source": [
        "!pip install bing-image-downloader\n"
      ],
      "metadata": {
        "colab": {
          "base_uri": "https://localhost:8080/"
        },
        "id": "AHSCfFin4A9F",
        "outputId": "e6631e59-e464-4fe4-bd5b-01859d304bb5"
      },
      "execution_count": null,
      "outputs": [
        {
          "output_type": "stream",
          "name": "stdout",
          "text": [
            "Collecting bing-image-downloader\n",
            "  Downloading bing_image_downloader-1.1.2-py3-none-any.whl (5.9 kB)\n",
            "Installing collected packages: bing-image-downloader\n",
            "Successfully installed bing-image-downloader-1.1.2\n"
          ]
        }
      ]
    },
    {
      "cell_type": "code",
      "execution_count": null,
      "metadata": {
        "id": "envKo0eyXGK3",
        "colab": {
          "base_uri": "https://localhost:8080/"
        },
        "outputId": "a0a5277a-1ccb-4f4d-c679-0f4bf93a3edb"
      },
      "outputs": [
        {
          "output_type": "execute_result",
          "data": {
            "text/plain": [
              "<contextlib.ExitStack at 0x7c27a198b130>"
            ]
          },
          "metadata": {},
          "execution_count": 2
        }
      ],
      "source": [
        "from __future__ import print_function, division\n",
        "\n",
        "import torch\n",
        "import torch.nn as nn\n",
        "import torch.optim as optim\n",
        "from torch.optim import lr_scheduler\n",
        "import numpy as np\n",
        "import torchvision\n",
        "from torchvision import datasets, models, transforms\n",
        "import time\n",
        "import os\n",
        "import copy\n",
        "import requests\n",
        "from bing_image_downloader import downloader\n",
        "import matplotlib.pyplot as plt\n",
        "import matplotlib.image as mpimg\n",
        "import math\n",
        "\n",
        "plt.ion()   # interactive mode\n"
      ]
    },
    {
      "cell_type": "markdown",
      "source": [
        "# Downloading the images we need"
      ],
      "metadata": {
        "id": "ZguqCTTj8pl3"
      }
    },
    {
      "cell_type": "code",
      "source": [
        "# These are the functions we need for asking for query terms, number of images\n",
        "# and the fraction of train/test split\n",
        "def get_query_terms():\n",
        "    \"\"\"Ask the user for a list of query terms.\"\"\"\n",
        "    queries = input(\"Enter query terms separated by commas: \").split(',')\n",
        "    return [query.strip() for query in queries]\n",
        "\n",
        "\n",
        "def get_positive_integers():\n",
        "    \"\"\"Ask the user for a list of positive integers.\"\"\"\n",
        "    while True:\n",
        "        numbers = input(\"Enter positive integers corresponding to each query, separated by commas: \").split(',')\n",
        "        try:\n",
        "            # Convert string inputs to integers\n",
        "            numbers = [int(num.strip()) for num in numbers]\n",
        "\n",
        "            # Check if all numbers are positive\n",
        "            if all(num > 0 for num in numbers):\n",
        "                return numbers\n",
        "            else:\n",
        "                print(\"All numbers must be positive. Please try again.\")\n",
        "        except ValueError:\n",
        "            print(\"Invalid input. Please enter integers only.\")\n",
        "\n",
        "\n",
        "def get_train_test_proportion():\n",
        "    \"\"\"Ask the user for a number between 0 and 1 and ensure it is in that range.\"\"\"\n",
        "    while True:\n",
        "        try:\n",
        "            # Ask the user for a number and try to convert it to a float\n",
        "            num = float(input(\"What fraction of the data should be training? For example, enter 0.75 for 75 percent: \"))\n",
        "\n",
        "            # Check if the number is between 0 and 1 (inclusive)\n",
        "            if 0 <= num <= 1:\n",
        "                return num\n",
        "            else:\n",
        "                print(\"The number must be between 0 and 1. Please try again.\")\n",
        "        except ValueError:\n",
        "            print(\"Invalid input. Please enter a valid number between 0 and 1.\")"
      ],
      "metadata": {
        "id": "SlryPce8MXC5"
      },
      "execution_count": null,
      "outputs": []
    },
    {
      "cell_type": "markdown",
      "source": [
        "# Problem 0\n",
        "\n",
        "Run the above code, to make your own data set. Choose terms that aren't already one of the 1000 classes in the Imagenet dataset.\n",
        "\n",
        "I recommend starting small: 2 or 3 different terms, and maybe 100-200 images max from each."
      ],
      "metadata": {
        "id": "0g4tRkN3ve4N"
      }
    },
    {
      "cell_type": "code",
      "source": [
        "# Now we get the queries\n",
        "queries = get_query_terms()\n",
        "# And the number of each\n",
        "numbers = get_positive_integers()\n",
        "# And the fraction of training data\n",
        "frac_train = get_train_test_proportion()\n",
        "# Check if number of queries matches number of positive integers\n",
        "if len(queries) != len(numbers):\n",
        "  print(\"Number of queries and integers do not match!\")\n",
        "\n",
        "for query, n in zip(queries, numbers):\n",
        "  n_tr = int(math.floor(n*frac_train))\n",
        "  downloader.download(query, limit=n_tr, output_dir='dataset/train', adult_filter_off=True, force_replace=False,timeout=60, verbose=False)\n",
        "  n_test = int(math.floor(n * (1-frac_train)))\n",
        "  downloader.download(query, limit=n_test, output_dir='dataset/test', adult_filter_off=True, force_replace=False, timeout=60, verbose=False)\n"
      ],
      "metadata": {
        "id": "O37G06MWMxDv",
        "colab": {
          "base_uri": "https://localhost:8080/"
        },
        "outputId": "302d5548-1528-453e-e7ce-cf484e981df5"
      },
      "execution_count": null,
      "outputs": [
        {
          "output_type": "stream",
          "name": "stdout",
          "text": [
            "Enter query terms separated by commas: fork,finger,rat\n",
            "Enter positive integers corresponding to each query, separated by commas: 100,100,100\n",
            "What fraction of the data should be training? For example, enter 0.75 for 75 percent: 0.8\n",
            "[%] Downloading Images to /content/dataset/train/fork\n",
            "[!] Issue getting: https://i.redd.it/w4bjd02rkud41.jpg\n",
            "[!] Error:: HTTP Error 403: Blocked\n",
            "[!] Issue getting: http://gricefostereventhire.co.uk/wp-content/uploads/2015/06/fork.jpg\n",
            "[!] Error:: HTTP Error 404: Not Found\n",
            "[!] Issue getting: http://all4desktop.com/data_images/original/4244685-fork.jpg\n",
            "[!] Error:: HTTP Error 404: Not Found\n",
            "[!] Issue getting: https://weknowyourdreams.com/images/fork/fork-05.jpg\n",
            "[!] Error:: <urlopen error [SSL: CERTIFICATE_VERIFY_FAILED] certificate verify failed: unable to get local issuer certificate (_ssl.c:1007)>\n",
            "[!] Issue getting: http://all4desktop.com/data_images/original/4244680-fork.jpg\n",
            "[!] Error:: HTTP Error 404: Not Found\n",
            "[Error]Invalid image, not saving https://bike.bikegremlin.com/wp-content/uploads/2015/10/threaded-fork-mounting-viljuska-sa-navojem.jpg\n",
            "\n",
            "[!] Issue getting: https://bike.bikegremlin.com/wp-content/uploads/2015/10/threaded-fork-mounting-viljuska-sa-navojem.jpg\n",
            "[!] Error:: Invalid image, not saving https://bike.bikegremlin.com/wp-content/uploads/2015/10/threaded-fork-mounting-viljuska-sa-navojem.jpg\n",
            "\n",
            "[!] Issue getting: https://cdn.instructables.com/FPN/RNWB/FD5IWLA8/FPNRNWBFD5IWLA8.MEDIUM.jpg\n",
            "[!] Error:: HTTP Error 403: Unknown Error\n",
            "[!] Issue getting: https://vinispartyrentals.com/wp-content/uploads/2019/06/piazza-dinner-fork.jpg\n",
            "[!] Error:: Remote end closed connection without response\n",
            "[!] Issue getting: https://thorns.co.uk/wp-content/uploads/2019/10/C0674-Jesmond-Table-Fork.png\n",
            "[!] Error:: Remote end closed connection without response\n",
            "[!] Issue getting: https://tentguys.com/wp-content/uploads/2021/04/Bastia-Hammered-Stainless-Steel-Dinner-fork.jpg\n",
            "[!] Error:: HTTP Error 403: Forbidden\n",
            "[!] Issue getting: https://thorns.co.uk/wp-content/uploads/2019/10/C0602-EPNS-Jesmond-Fish-Fork.png\n",
            "[!] Error:: Remote end closed connection without response\n",
            "[!] Issue getting: http://globe-views.com/dcim/dreams/fork/fork-06.jpg\n",
            "[!] Error:: HTTP Error 404: Not Found\n",
            "[!] Issue getting: http://all4desktop.com/data_images/original/4244676-fork.jpg\n",
            "[!] Error:: HTTP Error 404: Not Found\n",
            "[!] Issue getting: http://all4desktop.com/data_images/original/4244678-fork.jpg\n",
            "[!] Error:: HTTP Error 404: Not Found\n",
            "[!] Issue getting: http://all4desktop.com/data_images/original/4244701-fork.jpg\n",
            "[!] Error:: HTTP Error 404: Not Found\n",
            "[!] Issue getting: http://weknowyourdreams.com/images/fork/fork-01.jpg\n",
            "[!] Error:: <urlopen error [SSL: CERTIFICATE_VERIFY_FAILED] certificate verify failed: unable to get local issuer certificate (_ssl.c:1007)>\n",
            "\n",
            "\n",
            "[%] Done. Downloaded 80 images.\n",
            "[%] Downloading Images to /content/dataset/test/fork\n",
            "[!] Issue getting: http://gricefostereventhire.co.uk/wp-content/uploads/2015/06/fork.jpg\n",
            "[!] Error:: HTTP Error 404: Not Found\n",
            "[!] Issue getting: http://all4desktop.com/data_images/original/4244685-fork.jpg\n",
            "[!] Error:: HTTP Error 404: Not Found\n",
            "[Error]Invalid image, not saving https://www.drinkstuff.com/productimg/163863_large.jpg\n",
            "\n",
            "[!] Issue getting: https://www.drinkstuff.com/productimg/163863_large.jpg\n",
            "[!] Error:: Invalid image, not saving https://www.drinkstuff.com/productimg/163863_large.jpg\n",
            "\n",
            "[!] Issue getting: https://thorns.co.uk/wp-content/uploads/2019/10/C0674-Jesmond-Table-Fork.png\n",
            "[!] Error:: Remote end closed connection without response\n",
            "[!] Issue getting: https://tentguys.com/wp-content/uploads/2021/04/Bastia-Hammered-Stainless-Steel-Dinner-fork.jpg\n",
            "[!] Error:: HTTP Error 403: Forbidden\n",
            "[!] Issue getting: https://thorns.co.uk/wp-content/uploads/2019/10/C0602-EPNS-Jesmond-Fish-Fork.png\n",
            "[!] Error:: Remote end closed connection without response\n",
            "[!] Issue getting: http://all4desktop.com/data_images/original/4244678-fork.jpg\n",
            "[!] Error:: HTTP Error 404: Not Found\n",
            "[!] Issue getting: http://all4desktop.com/data_images/original/4244680-fork.jpg\n",
            "[!] Error:: HTTP Error 404: Not Found\n",
            "[Error]Invalid image, not saving https://bike.bikegremlin.com/wp-content/uploads/2015/10/threaded-fork-mounting-viljuska-sa-navojem.jpg\n",
            "\n",
            "[!] Issue getting: https://bike.bikegremlin.com/wp-content/uploads/2015/10/threaded-fork-mounting-viljuska-sa-navojem.jpg\n",
            "[!] Error:: Invalid image, not saving https://bike.bikegremlin.com/wp-content/uploads/2015/10/threaded-fork-mounting-viljuska-sa-navojem.jpg\n",
            "\n",
            "\n",
            "\n",
            "[%] Done. Downloaded 19 images.\n",
            "[%] Downloading Images to /content/dataset/train/finger\n",
            "[!] Issue getting: https://weknowyourdreams.com/images/fingers/fingers-09.jpg\n",
            "[!] Error:: <urlopen error [SSL: CERTIFICATE_VERIFY_FAILED] certificate verify failed: unable to get local issuer certificate (_ssl.c:1007)>\n",
            "[Error]Invalid image, not saving http://valejandro971.files.wordpress.com/2012/10/15_hand_name1.jpg\n",
            "\n",
            "[!] Issue getting: http://valejandro971.files.wordpress.com/2012/10/15_hand_name1.jpg\n",
            "[!] Error:: Invalid image, not saving http://valejandro971.files.wordpress.com/2012/10/15_hand_name1.jpg\n",
            "\n",
            "[!] Issue getting: http://weknowyourdreams.com/images/finger/finger-03.jpg\n",
            "[!] Error:: <urlopen error [SSL: CERTIFICATE_VERIFY_FAILED] certificate verify failed: unable to get local issuer certificate (_ssl.c:1007)>\n",
            "[!] Issue getting: http://weknowyourdreams.com/images/finger/finger-05.jpg\n",
            "[!] Error:: <urlopen error [SSL: CERTIFICATE_VERIFY_FAILED] certificate verify failed: unable to get local issuer certificate (_ssl.c:1007)>\n",
            "[Error]Invalid image, not saving http://www.colourbox.com/preview/1657464-408142-one-finger-isolated-on-white.jpg\n",
            "\n",
            "[!] Issue getting: http://www.colourbox.com/preview/1657464-408142-one-finger-isolated-on-white.jpg\n",
            "[!] Error:: Invalid image, not saving http://www.colourbox.com/preview/1657464-408142-one-finger-isolated-on-white.jpg\n",
            "\n",
            "[!] Issue getting: http://weknowyourdreams.com/images/finger/finger-06.jpg\n",
            "[!] Error:: <urlopen error [SSL: CERTIFICATE_VERIFY_FAILED] certificate verify failed: unable to get local issuer certificate (_ssl.c:1007)>\n",
            "[Error]Invalid image, not saving http://allaboutalpha.com/blog/wp-content/uploads/2010/06/finger.jpg\n",
            "\n",
            "[!] Issue getting: http://allaboutalpha.com/blog/wp-content/uploads/2010/06/finger.jpg\n",
            "[!] Error:: Invalid image, not saving http://allaboutalpha.com/blog/wp-content/uploads/2010/06/finger.jpg\n",
            "\n",
            "[!] Issue getting: https://preview.redd.it/kh0peknfmmqy.jpg?auto=webp&amp;s=32187d793b5254b734475ab60b69f7165c4e4e36\n",
            "[!] Error:: HTTP Error 403: Blocked\n",
            "[!] Issue getting: http://weknowyourdreams.com/images/finger/finger-13.jpg\n",
            "[!] Error:: <urlopen error [SSL: CERTIFICATE_VERIFY_FAILED] certificate verify failed: unable to get local issuer certificate (_ssl.c:1007)>\n",
            "[!] Issue getting: https://media.istockphoto.com/photos/businessman-points-his-finger-at-you-picture-id507748676?k=6&amp;m=507748676&amp;s=612x612&amp;w=0&amp;h=kdsXW6Ar3FsdqdnjtU3qtgWa5EBbvwUGuee6aa_nrag=\n",
            "[!] Error:: HTTP Error 400: Bad Request\n",
            "[!] Issue getting: https://i.redd.it/5gi00hf6kej21.jpg\n",
            "[!] Error:: HTTP Error 403: Blocked\n",
            "[!] Issue getting: http://misskelly.typepad.com/photos/uncategorized/2008/10/14/iraq_vote_purple_finger.jpg\n",
            "[!] Error:: HTTP Error 403: Forbidden\n",
            "[!] Issue getting: http://comps.canstockphoto.com/can-stock-photo_csp2331425.jpg\n",
            "[!] Error:: HTTP Error 404: Not Found\n",
            "\n",
            "\n",
            "[%] Done. Downloaded 80 images.\n",
            "[%] Downloading Images to /content/dataset/test/finger\n",
            "[!] Issue getting: https://weknowyourdreams.com/images/fingers/fingers-09.jpg\n",
            "[!] Error:: <urlopen error [SSL: CERTIFICATE_VERIFY_FAILED] certificate verify failed: unable to get local issuer certificate (_ssl.c:1007)>\n",
            "[Error]Invalid image, not saving http://valejandro971.files.wordpress.com/2012/10/15_hand_name1.jpg\n",
            "\n",
            "[!] Issue getting: http://valejandro971.files.wordpress.com/2012/10/15_hand_name1.jpg\n",
            "[!] Error:: Invalid image, not saving http://valejandro971.files.wordpress.com/2012/10/15_hand_name1.jpg\n",
            "\n",
            "[!] Issue getting: http://weknowyourdreams.com/images/finger/finger-03.jpg\n",
            "[!] Error:: <urlopen error [SSL: CERTIFICATE_VERIFY_FAILED] certificate verify failed: unable to get local issuer certificate (_ssl.c:1007)>\n",
            "[!] Issue getting: http://weknowyourdreams.com/images/finger/finger-13.jpg\n",
            "[!] Error:: <urlopen error [SSL: CERTIFICATE_VERIFY_FAILED] certificate verify failed: unable to get local issuer certificate (_ssl.c:1007)>\n",
            "[Error]Invalid image, not saving http://www.colourbox.com/preview/1657464-408142-one-finger-isolated-on-white.jpg\n",
            "\n",
            "[!] Issue getting: http://www.colourbox.com/preview/1657464-408142-one-finger-isolated-on-white.jpg\n",
            "[!] Error:: Invalid image, not saving http://www.colourbox.com/preview/1657464-408142-one-finger-isolated-on-white.jpg\n",
            "\n",
            "\n",
            "\n",
            "[%] Done. Downloaded 19 images.\n",
            "[%] Downloading Images to /content/dataset/train/rat\n",
            "[!] Issue getting: https://3c1703fe8d.site.internapcdn.net/newman/gfx/news/hires/2018/3-rat.jpg\n",
            "[!] Error:: <urlopen error [Errno -2] Name or service not known>\n",
            "[!] Issue getting: http://arlingtonva.s3.amazonaws.com/wp-content/uploads/sites/25/2013/12/rat.jpg\n",
            "[!] Error:: HTTP Error 403: Forbidden\n",
            "[Error]Invalid image, not saving https://mediaproxy.salon.com/width/1200/https://media.salon.com/2011/06/the_violent_new_war_on_the_rat.jpg\n",
            "\n",
            "[!] Issue getting: https://mediaproxy.salon.com/width/1200/https://media.salon.com/2011/06/the_violent_new_war_on_the_rat.jpg\n",
            "[!] Error:: Invalid image, not saving https://mediaproxy.salon.com/width/1200/https://media.salon.com/2011/06/the_violent_new_war_on_the_rat.jpg\n",
            "\n",
            "[!] Issue getting: http://dora.missouri.edu/wp-content/uploads/2013/01/rat.jpg\n",
            "[!] Error:: HTTP Error 404: Not Found\n",
            "[Error]Invalid image, not saving http://i20.photobucket.com/albums/b228/NerysG/Rats/brownhoodedrex09872.jpg\n",
            "\n",
            "[!] Issue getting: http://i20.photobucket.com/albums/b228/NerysG/Rats/brownhoodedrex09872.jpg\n",
            "[!] Error:: Invalid image, not saving http://i20.photobucket.com/albums/b228/NerysG/Rats/brownhoodedrex09872.jpg\n",
            "\n",
            "[!] Issue getting: https://static.cnews.fr/sites/default/files/000_j647e.jpg\n",
            "[!] Error:: HTTP Error 403: Forbidden\n",
            "[!] Issue getting: https://www.rentokil.com.my/blog/wp-content/uploads/2014/07/rat3-770x360.jpg\n",
            "[!] Error:: HTTP Error 403: Forbidden\n",
            "[!] Issue getting: https://pestech247.com/wp-content/uploads/2018/04/rat23.jpg\n",
            "[!] Error:: <urlopen error [SSL: CERTIFICATE_VERIFY_FAILED] certificate verify failed: self-signed certificate (_ssl.c:1007)>\n",
            "[!] Issue getting: https://c1.staticflickr.com/7/6159/6203630537_a6026465d7_b.jpg\n",
            "[!] Error:: HTTP Error 502: Bad Gateway\n",
            "\n",
            "\n",
            "[%] Done. Downloaded 80 images.\n",
            "[%] Downloading Images to /content/dataset/test/rat\n",
            "[!] Issue getting: https://3c1703fe8d.site.internapcdn.net/newman/gfx/news/hires/2018/3-rat.jpg\n",
            "[!] Error:: <urlopen error [Errno -2] Name or service not known>\n",
            "[!] Issue getting: http://arlingtonva.s3.amazonaws.com/wp-content/uploads/sites/25/2013/12/rat.jpg\n",
            "[!] Error:: HTTP Error 403: Forbidden\n",
            "[Error]Invalid image, not saving https://mediaproxy.salon.com/width/1200/https://media.salon.com/2011/06/the_violent_new_war_on_the_rat.jpg\n",
            "\n",
            "[!] Issue getting: https://mediaproxy.salon.com/width/1200/https://media.salon.com/2011/06/the_violent_new_war_on_the_rat.jpg\n",
            "[!] Error:: Invalid image, not saving https://mediaproxy.salon.com/width/1200/https://media.salon.com/2011/06/the_violent_new_war_on_the_rat.jpg\n",
            "\n",
            "\n",
            "\n",
            "[%] Done. Downloaded 19 images.\n"
          ]
        }
      ]
    },
    {
      "cell_type": "markdown",
      "source": [
        "# Let's make sure we downloaded enough of each"
      ],
      "metadata": {
        "id": "F5lbtgMdqmPi"
      }
    },
    {
      "cell_type": "code",
      "source": [
        "import os\n",
        "\n",
        "def count_files_in_directory(directory, prefix=\"\"):\n",
        "    \"\"\"\n",
        "    Recursively counts the number of files in each directory and subdirectory.\n",
        "\n",
        "    Args:\n",
        "    - directory: The directory path to start counting from.\n",
        "    - prefix: A string used for indentation to visualize the folder structure.\n",
        "    \"\"\"\n",
        "    num_files = sum([len(files) for r, d, files in os.walk(directory)])\n",
        "    print(f\"{prefix}{os.path.basename(directory)}: {num_files} files\")\n",
        "\n",
        "    for subdir in next(os.walk(directory))[1]:  # List subdirectories of the current directory\n",
        "        path = os.path.join(directory, subdir)  # Full path of the subdirectory\n",
        "        count_files_in_directory(path, prefix + \"  \")  # Recursively count in this subdirectory\n",
        "\n",
        "# Path to the dataset directory\n",
        "dataset_dir = './dataset'\n",
        "\n",
        "# Start the recursive count\n",
        "count_files_in_directory(dataset_dir)\n"
      ],
      "metadata": {
        "id": "LVrD8wGrqCpF",
        "colab": {
          "base_uri": "https://localhost:8080/"
        },
        "outputId": "fe358cd3-8d0a-43df-c7fa-20f12ba86a5a"
      },
      "execution_count": null,
      "outputs": [
        {
          "output_type": "stream",
          "name": "stdout",
          "text": [
            "dataset: 297 files\n",
            "  train: 240 files\n",
            "    finger: 80 files\n",
            "    rat: 80 files\n",
            "    fork: 80 files\n",
            "  test: 57 files\n",
            "    finger: 19 files\n",
            "    rat: 19 files\n",
            "    fork: 19 files\n"
          ]
        }
      ]
    },
    {
      "cell_type": "markdown",
      "source": [
        "# Preprocessing the data\n",
        "\n",
        "Now that we've downloaded the data we want, we do some basic preprocessing with functions from Torchvision.\n",
        "\n",
        "For the training data, we normalize and also use some data augmentation.\n",
        "\n",
        "For the validation set, we just normalize.\n",
        "\n",
        "# Problem 1 (Nothing to turn in)\n",
        "Read about this here: https://pytorch.org/vision/stable/transforms.html"
      ],
      "metadata": {
        "id": "wM_jg2OJZrrE"
      }
    },
    {
      "cell_type": "markdown",
      "source": [
        "# We made dataloaders out of our training and testing data"
      ],
      "metadata": {
        "id": "-A2YcP-DsrJa"
      }
    },
    {
      "cell_type": "code",
      "source": [
        "\n",
        "# Data augmentation and normalization for training\n",
        "# Just normalization for validation\n",
        "\n",
        "# The directory that contains the data\n",
        "data_dir = 'dataset'\n",
        "\n",
        "# Now we apply the usual transformations\n",
        "data_transforms = {\n",
        "    'train': transforms.Compose([\n",
        "        transforms.RandomResizedCrop(224),\n",
        "        transforms.RandomHorizontalFlip(),\n",
        "        transforms.ToTensor(),\n",
        "        transforms.Normalize([0.485, 0.456, 0.406], [0.229, 0.224, 0.225])\n",
        "    ]),\n",
        "    'test': transforms.Compose([\n",
        "        transforms.Resize(256),\n",
        "        transforms.CenterCrop(224),\n",
        "        transforms.ToTensor(),\n",
        "        transforms.Normalize([0.485, 0.456, 0.406], [0.229, 0.224, 0.225])\n",
        "    ]),\n",
        "}\n",
        "image_datasets = {x: datasets.ImageFolder(os.path.join(data_dir, x),\n",
        "                                          data_transforms[x])\n",
        "                  for x in ['train', 'test']}\n",
        "dataloaders = {x: torch.utils.data.DataLoader(image_datasets[x], batch_size=4,\n",
        "                                             shuffle=True, num_workers=2)\n",
        "              for x in ['train', 'test']}\n",
        "dataset_sizes = {x: len(image_datasets[x]) for x in ['train', 'test']}\n",
        "class_names = image_datasets['train'].classes\n",
        "\n",
        "device = torch.device(\"cuda:0\" if torch.cuda.is_available() else \"cpu\")"
      ],
      "metadata": {
        "id": "86War1vrEEt3"
      },
      "execution_count": null,
      "outputs": []
    },
    {
      "cell_type": "code",
      "source": [
        "class_names"
      ],
      "metadata": {
        "colab": {
          "base_uri": "https://localhost:8080/"
        },
        "id": "DIxpuEExhOpV",
        "outputId": "5684d1bf-1e0c-4f8c-8e27-4b902c1e47c8"
      },
      "execution_count": null,
      "outputs": [
        {
          "output_type": "execute_result",
          "data": {
            "text/plain": [
              "['finger', 'fork', 'rat']"
            ]
          },
          "metadata": {},
          "execution_count": 7
        }
      ]
    },
    {
      "cell_type": "markdown",
      "source": [
        "# Problem 2\n",
        "Write code that calls the dataloaders and displays some number of images, with their true labels."
      ],
      "metadata": {
        "id": "Xlzo1o99shqr"
      }
    },
    {
      "cell_type": "code",
      "source": [
        "import matplotlib.pyplot as plt\n",
        "import numpy as np\n",
        "\n",
        "# Function to display images\n",
        "def imshow(inp, title=None):\n",
        "    \"\"\"Imshow for Tensor.\"\"\"\n",
        "    inp = inp.numpy().transpose((1, 2, 0))\n",
        "    mean = np.array([0.485, 0.456, 0.406])\n",
        "    std = np.array([0.229, 0.224, 0.225])\n",
        "    inp = std * inp + mean\n",
        "    inp = np.clip(inp, 0, 1)\n",
        "    plt.imshow(inp)\n",
        "    if title is not None:\n",
        "        plt.title(title)\n",
        "    plt.pause(0.001)  # pause a bit so that plots are updated\n",
        "\n",
        "# Get a batch of training data\n",
        "inputs, classes = next(iter(dataloaders['train']))\n",
        "\n",
        "# Make a grid from batch\n",
        "out = torchvision.utils.make_grid(inputs)\n",
        "\n",
        "imshow(out, title=[class_names[x] for x in classes])\n",
        "plt.show()"
      ],
      "metadata": {
        "colab": {
          "base_uri": "https://localhost:8080/",
          "height": 207
        },
        "id": "DdTfpJurdHWK",
        "outputId": "13c3ebd4-6089-448a-c642-9f0c050d8b56"
      },
      "execution_count": null,
      "outputs": [
        {
          "output_type": "display_data",
          "data": {
            "text/plain": [
              "<Figure size 640x480 with 1 Axes>"
            ],
            "image/png": "[encoded data removed]"
          },
          "metadata": {}
        }
      ]
    },
    {
      "cell_type": "markdown",
      "source": [
        "# Download a pre-trained model\n",
        "\n",
        "We will now download a pretrained model that has been trained on Imagenet. I recomend starting with Resnet18. See here for other larger or smaller pre-trained modfels https://pytorch.org/vision/stable/models.html"
      ],
      "metadata": {
        "id": "uHrIuplTc2Ru"
      }
    },
    {
      "cell_type": "code",
      "source": [
        "# Now we load a pre-trained model, and replace the last layer with a non-initialized linear layer.\n",
        "\n",
        "# This command loads a pre-trained model\n",
        "model_ft = models.resnet18(weights = models.ResNet18_Weights.DEFAULT)\n"
      ],
      "metadata": {
        "id": "m3vyGOX3RYhs",
        "colab": {
          "base_uri": "https://localhost:8080/"
        },
        "outputId": "4043524b-8f0e-4080-b682-0983896b7d0c"
      },
      "execution_count": null,
      "outputs": [
        {
          "output_type": "stream",
          "name": "stderr",
          "text": [
            "Downloading: \"https://download.pytorch.org/models/resnet18-f37072fd.pth\" to /root/.cache/torch/hub/checkpoints/resnet18-f37072fd.pth\n",
            "100%|██████████| 44.7M/44.7M [00:00<00:00, 162MB/s]\n"
          ]
        }
      ]
    },
    {
      "cell_type": "markdown",
      "source": [
        "# Problem 3\n",
        "\n",
        "Redefine the last layer of your neural network (called model_ft) to be a linear (fully connected layer) whose input size is whatever the input size is of the the current last layer, and whose output size is the number of labels your new data set has.\n",
        "\n",
        "You need to figure out how to do this. It's not too difficult. You need will use similar commands as you used in the last 2 homeworks in order to define a linear layer. The key will be to find out what the last layer is called, and also to find out what is its input size, so that you can properly define the size of the last fully connected (linear) layer."
      ],
      "metadata": {
        "id": "13GbkGRTtcaZ"
      }
    },
    {
      "cell_type": "code",
      "source": [
        "import torch.nn as nn\n",
        "\n",
        "# Assuming model_ft is already loaded with pre-trained weights\n",
        "# Get the input size of the last layer\n",
        "last_layer_input_size = model_ft.fc.in_features\n",
        "\n",
        "# Define the output size for your new dataset\n",
        "num_classes = len(class_names)\n",
        "\n",
        "# Redefine the last layer to have the appropriate input and output size\n",
        "model_ft.fc = nn.Linear(last_layer_input_size, num_classes)\n",
        "\n",
        "model_ft = model_ft.to(device)\n",
        "\n",
        "# Print the modified model to confirm the changes\n",
        "print(model_ft)"
      ],
      "metadata": {
        "colab": {
          "base_uri": "https://localhost:8080/"
        },
        "id": "RvWsE6Bsedw_",
        "outputId": "f008f090-e00e-4f6a-84f5-2fe08e837ba9"
      },
      "execution_count": null,
      "outputs": [
        {
          "output_type": "stream",
          "name": "stdout",
          "text": [
            "ResNet(\n",
            "  (conv1): Conv2d(3, 64, kernel_size=(7, 7), stride=(2, 2), padding=(3, 3), bias=False)\n",
            "  (bn1): BatchNorm2d(64, eps=1e-05, momentum=0.1, affine=True, track_running_stats=True)\n",
            "  (relu): ReLU(inplace=True)\n",
            "  (maxpool): MaxPool2d(kernel_size=3, stride=2, padding=1, dilation=1, ceil_mode=False)\n",
            "  (layer1): Sequential(\n",
            "    (0): BasicBlock(\n",
            "      (conv1): Conv2d(64, 64, kernel_size=(3, 3), stride=(1, 1), padding=(1, 1), bias=False)\n",
            "      (bn1): BatchNorm2d(64, eps=1e-05, momentum=0.1, affine=True, track_running_stats=True)\n",
            "      (relu): ReLU(inplace=True)\n",
            "      (conv2): Conv2d(64, 64, kernel_size=(3, 3), stride=(1, 1), padding=(1, 1), bias=False)\n",
            "      (bn2): BatchNorm2d(64, eps=1e-05, momentum=0.1, affine=True, track_running_stats=True)\n",
            "    )\n",
            "    (1): BasicBlock(\n",
            "      (conv1): Conv2d(64, 64, kernel_size=(3, 3), stride=(1, 1), padding=(1, 1), bias=False)\n",
            "      (bn1): BatchNorm2d(64, eps=1e-05, momentum=0.1, affine=True, track_running_stats=True)\n",
            "      (relu): ReLU(inplace=True)\n",
            "      (conv2): Conv2d(64, 64, kernel_size=(3, 3), stride=(1, 1), padding=(1, 1), bias=False)\n",
            "      (bn2): BatchNorm2d(64, eps=1e-05, momentum=0.1, affine=True, track_running_stats=True)\n",
            "    )\n",
            "  )\n",
            "  (layer2): Sequential(\n",
            "    (0): BasicBlock(\n",
            "      (conv1): Conv2d(64, 128, kernel_size=(3, 3), stride=(2, 2), padding=(1, 1), bias=False)\n",
            "      (bn1): BatchNorm2d(128, eps=1e-05, momentum=0.1, affine=True, track_running_stats=True)\n",
            "      (relu): ReLU(inplace=True)\n",
            "      (conv2): Conv2d(128, 128, kernel_size=(3, 3), stride=(1, 1), padding=(1, 1), bias=False)\n",
            "      (bn2): BatchNorm2d(128, eps=1e-05, momentum=0.1, affine=True, track_running_stats=True)\n",
            "      (downsample): Sequential(\n",
            "        (0): Conv2d(64, 128, kernel_size=(1, 1), stride=(2, 2), bias=False)\n",
            "        (1): BatchNorm2d(128, eps=1e-05, momentum=0.1, affine=True, track_running_stats=True)\n",
            "      )\n",
            "    )\n",
            "    (1): BasicBlock(\n",
            "      (conv1): Conv2d(128, 128, kernel_size=(3, 3), stride=(1, 1), padding=(1, 1), bias=False)\n",
            "      (bn1): BatchNorm2d(128, eps=1e-05, momentum=0.1, affine=True, track_running_stats=True)\n",
            "      (relu): ReLU(inplace=True)\n",
            "      (conv2): Conv2d(128, 128, kernel_size=(3, 3), stride=(1, 1), padding=(1, 1), bias=False)\n",
            "      (bn2): BatchNorm2d(128, eps=1e-05, momentum=0.1, affine=True, track_running_stats=True)\n",
            "    )\n",
            "  )\n",
            "  (layer3): Sequential(\n",
            "    (0): BasicBlock(\n",
            "      (conv1): Conv2d(128, 256, kernel_size=(3, 3), stride=(2, 2), padding=(1, 1), bias=False)\n",
            "      (bn1): BatchNorm2d(256, eps=1e-05, momentum=0.1, affine=True, track_running_stats=True)\n",
            "      (relu): ReLU(inplace=True)\n",
            "      (conv2): Conv2d(256, 256, kernel_size=(3, 3), stride=(1, 1), padding=(1, 1), bias=False)\n",
            "      (bn2): BatchNorm2d(256, eps=1e-05, momentum=0.1, affine=True, track_running_stats=True)\n",
            "      (downsample): Sequential(\n",
            "        (0): Conv2d(128, 256, kernel_size=(1, 1), stride=(2, 2), bias=False)\n",
            "        (1): BatchNorm2d(256, eps=1e-05, momentum=0.1, affine=True, track_running_stats=True)\n",
            "      )\n",
            "    )\n",
            "    (1): BasicBlock(\n",
            "      (conv1): Conv2d(256, 256, kernel_size=(3, 3), stride=(1, 1), padding=(1, 1), bias=False)\n",
            "      (bn1): BatchNorm2d(256, eps=1e-05, momentum=0.1, affine=True, track_running_stats=True)\n",
            "      (relu): ReLU(inplace=True)\n",
            "      (conv2): Conv2d(256, 256, kernel_size=(3, 3), stride=(1, 1), padding=(1, 1), bias=False)\n",
            "      (bn2): BatchNorm2d(256, eps=1e-05, momentum=0.1, affine=True, track_running_stats=True)\n",
            "    )\n",
            "  )\n",
            "  (layer4): Sequential(\n",
            "    (0): BasicBlock(\n",
            "      (conv1): Conv2d(256, 512, kernel_size=(3, 3), stride=(2, 2), padding=(1, 1), bias=False)\n",
            "      (bn1): BatchNorm2d(512, eps=1e-05, momentum=0.1, affine=True, track_running_stats=True)\n",
            "      (relu): ReLU(inplace=True)\n",
            "      (conv2): Conv2d(512, 512, kernel_size=(3, 3), stride=(1, 1), padding=(1, 1), bias=False)\n",
            "      (bn2): BatchNorm2d(512, eps=1e-05, momentum=0.1, affine=True, track_running_stats=True)\n",
            "      (downsample): Sequential(\n",
            "        (0): Conv2d(256, 512, kernel_size=(1, 1), stride=(2, 2), bias=False)\n",
            "        (1): BatchNorm2d(512, eps=1e-05, momentum=0.1, affine=True, track_running_stats=True)\n",
            "      )\n",
            "    )\n",
            "    (1): BasicBlock(\n",
            "      (conv1): Conv2d(512, 512, kernel_size=(3, 3), stride=(1, 1), padding=(1, 1), bias=False)\n",
            "      (bn1): BatchNorm2d(512, eps=1e-05, momentum=0.1, affine=True, track_running_stats=True)\n",
            "      (relu): ReLU(inplace=True)\n",
            "      (conv2): Conv2d(512, 512, kernel_size=(3, 3), stride=(1, 1), padding=(1, 1), bias=False)\n",
            "      (bn2): BatchNorm2d(512, eps=1e-05, momentum=0.1, affine=True, track_running_stats=True)\n",
            "    )\n",
            "  )\n",
            "  (avgpool): AdaptiveAvgPool2d(output_size=(1, 1))\n",
            "  (fc): Linear(in_features=512, out_features=3, bias=True)\n",
            ")\n"
          ]
        }
      ]
    },
    {
      "cell_type": "markdown",
      "source": [
        "# Training\n",
        "\n",
        "* We are going to fine-tune by training all the layers.\n",
        "\n",
        "* We can also freeze the old layers, and only update the last layers that we added. (This is not implemented below.)"
      ],
      "metadata": {
        "id": "DwucrYZybObc"
      }
    },
    {
      "cell_type": "code",
      "source": [
        "def train_model(model, criterion, optimizer, scheduler, num_epochs=25):\n",
        "    since = time.time()\n",
        "\n",
        "    best_model_wts = copy.deepcopy(model.state_dict())\n",
        "    best_acc = 0.0\n",
        "\n",
        "    for epoch in range(num_epochs):\n",
        "        print('Epoch {}/{}'.format(epoch, num_epochs - 1))\n",
        "        print('-' * 10)\n",
        "\n",
        "        # Each epoch has a training and validation phase\n",
        "        for phase in ['train', 'test']:\n",
        "            if phase == 'train':\n",
        "                model.train()  # Set model to training mode\n",
        "            else:\n",
        "                model.eval()   # Set model to evaluate mode\n",
        "\n",
        "            running_loss = 0.0\n",
        "            running_corrects = 0\n",
        "\n",
        "            # Iterate over data.\n",
        "            for inputs, labels in dataloaders[phase]:\n",
        "                inputs = inputs.to(device)\n",
        "                labels = labels.to(device)\n",
        "\n",
        "                # zero the parameter gradients\n",
        "                optimizer.zero_grad()\n",
        "\n",
        "                # forward\n",
        "                # track history if only in train\n",
        "                with torch.set_grad_enabled(phase == 'train'):\n",
        "                    outputs = model(inputs)\n",
        "                    _, preds = torch.max(outputs, 1)\n",
        "                    loss = criterion(outputs, labels)\n",
        "\n",
        "                    # backward + optimize only if in training phase\n",
        "                    if phase == 'train':\n",
        "                        loss.backward()\n",
        "                        optimizer.step()\n",
        "\n",
        "                # statistics\n",
        "                running_loss += loss.item() * inputs.size(0)\n",
        "                running_corrects += torch.sum(preds == labels.data)\n",
        "            if phase == 'train':\n",
        "                scheduler.step() # updates the learning rate\n",
        "\n",
        "            epoch_loss = running_loss / dataset_sizes[phase]\n",
        "            epoch_acc = running_corrects.double() / dataset_sizes[phase]\n",
        "\n",
        "            print('{} Loss: {:.4f} Acc: {:.4f}'.format(\n",
        "                phase, epoch_loss, epoch_acc))\n",
        "\n",
        "            # deep copy the model\n",
        "            if phase == 'test' and epoch_acc > best_acc:\n",
        "                best_acc = epoch_acc\n",
        "                best_model_wts = copy.deepcopy(model.state_dict())\n",
        "\n",
        "        print()\n",
        "\n",
        "    time_elapsed = time.time() - since\n",
        "    print('Training complete in {:.0f}m {:.0f}s'.format(\n",
        "        time_elapsed // 60, time_elapsed % 60))\n",
        "    print('Best test Acc: {:4f}'.format(best_acc))\n",
        "\n",
        "    # load best model weights\n",
        "    model.load_state_dict(best_model_wts)\n",
        "    return model"
      ],
      "metadata": {
        "id": "S-QsYuBCMAgN"
      },
      "execution_count": null,
      "outputs": []
    },
    {
      "cell_type": "markdown",
      "source": [
        "# Parameters of the optimization\n",
        "\n",
        "# Problem 4 (Optional)\n",
        "Explore choosing different learning rates or optimizers to see how things go."
      ],
      "metadata": {
        "id": "A1I3mmjqdGoT"
      }
    },
    {
      "cell_type": "code",
      "source": [
        "# We need to set the loss function, the optimizer, and the learning rate scheduler\n",
        "criterion = nn.CrossEntropyLoss()\n",
        "# though we're fine tuning, we're updating all parameters\n",
        "optimizer_ft = optim.SGD(model_ft.parameters(), lr=0.001, momentum=0.9)\n",
        "# the scheduler decreases the learning rate by a factor of 0.1 every 7 epochs\n",
        "exp_lr_scheduler = lr_scheduler.StepLR(optimizer_ft, step_size=7, gamma=0.1)"
      ],
      "metadata": {
        "id": "VDSsV8q6RbNN"
      },
      "execution_count": null,
      "outputs": []
    },
    {
      "cell_type": "markdown",
      "source": [
        "# Train"
      ],
      "metadata": {
        "id": "mM56-XrFdMy2"
      }
    },
    {
      "cell_type": "code",
      "source": [
        "# Now we train\n",
        "model_ft = train_model(model_ft, criterion, optimizer_ft, exp_lr_scheduler,num_epochs=25)"
      ],
      "metadata": {
        "id": "qxFpXJsTS4i_",
        "colab": {
          "base_uri": "https://localhost:8080/"
        },
        "outputId": "745ffddf-dba1-49fc-88f3-386ce1750607"
      },
      "execution_count": null,
      "outputs": [
        {
          "output_type": "stream",
          "name": "stdout",
          "text": [
            "Epoch 0/24\n",
            "----------\n"
          ]
        },
        {
          "output_type": "stream",
          "name": "stderr",
          "text": [
            "/usr/local/lib/python3.10/dist-packages/PIL/Image.py:996: UserWarning: Palette images with Transparency expressed in bytes should be converted to RGBA images\n",
            "  warnings.warn(\n"
          ]
        },
        {
          "output_type": "stream",
          "name": "stdout",
          "text": [
            "train Loss: 0.6706 Acc: 0.6835\n",
            "test Loss: 0.0152 Acc: 1.0000\n",
            "\n",
            "Epoch 1/24\n",
            "----------\n"
          ]
        },
        {
          "output_type": "stream",
          "name": "stderr",
          "text": [
            "/usr/local/lib/python3.10/dist-packages/PIL/Image.py:996: UserWarning: Palette images with Transparency expressed in bytes should be converted to RGBA images\n",
            "  warnings.warn(\n"
          ]
        },
        {
          "output_type": "stream",
          "name": "stdout",
          "text": [
            "train Loss: 0.4749 Acc: 0.8270\n",
            "test Loss: 0.0101 Acc: 1.0000\n",
            "\n",
            "Epoch 2/24\n",
            "----------\n"
          ]
        },
        {
          "output_type": "stream",
          "name": "stderr",
          "text": [
            "/usr/local/lib/python3.10/dist-packages/PIL/Image.py:996: UserWarning: Palette images with Transparency expressed in bytes should be converted to RGBA images\n",
            "  warnings.warn(\n"
          ]
        },
        {
          "output_type": "stream",
          "name": "stdout",
          "text": [
            "train Loss: 0.4186 Acc: 0.8565\n",
            "test Loss: 0.0097 Acc: 1.0000\n",
            "\n",
            "Epoch 3/24\n",
            "----------\n"
          ]
        },
        {
          "output_type": "stream",
          "name": "stderr",
          "text": [
            "/usr/local/lib/python3.10/dist-packages/PIL/Image.py:996: UserWarning: Palette images with Transparency expressed in bytes should be converted to RGBA images\n",
            "  warnings.warn(\n"
          ]
        },
        {
          "output_type": "stream",
          "name": "stdout",
          "text": [
            "train Loss: 0.7376 Acc: 0.7764\n",
            "test Loss: 0.1085 Acc: 0.9636\n",
            "\n",
            "Epoch 4/24\n",
            "----------\n"
          ]
        },
        {
          "output_type": "stream",
          "name": "stderr",
          "text": [
            "/usr/local/lib/python3.10/dist-packages/PIL/Image.py:996: UserWarning: Palette images with Transparency expressed in bytes should be converted to RGBA images\n",
            "  warnings.warn(\n"
          ]
        },
        {
          "output_type": "stream",
          "name": "stdout",
          "text": [
            "train Loss: 0.4764 Acc: 0.8439\n",
            "test Loss: 0.0390 Acc: 0.9818\n",
            "\n",
            "Epoch 5/24\n",
            "----------\n"
          ]
        },
        {
          "output_type": "stream",
          "name": "stderr",
          "text": [
            "/usr/local/lib/python3.10/dist-packages/PIL/Image.py:996: UserWarning: Palette images with Transparency expressed in bytes should be converted to RGBA images\n",
            "  warnings.warn(\n"
          ]
        },
        {
          "output_type": "stream",
          "name": "stdout",
          "text": [
            "train Loss: 0.5043 Acc: 0.8312\n",
            "test Loss: 0.0730 Acc: 0.9636\n",
            "\n",
            "Epoch 6/24\n",
            "----------\n"
          ]
        },
        {
          "output_type": "stream",
          "name": "stderr",
          "text": [
            "/usr/local/lib/python3.10/dist-packages/PIL/Image.py:996: UserWarning: Palette images with Transparency expressed in bytes should be converted to RGBA images\n",
            "  warnings.warn(\n"
          ]
        },
        {
          "output_type": "stream",
          "name": "stdout",
          "text": [
            "train Loss: 0.6049 Acc: 0.7764\n",
            "test Loss: 0.0650 Acc: 0.9636\n",
            "\n",
            "Epoch 7/24\n",
            "----------\n"
          ]
        },
        {
          "output_type": "stream",
          "name": "stderr",
          "text": [
            "/usr/local/lib/python3.10/dist-packages/PIL/Image.py:996: UserWarning: Palette images with Transparency expressed in bytes should be converted to RGBA images\n",
            "  warnings.warn(\n"
          ]
        },
        {
          "output_type": "stream",
          "name": "stdout",
          "text": [
            "train Loss: 0.3250 Acc: 0.8776\n",
            "test Loss: 0.0110 Acc: 1.0000\n",
            "\n",
            "Epoch 8/24\n",
            "----------\n"
          ]
        },
        {
          "output_type": "stream",
          "name": "stderr",
          "text": [
            "/usr/local/lib/python3.10/dist-packages/PIL/Image.py:996: UserWarning: Palette images with Transparency expressed in bytes should be converted to RGBA images\n",
            "  warnings.warn(\n"
          ]
        },
        {
          "output_type": "stream",
          "name": "stdout",
          "text": [
            "train Loss: 0.2867 Acc: 0.8945\n",
            "test Loss: 0.0354 Acc: 0.9818\n",
            "\n",
            "Epoch 9/24\n",
            "----------\n"
          ]
        },
        {
          "output_type": "stream",
          "name": "stderr",
          "text": [
            "/usr/local/lib/python3.10/dist-packages/PIL/Image.py:996: UserWarning: Palette images with Transparency expressed in bytes should be converted to RGBA images\n",
            "  warnings.warn(\n"
          ]
        },
        {
          "output_type": "stream",
          "name": "stdout",
          "text": [
            "train Loss: 0.2686 Acc: 0.9156\n",
            "test Loss: 0.0093 Acc: 1.0000\n",
            "\n",
            "Epoch 10/24\n",
            "----------\n"
          ]
        },
        {
          "output_type": "stream",
          "name": "stderr",
          "text": [
            "/usr/local/lib/python3.10/dist-packages/PIL/Image.py:996: UserWarning: Palette images with Transparency expressed in bytes should be converted to RGBA images\n",
            "  warnings.warn(\n"
          ]
        },
        {
          "output_type": "stream",
          "name": "stdout",
          "text": [
            "train Loss: 0.4023 Acc: 0.8439\n",
            "test Loss: 0.0040 Acc: 1.0000\n",
            "\n",
            "Epoch 11/24\n",
            "----------\n"
          ]
        },
        {
          "output_type": "stream",
          "name": "stderr",
          "text": [
            "/usr/local/lib/python3.10/dist-packages/PIL/Image.py:996: UserWarning: Palette images with Transparency expressed in bytes should be converted to RGBA images\n",
            "  warnings.warn(\n"
          ]
        },
        {
          "output_type": "stream",
          "name": "stdout",
          "text": [
            "train Loss: 0.3381 Acc: 0.8608\n",
            "test Loss: 0.0070 Acc: 1.0000\n",
            "\n",
            "Epoch 12/24\n",
            "----------\n"
          ]
        },
        {
          "output_type": "stream",
          "name": "stderr",
          "text": [
            "/usr/local/lib/python3.10/dist-packages/PIL/Image.py:996: UserWarning: Palette images with Transparency expressed in bytes should be converted to RGBA images\n",
            "  warnings.warn(\n"
          ]
        },
        {
          "output_type": "stream",
          "name": "stdout",
          "text": [
            "train Loss: 0.2891 Acc: 0.8692\n",
            "test Loss: 0.0042 Acc: 1.0000\n",
            "\n",
            "Epoch 13/24\n",
            "----------\n"
          ]
        },
        {
          "output_type": "stream",
          "name": "stderr",
          "text": [
            "/usr/local/lib/python3.10/dist-packages/PIL/Image.py:996: UserWarning: Palette images with Transparency expressed in bytes should be converted to RGBA images\n",
            "  warnings.warn(\n"
          ]
        },
        {
          "output_type": "stream",
          "name": "stdout",
          "text": [
            "train Loss: 0.1941 Acc: 0.9156\n",
            "test Loss: 0.0048 Acc: 1.0000\n",
            "\n",
            "Epoch 14/24\n",
            "----------\n"
          ]
        },
        {
          "output_type": "stream",
          "name": "stderr",
          "text": [
            "/usr/local/lib/python3.10/dist-packages/PIL/Image.py:996: UserWarning: Palette images with Transparency expressed in bytes should be converted to RGBA images\n",
            "  warnings.warn(\n"
          ]
        },
        {
          "output_type": "stream",
          "name": "stdout",
          "text": [
            "train Loss: 0.2861 Acc: 0.9030\n",
            "test Loss: 0.0081 Acc: 1.0000\n",
            "\n",
            "Epoch 15/24\n",
            "----------\n"
          ]
        },
        {
          "output_type": "stream",
          "name": "stderr",
          "text": [
            "/usr/local/lib/python3.10/dist-packages/PIL/Image.py:996: UserWarning: Palette images with Transparency expressed in bytes should be converted to RGBA images\n",
            "  warnings.warn(\n"
          ]
        },
        {
          "output_type": "stream",
          "name": "stdout",
          "text": [
            "train Loss: 0.2258 Acc: 0.9325\n",
            "test Loss: 0.0091 Acc: 1.0000\n",
            "\n",
            "Epoch 16/24\n",
            "----------\n"
          ]
        },
        {
          "output_type": "stream",
          "name": "stderr",
          "text": [
            "/usr/local/lib/python3.10/dist-packages/PIL/Image.py:996: UserWarning: Palette images with Transparency expressed in bytes should be converted to RGBA images\n",
            "  warnings.warn(\n"
          ]
        },
        {
          "output_type": "stream",
          "name": "stdout",
          "text": [
            "train Loss: 0.2897 Acc: 0.9030\n",
            "test Loss: 0.0060 Acc: 1.0000\n",
            "\n",
            "Epoch 17/24\n",
            "----------\n"
          ]
        },
        {
          "output_type": "stream",
          "name": "stderr",
          "text": [
            "/usr/local/lib/python3.10/dist-packages/PIL/Image.py:996: UserWarning: Palette images with Transparency expressed in bytes should be converted to RGBA images\n",
            "  warnings.warn(\n"
          ]
        },
        {
          "output_type": "stream",
          "name": "stdout",
          "text": [
            "train Loss: 0.2693 Acc: 0.8903\n",
            "test Loss: 0.0049 Acc: 1.0000\n",
            "\n",
            "Epoch 18/24\n",
            "----------\n"
          ]
        },
        {
          "output_type": "stream",
          "name": "stderr",
          "text": [
            "/usr/local/lib/python3.10/dist-packages/PIL/Image.py:996: UserWarning: Palette images with Transparency expressed in bytes should be converted to RGBA images\n",
            "  warnings.warn(\n"
          ]
        },
        {
          "output_type": "stream",
          "name": "stdout",
          "text": [
            "train Loss: 0.1998 Acc: 0.9072\n",
            "test Loss: 0.0047 Acc: 1.0000\n",
            "\n",
            "Epoch 19/24\n",
            "----------\n"
          ]
        },
        {
          "output_type": "stream",
          "name": "stderr",
          "text": [
            "/usr/local/lib/python3.10/dist-packages/PIL/Image.py:996: UserWarning: Palette images with Transparency expressed in bytes should be converted to RGBA images\n",
            "  warnings.warn(\n"
          ]
        },
        {
          "output_type": "stream",
          "name": "stdout",
          "text": [
            "train Loss: 0.2483 Acc: 0.8987\n",
            "test Loss: 0.0048 Acc: 1.0000\n",
            "\n",
            "Epoch 20/24\n",
            "----------\n"
          ]
        },
        {
          "output_type": "stream",
          "name": "stderr",
          "text": [
            "/usr/local/lib/python3.10/dist-packages/PIL/Image.py:996: UserWarning: Palette images with Transparency expressed in bytes should be converted to RGBA images\n",
            "  warnings.warn(\n"
          ]
        },
        {
          "output_type": "stream",
          "name": "stdout",
          "text": [
            "train Loss: 0.2896 Acc: 0.8903\n",
            "test Loss: 0.0074 Acc: 1.0000\n",
            "\n",
            "Epoch 21/24\n",
            "----------\n"
          ]
        },
        {
          "output_type": "stream",
          "name": "stderr",
          "text": [
            "/usr/local/lib/python3.10/dist-packages/PIL/Image.py:996: UserWarning: Palette images with Transparency expressed in bytes should be converted to RGBA images\n",
            "  warnings.warn(\n"
          ]
        },
        {
          "output_type": "stream",
          "name": "stdout",
          "text": [
            "train Loss: 0.2844 Acc: 0.8861\n",
            "test Loss: 0.0039 Acc: 1.0000\n",
            "\n",
            "Epoch 22/24\n",
            "----------\n"
          ]
        },
        {
          "output_type": "stream",
          "name": "stderr",
          "text": [
            "/usr/local/lib/python3.10/dist-packages/PIL/Image.py:996: UserWarning: Palette images with Transparency expressed in bytes should be converted to RGBA images\n",
            "  warnings.warn(\n"
          ]
        },
        {
          "output_type": "stream",
          "name": "stdout",
          "text": [
            "train Loss: 0.2077 Acc: 0.9367\n",
            "test Loss: 0.0037 Acc: 1.0000\n",
            "\n",
            "Epoch 23/24\n",
            "----------\n"
          ]
        },
        {
          "output_type": "stream",
          "name": "stderr",
          "text": [
            "/usr/local/lib/python3.10/dist-packages/PIL/Image.py:996: UserWarning: Palette images with Transparency expressed in bytes should be converted to RGBA images\n",
            "  warnings.warn(\n"
          ]
        },
        {
          "output_type": "stream",
          "name": "stdout",
          "text": [
            "train Loss: 0.2061 Acc: 0.9325\n",
            "test Loss: 0.0038 Acc: 1.0000\n",
            "\n",
            "Epoch 24/24\n",
            "----------\n"
          ]
        },
        {
          "output_type": "stream",
          "name": "stderr",
          "text": [
            "/usr/local/lib/python3.10/dist-packages/PIL/Image.py:996: UserWarning: Palette images with Transparency expressed in bytes should be converted to RGBA images\n",
            "  warnings.warn(\n"
          ]
        },
        {
          "output_type": "stream",
          "name": "stdout",
          "text": [
            "train Loss: 0.2598 Acc: 0.9156\n",
            "test Loss: 0.0029 Acc: 1.0000\n",
            "\n",
            "Training complete in 3m 3s\n",
            "Best test Acc: 1.000000\n"
          ]
        }
      ]
    },
    {
      "cell_type": "markdown",
      "source": [
        "# Problem 5\n",
        "\n",
        "Report your accuracy on the testing set. You should compute this explicitly by running all your testing examples through the model and checking them against their true labels."
      ],
      "metadata": {
        "id": "y0nNjs-8ulBx"
      }
    },
    {
      "cell_type": "code",
      "source": [
        "correct = 0\n",
        "total = 0\n",
        "with torch.no_grad():\n",
        "    for data in dataloaders['test']:\n",
        "        images, labels = data[0].to(device), data[1].to(device)\n",
        "        outputs = model_ft(images)\n",
        "        _, predicted = torch.max(outputs.data, 1)\n",
        "        total += labels.size(0)\n",
        "        correct += (predicted == labels).sum().item()\n",
        "\n",
        "print('Accuracy of the network on the test images: %d %%' % (\n",
        "    100 * correct / total))"
      ],
      "metadata": {
        "id": "1aC39SpNfqc_",
        "colab": {
          "base_uri": "https://localhost:8080/"
        },
        "outputId": "d10aca97-88c4-4465-b507-c9c924f5f27e"
      },
      "execution_count": null,
      "outputs": [
        {
          "output_type": "stream",
          "name": "stdout",
          "text": [
            "Accuracy of the network on the test images: 100 %\n"
          ]
        }
      ]
    },
    {
      "cell_type": "markdown",
      "source": [
        "# Now let's visualize to see how well we did"
      ],
      "metadata": {
        "id": "YmgRXICurg58"
      }
    },
    {
      "cell_type": "markdown",
      "source": [
        "# Problem 6\n",
        "\n",
        "Print out images from the test set, reporting the predicted labels and the true labels."
      ],
      "metadata": {
        "id": "PB4a07eUuzze"
      }
    },
    {
      "cell_type": "code",
      "source": [
        "# Function to display images from the test set along with predictions\n",
        "def visualize_model(model, num_images=6):\n",
        "    was_training = model.training\n",
        "    model.eval()\n",
        "    images_so_far = 0\n",
        "    fig = plt.figure()\n",
        "\n",
        "    with torch.no_grad():\n",
        "        for i, (inputs, labels) in enumerate(dataloaders['test']):\n",
        "            inputs = inputs.to(device)\n",
        "            labels = labels.to(device)\n",
        "\n",
        "            outputs = model(inputs)\n",
        "            _, preds = torch.max(outputs, 1)\n",
        "\n",
        "            for j in range(inputs.size()[0]):\n",
        "                images_so_far += 1\n",
        "                ax = plt.subplot(num_images//2, 2, images_so_far)\n",
        "                ax.axis('off')\n",
        "                ax.set_title('predicted: {} - true: {}'.format(class_names[preds[j]], class_names[labels[j]]))\n",
        "                imshow(inputs.cpu().data[j])\n",
        "\n",
        "                if images_so_far == num_images:\n",
        "                    model.train(mode=was_training)\n",
        "                    return\n",
        "        model.train(mode=was_training)\n",
        "\n",
        "visualize_model(model_ft)\n",
        "plt.show()"
      ],
      "metadata": {
        "id": "tnaJEzjrfrKp",
        "colab": {
          "base_uri": "https://localhost:8080/",
          "height": 923
        },
        "outputId": "7fbf6e6e-fc73-4808-bee7-f5eb2aaffd84"
      },
      "execution_count": null,
      "outputs": [
        {
          "output_type": "display_data",
          "data": {
            "text/plain": [
              "<Figure size 640x480 with 1 Axes>"
            ],
            "image/png": "[encoded data removed]"
          },
          "metadata": {}
        },
        {
          "output_type": "display_data",
          "data": {
            "text/plain": [
              "<Figure size 640x480 with 1 Axes>"
            ],
            "image/png": "[encoded data removed]"
          },
          "metadata": {}
        },
        {
          "output_type": "display_data",
          "data": {
            "text/plain": [
              "<Figure size 640x480 with 1 Axes>"
            ],
            "image/png": "[encoded data removed]"
          },
          "metadata": {}
        },
        {
          "output_type": "display_data",
          "data": {
            "text/plain": [
              "<Figure size 640x480 with 1 Axes>"
            ],
            "image/png": "[encoded data removed]"
          },
          "metadata": {}
        },
        {
          "output_type": "display_data",
          "data": {
            "text/plain": [
              "<Figure size 640x480 with 1 Axes>"
            ],
            "image/png": "[encoded data removed]"
          },
          "metadata": {}
        },
        {
          "output_type": "display_data",
          "data": {
            "text/plain": [
              "<Figure size 640x480 with 1 Axes>"
            ],
            "image/png": "[encoded data removed]"
          },
          "metadata": {}
        }
      ]
    },
    {
      "cell_type": "markdown",
      "source": [
        "# Problem 7 (Optional)\n",
        "\n",
        "Experiment with some/all of the following:\n",
        "\n",
        "* Play with different pre-trained models\n",
        "* Experiment with different pre-processing of the data (e.g., turn data augmentation on or off).\n",
        "* Experiment with adding more/fewer layers, and/or layers of different size.\n",
        "* Fine tune by training everything or only the last (new) layer -- this requires figuring out how to only update some of the layers.\n",
        "* Try to reduce the number of images you use for training. How few can you use and still get good accuracy? Remember that you were all able to learn what a Goblin shark is with only one single example."
      ],
      "metadata": {
        "id": "Ens6LEm3vCZ3"
      }
    },
    {
      "cell_type": "code",
      "source": [
        "# 1. Play with different pre-trained models\n",
        "# Load a different pre-trained model, for example, ResNet50\n",
        "model_ft = models.resnet50(pretrained=True)\n",
        "\n",
        "# Replace the last layer\n",
        "model_ft.fc = nn.Linear(model_ft.fc.in_features, num_classes)"
      ],
      "metadata": {
        "id": "27nzMAEsf7Ph"
      },
      "execution_count": null,
      "outputs": []
    },
    {
      "cell_type": "code",
      "source": [
        "# 2. Experiment with different pre-processing of the data\n",
        "# Change data augmentation for the training set\n",
        "data_transforms = {\n",
        "    'train': transforms.Compose([\n",
        "        transforms.RandomResizedCrop(224),\n",
        "        transforms.RandomHorizontalFlip(),\n",
        "        transforms.ColorJitter(brightness=0.4, contrast=0.4, saturation=0.4, hue=0.1),\n",
        "        transforms.RandomRotation(degrees=30),\n",
        "        transforms.ToTensor(),\n",
        "        transforms.Normalize([0.485, 0.456, 0.406], [0.229, 0.224, 0.225])\n",
        "    ]),\n",
        "    'test': transforms.Compose([\n",
        "        transforms.Resize(256),\n",
        "        transforms.CenterCrop(224),\n",
        "        transforms.ToTensor(),\n",
        "        transforms.Normalize([0.485, 0.456, 0.406], [0.229, 0.224, 0.225])\n",
        "    ]),\n",
        "}"
      ],
      "metadata": {
        "id": "6GpE0vH4f7I8"
      },
      "execution_count": null,
      "outputs": []
    },
    {
      "cell_type": "code",
      "source": [
        "# 3. Experiment with adding more/fewer layers, and/or layers of different size\n",
        "# Add more layers after the pre-trained backbone\n",
        "model_ft.fc = nn.Sequential(\n",
        "    nn.Linear(model_ft.fc.in_features, 512),\n",
        "    nn.ReLU(inplace=True),\n",
        "    nn.Dropout(0.5),\n",
        "    nn.Linear(512, num_classes)\n",
        ")"
      ],
      "metadata": {
        "id": "XCtKh1Y4f6-9"
      },
      "execution_count": null,
      "outputs": []
    },
    {
      "cell_type": "code",
      "source": [
        "# Set all parameters of the model to require gradients\n",
        "for param in model_ft.parameters():\n",
        "    param.requires_grad = True\n",
        "\n",
        "# Alternatively, you can selectively choose which parameters to require gradients\n",
        "# For example, if you only want to train the last layer:\n",
        "for name, param in model_ft.named_parameters():\n",
        "    if name.startswith('fc'):  # Assuming the last layer is named 'fc'\n",
        "        param.requires_grad = True\n",
        "    else:\n",
        "        param.requires_grad = False"
      ],
      "metadata": {
        "id": "nCpTyqqXf-M5"
      },
      "execution_count": null,
      "outputs": []
    },
    {
      "cell_type": "code",
      "source": [
        "# Define the optimizer to update only the parameters of the last layer\n",
        "optimizer_ft = optim.SGD(model_ft.fc.parameters(), lr=0.001, momentum=0.9)\n",
        "\n",
        "model_ft = model_ft.to(device)\n",
        "\n",
        "# Train the model with only the last layer being trained\n",
        "model_ft = train_model(model_ft, criterion, optimizer_ft, exp_lr_scheduler, num_epochs=25)"
      ],
      "metadata": {
        "id": "LrZ6E4T0sUxN",
        "colab": {
          "base_uri": "https://localhost:8080/"
        },
        "outputId": "95286261-c8fc-4a8a-97a1-253f88596773"
      },
      "execution_count": null,
      "outputs": [
        {
          "output_type": "stream",
          "name": "stdout",
          "text": [
            "Epoch 0/24\n",
            "----------\n"
          ]
        },
        {
          "output_type": "stream",
          "name": "stderr",
          "text": [
            "/usr/local/lib/python3.10/dist-packages/PIL/Image.py:996: UserWarning: Palette images with Transparency expressed in bytes should be converted to RGBA images\n",
            "  warnings.warn(\n"
          ]
        },
        {
          "output_type": "stream",
          "name": "stdout",
          "text": [
            "train Loss: 0.9998 Acc: 0.4810\n",
            "test Loss: 0.6451 Acc: 0.9091\n",
            "\n",
            "Epoch 1/24\n",
            "----------\n"
          ]
        },
        {
          "output_type": "stream",
          "name": "stderr",
          "text": [
            "/usr/local/lib/python3.10/dist-packages/PIL/Image.py:996: UserWarning: Palette images with Transparency expressed in bytes should be converted to RGBA images\n",
            "  warnings.warn(\n"
          ]
        },
        {
          "output_type": "stream",
          "name": "stdout",
          "text": [
            "train Loss: 0.7678 Acc: 0.6751\n",
            "test Loss: 0.3039 Acc: 1.0000\n",
            "\n",
            "Epoch 2/24\n",
            "----------\n"
          ]
        },
        {
          "output_type": "stream",
          "name": "stderr",
          "text": [
            "/usr/local/lib/python3.10/dist-packages/PIL/Image.py:996: UserWarning: Palette images with Transparency expressed in bytes should be converted to RGBA images\n",
            "  warnings.warn(\n"
          ]
        },
        {
          "output_type": "stream",
          "name": "stdout",
          "text": [
            "train Loss: 0.5972 Acc: 0.7848\n",
            "test Loss: 0.1238 Acc: 1.0000\n",
            "\n",
            "Epoch 3/24\n",
            "----------\n"
          ]
        },
        {
          "output_type": "stream",
          "name": "stderr",
          "text": [
            "/usr/local/lib/python3.10/dist-packages/PIL/Image.py:996: UserWarning: Palette images with Transparency expressed in bytes should be converted to RGBA images\n",
            "  warnings.warn(\n"
          ]
        },
        {
          "output_type": "stream",
          "name": "stdout",
          "text": [
            "train Loss: 0.5527 Acc: 0.7890\n",
            "test Loss: 0.1078 Acc: 1.0000\n",
            "\n",
            "Epoch 4/24\n",
            "----------\n"
          ]
        },
        {
          "output_type": "stream",
          "name": "stderr",
          "text": [
            "/usr/local/lib/python3.10/dist-packages/PIL/Image.py:996: UserWarning: Palette images with Transparency expressed in bytes should be converted to RGBA images\n",
            "  warnings.warn(\n"
          ]
        },
        {
          "output_type": "stream",
          "name": "stdout",
          "text": [
            "train Loss: 0.6060 Acc: 0.7257\n",
            "test Loss: 0.0904 Acc: 1.0000\n",
            "\n",
            "Epoch 5/24\n",
            "----------\n"
          ]
        },
        {
          "output_type": "stream",
          "name": "stderr",
          "text": [
            "/usr/local/lib/python3.10/dist-packages/PIL/Image.py:996: UserWarning: Palette images with Transparency expressed in bytes should be converted to RGBA images\n",
            "  warnings.warn(\n"
          ]
        },
        {
          "output_type": "stream",
          "name": "stdout",
          "text": [
            "train Loss: 0.5136 Acc: 0.8101\n",
            "test Loss: 0.0748 Acc: 1.0000\n",
            "\n",
            "Epoch 6/24\n",
            "----------\n"
          ]
        },
        {
          "output_type": "stream",
          "name": "stderr",
          "text": [
            "/usr/local/lib/python3.10/dist-packages/PIL/Image.py:996: UserWarning: Palette images with Transparency expressed in bytes should be converted to RGBA images\n",
            "  warnings.warn(\n"
          ]
        },
        {
          "output_type": "stream",
          "name": "stdout",
          "text": [
            "train Loss: 0.4784 Acc: 0.8186\n",
            "test Loss: 0.0672 Acc: 1.0000\n",
            "\n",
            "Epoch 7/24\n",
            "----------\n"
          ]
        },
        {
          "output_type": "stream",
          "name": "stderr",
          "text": [
            "/usr/local/lib/python3.10/dist-packages/PIL/Image.py:996: UserWarning: Palette images with Transparency expressed in bytes should be converted to RGBA images\n",
            "  warnings.warn(\n"
          ]
        },
        {
          "output_type": "stream",
          "name": "stdout",
          "text": [
            "train Loss: 0.4876 Acc: 0.7890\n",
            "test Loss: 0.0340 Acc: 1.0000\n",
            "\n",
            "Epoch 8/24\n",
            "----------\n"
          ]
        },
        {
          "output_type": "stream",
          "name": "stderr",
          "text": [
            "/usr/local/lib/python3.10/dist-packages/PIL/Image.py:996: UserWarning: Palette images with Transparency expressed in bytes should be converted to RGBA images\n",
            "  warnings.warn(\n"
          ]
        },
        {
          "output_type": "stream",
          "name": "stdout",
          "text": [
            "train Loss: 0.4347 Acc: 0.8186\n",
            "test Loss: 0.0175 Acc: 1.0000\n",
            "\n",
            "Epoch 9/24\n",
            "----------\n"
          ]
        },
        {
          "output_type": "stream",
          "name": "stderr",
          "text": [
            "/usr/local/lib/python3.10/dist-packages/PIL/Image.py:996: UserWarning: Palette images with Transparency expressed in bytes should be converted to RGBA images\n",
            "  warnings.warn(\n"
          ]
        },
        {
          "output_type": "stream",
          "name": "stdout",
          "text": [
            "train Loss: 0.4492 Acc: 0.8312\n",
            "test Loss: 0.0295 Acc: 1.0000\n",
            "\n",
            "Epoch 10/24\n",
            "----------\n"
          ]
        },
        {
          "output_type": "stream",
          "name": "stderr",
          "text": [
            "/usr/local/lib/python3.10/dist-packages/PIL/Image.py:996: UserWarning: Palette images with Transparency expressed in bytes should be converted to RGBA images\n",
            "  warnings.warn(\n"
          ]
        },
        {
          "output_type": "stream",
          "name": "stdout",
          "text": [
            "train Loss: 0.4490 Acc: 0.7932\n",
            "test Loss: 0.0398 Acc: 1.0000\n",
            "\n",
            "Epoch 11/24\n",
            "----------\n"
          ]
        },
        {
          "output_type": "stream",
          "name": "stderr",
          "text": [
            "/usr/local/lib/python3.10/dist-packages/PIL/Image.py:996: UserWarning: Palette images with Transparency expressed in bytes should be converted to RGBA images\n",
            "  warnings.warn(\n"
          ]
        },
        {
          "output_type": "stream",
          "name": "stdout",
          "text": [
            "train Loss: 0.4161 Acc: 0.8354\n",
            "test Loss: 0.0191 Acc: 1.0000\n",
            "\n",
            "Epoch 12/24\n",
            "----------\n"
          ]
        },
        {
          "output_type": "stream",
          "name": "stderr",
          "text": [
            "/usr/local/lib/python3.10/dist-packages/PIL/Image.py:996: UserWarning: Palette images with Transparency expressed in bytes should be converted to RGBA images\n",
            "  warnings.warn(\n"
          ]
        },
        {
          "output_type": "stream",
          "name": "stdout",
          "text": [
            "train Loss: 0.4190 Acc: 0.8354\n",
            "test Loss: 0.0118 Acc: 1.0000\n",
            "\n",
            "Epoch 13/24\n",
            "----------\n"
          ]
        },
        {
          "output_type": "stream",
          "name": "stderr",
          "text": [
            "/usr/local/lib/python3.10/dist-packages/PIL/Image.py:996: UserWarning: Palette images with Transparency expressed in bytes should be converted to RGBA images\n",
            "  warnings.warn(\n"
          ]
        },
        {
          "output_type": "stream",
          "name": "stdout",
          "text": [
            "train Loss: 0.3243 Acc: 0.8776\n",
            "test Loss: 0.0094 Acc: 1.0000\n",
            "\n",
            "Epoch 14/24\n",
            "----------\n"
          ]
        },
        {
          "output_type": "stream",
          "name": "stderr",
          "text": [
            "/usr/local/lib/python3.10/dist-packages/PIL/Image.py:996: UserWarning: Palette images with Transparency expressed in bytes should be converted to RGBA images\n",
            "  warnings.warn(\n"
          ]
        },
        {
          "output_type": "stream",
          "name": "stdout",
          "text": [
            "train Loss: 0.4349 Acc: 0.7975\n",
            "test Loss: 0.0124 Acc: 1.0000\n",
            "\n",
            "Epoch 15/24\n",
            "----------\n"
          ]
        },
        {
          "output_type": "stream",
          "name": "stderr",
          "text": [
            "/usr/local/lib/python3.10/dist-packages/PIL/Image.py:996: UserWarning: Palette images with Transparency expressed in bytes should be converted to RGBA images\n",
            "  warnings.warn(\n"
          ]
        },
        {
          "output_type": "stream",
          "name": "stdout",
          "text": [
            "train Loss: 0.5736 Acc: 0.7722\n",
            "test Loss: 0.0371 Acc: 1.0000\n",
            "\n",
            "Epoch 16/24\n",
            "----------\n"
          ]
        },
        {
          "output_type": "stream",
          "name": "stderr",
          "text": [
            "/usr/local/lib/python3.10/dist-packages/PIL/Image.py:996: UserWarning: Palette images with Transparency expressed in bytes should be converted to RGBA images\n",
            "  warnings.warn(\n"
          ]
        },
        {
          "output_type": "stream",
          "name": "stdout",
          "text": [
            "train Loss: 0.3777 Acc: 0.8481\n",
            "test Loss: 0.0149 Acc: 1.0000\n",
            "\n",
            "Epoch 17/24\n",
            "----------\n"
          ]
        },
        {
          "output_type": "stream",
          "name": "stderr",
          "text": [
            "/usr/local/lib/python3.10/dist-packages/PIL/Image.py:996: UserWarning: Palette images with Transparency expressed in bytes should be converted to RGBA images\n",
            "  warnings.warn(\n"
          ]
        },
        {
          "output_type": "stream",
          "name": "stdout",
          "text": [
            "train Loss: 0.2936 Acc: 0.8734\n",
            "test Loss: 0.0067 Acc: 1.0000\n",
            "\n",
            "Epoch 18/24\n",
            "----------\n"
          ]
        },
        {
          "output_type": "stream",
          "name": "stderr",
          "text": [
            "/usr/local/lib/python3.10/dist-packages/PIL/Image.py:996: UserWarning: Palette images with Transparency expressed in bytes should be converted to RGBA images\n",
            "  warnings.warn(\n"
          ]
        },
        {
          "output_type": "stream",
          "name": "stdout",
          "text": [
            "train Loss: 0.4239 Acc: 0.8608\n",
            "test Loss: 0.0251 Acc: 1.0000\n",
            "\n",
            "Epoch 19/24\n",
            "----------\n"
          ]
        },
        {
          "output_type": "stream",
          "name": "stderr",
          "text": [
            "/usr/local/lib/python3.10/dist-packages/PIL/Image.py:996: UserWarning: Palette images with Transparency expressed in bytes should be converted to RGBA images\n",
            "  warnings.warn(\n"
          ]
        },
        {
          "output_type": "stream",
          "name": "stdout",
          "text": [
            "train Loss: 0.4216 Acc: 0.8481\n",
            "test Loss: 0.0095 Acc: 1.0000\n",
            "\n",
            "Epoch 20/24\n",
            "----------\n"
          ]
        },
        {
          "output_type": "stream",
          "name": "stderr",
          "text": [
            "/usr/local/lib/python3.10/dist-packages/PIL/Image.py:996: UserWarning: Palette images with Transparency expressed in bytes should be converted to RGBA images\n",
            "  warnings.warn(\n"
          ]
        },
        {
          "output_type": "stream",
          "name": "stdout",
          "text": [
            "train Loss: 0.3833 Acc: 0.8523\n",
            "test Loss: 0.0242 Acc: 1.0000\n",
            "\n",
            "Epoch 21/24\n",
            "----------\n"
          ]
        },
        {
          "output_type": "stream",
          "name": "stderr",
          "text": [
            "/usr/local/lib/python3.10/dist-packages/PIL/Image.py:996: UserWarning: Palette images with Transparency expressed in bytes should be converted to RGBA images\n",
            "  warnings.warn(\n"
          ]
        },
        {
          "output_type": "stream",
          "name": "stdout",
          "text": [
            "train Loss: 0.4923 Acc: 0.8143\n",
            "test Loss: 0.0153 Acc: 1.0000\n",
            "\n",
            "Epoch 22/24\n",
            "----------\n"
          ]
        },
        {
          "output_type": "stream",
          "name": "stderr",
          "text": [
            "/usr/local/lib/python3.10/dist-packages/PIL/Image.py:996: UserWarning: Palette images with Transparency expressed in bytes should be converted to RGBA images\n",
            "  warnings.warn(\n"
          ]
        },
        {
          "output_type": "stream",
          "name": "stdout",
          "text": [
            "train Loss: 0.3793 Acc: 0.8650\n",
            "test Loss: 0.0102 Acc: 1.0000\n",
            "\n",
            "Epoch 23/24\n",
            "----------\n"
          ]
        },
        {
          "output_type": "stream",
          "name": "stderr",
          "text": [
            "/usr/local/lib/python3.10/dist-packages/PIL/Image.py:996: UserWarning: Palette images with Transparency expressed in bytes should be converted to RGBA images\n",
            "  warnings.warn(\n"
          ]
        },
        {
          "output_type": "stream",
          "name": "stdout",
          "text": [
            "train Loss: 0.4398 Acc: 0.8397\n",
            "test Loss: 0.0138 Acc: 1.0000\n",
            "\n",
            "Epoch 24/24\n",
            "----------\n"
          ]
        },
        {
          "output_type": "stream",
          "name": "stderr",
          "text": [
            "/usr/local/lib/python3.10/dist-packages/PIL/Image.py:996: UserWarning: Palette images with Transparency expressed in bytes should be converted to RGBA images\n",
            "  warnings.warn(\n"
          ]
        },
        {
          "output_type": "stream",
          "name": "stdout",
          "text": [
            "train Loss: 0.4219 Acc: 0.8059\n",
            "test Loss: 0.0117 Acc: 1.0000\n",
            "\n",
            "Training complete in 3m 6s\n",
            "Best test Acc: 1.000000\n"
          ]
        }
      ]
    },
    {
      "cell_type": "code",
      "source": [],
      "metadata": {
        "id": "I2alJZungBn_"
      },
      "execution_count": null,
      "outputs": []
    }
  ]
}